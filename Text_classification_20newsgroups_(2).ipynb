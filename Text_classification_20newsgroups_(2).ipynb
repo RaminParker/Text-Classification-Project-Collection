{
  "nbformat": 4,
  "nbformat_minor": 0,
  "metadata": {
    "colab": {
      "name": "Text classification: 20newsgroups (2)",
      "provenance": [],
      "authorship_tag": "ABX9TyOn5Ai2DPkqv1SDPW/hcy1u",
      "include_colab_link": true
    },
    "kernelspec": {
      "name": "python3",
      "display_name": "Python 3"
    }
  },
  "cells": [
    {
      "cell_type": "markdown",
      "metadata": {
        "id": "view-in-github",
        "colab_type": "text"
      },
      "source": [
        "<a href=\"https://colab.research.google.com/github/RaminParker/Text-Classification-with-Python/blob/master/Text_classification_20newsgroups_(2).ipynb\" target=\"_parent\"><img src=\"https://colab.research.google.com/assets/colab-badge.svg\" alt=\"Open In Colab\"/></a>"
      ]
    },
    {
      "cell_type": "markdown",
      "metadata": {
        "id": "cHyX7RT80NsE",
        "colab_type": "text"
      },
      "source": [
        "This is part 2 of the news article classification. Check out [part 1](https://github.com/RaminParker/Text-Classification-with-Python/blob/master/Text_Classification_using_scikit_learn_(1).ipynb)"
      ]
    },
    {
      "cell_type": "code",
      "metadata": {
        "id": "rcmdndAJ0K0U",
        "colab_type": "code",
        "colab": {}
      },
      "source": [
        "import os\n",
        "import string\n",
        "import numpy as np\n",
        "import matplotlib.pyplot as plt\n",
        "\n",
        "from sklearn import model_selection\n",
        "from sklearn.naive_bayes import MultinomialNB\n",
        "from sklearn.metrics import classification_report\n",
        "from sklearn.pipeline import make_pipeline\n",
        "from imblearn.pipeline import make_pipeline as make_pipeline_imb\n",
        "from sklearn.feature_extraction.text import TfidfVectorizer\n",
        "\n",
        "from imblearn.metrics import classification_report_imbalanced\n",
        "from imblearn.under_sampling import RandomUnderSampler\n",
        "\n",
        "from sklearn.datasets import fetch_20newsgroups\n",
        "from collections import Counter"
      ],
      "execution_count": 0,
      "outputs": []
    },
    {
      "cell_type": "markdown",
      "metadata": {
        "id": "PgiFSrC9LTOK",
        "colab_type": "text"
      },
      "source": [
        "Define categories which you are interested in:"
      ]
    },
    {
      "cell_type": "code",
      "metadata": {
        "id": "_5nArFOZ5caL",
        "colab_type": "code",
        "colab": {}
      },
      "source": [
        "# categories = ['alt.atheism',\n",
        "#  'comp.graphics',\n",
        "#  'comp.os.ms-windows.misc',\n",
        "#  'comp.sys.ibm.pc.hardware',\n",
        "#  'comp.sys.mac.hardware',\n",
        "#  'comp.windows.x',\n",
        "#  'misc.forsale',\n",
        "#  'rec.autos',\n",
        "#  'rec.motorcycles',\n",
        "#  'rec.sport.baseball',\n",
        "#  'rec.sport.hockey',\n",
        "#  'sci.crypt',\n",
        "#  'sci.electronics',\n",
        "#  'sci.med',\n",
        "#  'sci.space',\n",
        "#  'soc.religion.christian',\n",
        "#  'talk.politics.guns',\n",
        "#  'talk.politics.mideast',\n",
        "#  'talk.politics.misc',\n",
        "#  'talk.religion.misc']\n",
        "\n",
        "categories = ['alt.atheism', 'talk.religion.misc', 'comp.graphics', 'sci.space']"
      ],
      "execution_count": 0,
      "outputs": []
    },
    {
      "cell_type": "code",
      "metadata": {
        "id": "Cj97YgVY5oNc",
        "colab_type": "code",
        "colab": {}
      },
      "source": [
        "newsgroups_train = fetch_20newsgroups(subset='train', categories=categories)\n",
        "newsgroups_test = fetch_20newsgroups(subset='test', categories=categories)"
      ],
      "execution_count": 0,
      "outputs": []
    },
    {
      "cell_type": "markdown",
      "metadata": {
        "id": "QE6Uyd10LQch",
        "colab_type": "text"
      },
      "source": [
        "Look at the data:"
      ]
    },
    {
      "cell_type": "code",
      "metadata": {
        "id": "m6mQdjn_6Ohk",
        "colab_type": "code",
        "outputId": "f6518081-f583-4cda-c4f5-c9cdc932b601",
        "colab": {
          "base_uri": "https://localhost:8080/",
          "height": 126
        }
      },
      "source": [
        "print(newsgroups_train.data[0][:80])\n",
        "print(newsgroups_train.data[1][:80])\n",
        "print(newsgroups_train.data[2][:80])"
      ],
      "execution_count": 0,
      "outputs": [
        {
          "output_type": "stream",
          "text": [
            "From: rych@festival.ed.ac.uk (R Hawkes)\n",
            "Subject: 3DS: Where did all the texture \n",
            "Subject: Re: Biblical Backing of Koresh's 3-02 Tape (Cites enclosed)\n",
            "From: kmcva\n",
            "From: Mark.Perew@p201.f208.n103.z1.fidonet.org\n",
            "Subject: Re: Comet in Temporary O\n"
          ],
          "name": "stdout"
        }
      ]
    },
    {
      "cell_type": "markdown",
      "metadata": {
        "id": "txQBVHENLjjL",
        "colab_type": "text"
      },
      "source": [
        "Split data:"
      ]
    },
    {
      "cell_type": "code",
      "metadata": {
        "id": "DYwL7jqd5vnd",
        "colab_type": "code",
        "colab": {}
      },
      "source": [
        "X_train = newsgroups_train.data\n",
        "X_test = newsgroups_test.data\n",
        "\n",
        "y_train = newsgroups_train.target\n",
        "y_test = newsgroups_test.target"
      ],
      "execution_count": 0,
      "outputs": []
    },
    {
      "cell_type": "code",
      "metadata": {
        "id": "la9bjXg-iJZP",
        "colab_type": "code",
        "outputId": "ff6d6be1-e78a-479b-8bbd-41f3a519ad7b",
        "colab": {
          "base_uri": "https://localhost:8080/",
          "height": 55
        }
      },
      "source": [
        "X_train[1]"
      ],
      "execution_count": 0,
      "outputs": [
        {
          "output_type": "execute_result",
          "data": {
            "text/plain": [
              "\"Subject: Re: Biblical Backing of Koresh's 3-02 Tape (Cites enclosed)\\nFrom: kmcvay@oneb.almanac.bc.ca (Ken Mcvay)\\nOrganization: The Old Frog's Almanac\\nLines: 20\\n\\nIn article <20APR199301460499@utarlg.uta.edu> b645zaw@utarlg.uta.edu (stephen) writes:\\n\\n>Seems to me Koresh is yet another messenger that got killed\\n>for the message he carried. (Which says nothing about the \\n\\nSeems to be, barring evidence to the contrary, that Koresh was simply\\nanother deranged fanatic who thought it neccessary to take a whole bunch of\\nfolks with him, children and all, to satisfy his delusional mania. Jim\\nJones, circa 1993.\\n\\n>In the mean time, we sure learned a lot about evil and corruption.\\n>Are you surprised things have gotten that rotten?\\n\\nNope - fruitcakes like Koresh have been demonstrating such evil corruption\\nfor centuries.\\n-- \\nThe Old Frog's Almanac - A Salute to That Old Frog Hisse'f, Ryugen Fisher \\n     (604) 245-3205 (v32) (604) 245-4366 (2400x4) SCO XENIX 2.3.2 GT \\n  Ladysmith, British Columbia, CANADA. Serving Central Vancouver Island  \\nwith public access UseNet and Internet Mail - home to the Holocaust Almanac\\n\""
            ]
          },
          "metadata": {
            "tags": []
          },
          "execution_count": 96
        }
      ]
    },
    {
      "cell_type": "code",
      "metadata": {
        "id": "jtvkw5DYhj7O",
        "colab_type": "code",
        "outputId": "1f250bee-ea45-422c-b020-8b9683d60b59",
        "colab": {
          "base_uri": "https://localhost:8080/",
          "height": 35
        }
      },
      "source": [
        "X_train[1].split()[0] # exctract every single word "
      ],
      "execution_count": 0,
      "outputs": [
        {
          "output_type": "execute_result",
          "data": {
            "text/plain": [
              "'Subject:'"
            ]
          },
          "metadata": {
            "tags": []
          },
          "execution_count": 97
        }
      ]
    },
    {
      "cell_type": "markdown",
      "metadata": {
        "id": "HqGcTBrhpshr",
        "colab_type": "text"
      },
      "source": [
        "The data comes as a dictonary:"
      ]
    },
    {
      "cell_type": "code",
      "metadata": {
        "id": "lYBIlJkGpVh5",
        "colab_type": "code",
        "colab": {}
      },
      "source": [
        "# newsgroups_train "
      ],
      "execution_count": 0,
      "outputs": []
    },
    {
      "cell_type": "code",
      "metadata": {
        "id": "EyiS4itCph7L",
        "colab_type": "code",
        "outputId": "6722cf48-50ae-4fd9-ec80-7ece9f1ba4a7",
        "colab": {
          "base_uri": "https://localhost:8080/",
          "height": 35
        }
      },
      "source": [
        "print(newsgroups_train.keys()) # get the keys of dictonary"
      ],
      "execution_count": 0,
      "outputs": [
        {
          "output_type": "stream",
          "text": [
            "dict_keys(['data', 'filenames', 'target_names', 'target', 'DESCR'])\n"
          ],
          "name": "stdout"
        }
      ]
    },
    {
      "cell_type": "code",
      "metadata": {
        "id": "JP2jcqHtp1h9",
        "colab_type": "code",
        "outputId": "3a85f5e1-16e1-4c58-ef2b-022ed9af5a94",
        "colab": {
          "base_uri": "https://localhost:8080/",
          "height": 35
        }
      },
      "source": [
        "print(newsgroups_train.target_names)"
      ],
      "execution_count": 0,
      "outputs": [
        {
          "output_type": "stream",
          "text": [
            "['alt.atheism', 'comp.graphics', 'sci.space', 'talk.religion.misc']\n"
          ],
          "name": "stdout"
        }
      ]
    },
    {
      "cell_type": "markdown",
      "metadata": {
        "id": "nFZ6luVUMhYM",
        "colab_type": "text"
      },
      "source": [
        "# The usual scikit-learn pipeline"
      ]
    },
    {
      "cell_type": "code",
      "metadata": {
        "id": "JAPegO_iLmgQ",
        "colab_type": "code",
        "colab": {}
      },
      "source": [
        "pipe = make_pipeline(TfidfVectorizer(), MultinomialNB()) # build pipeline"
      ],
      "execution_count": 0,
      "outputs": []
    },
    {
      "cell_type": "code",
      "metadata": {
        "id": "OOa0CfrtLqYo",
        "colab_type": "code",
        "outputId": "4c87435b-0127-49de-9a78-a59deca7c3ef",
        "colab": {
          "base_uri": "https://localhost:8080/",
          "height": 326
        }
      },
      "source": [
        "pipe.fit(X_train, y_train) # fit to data"
      ],
      "execution_count": 0,
      "outputs": [
        {
          "output_type": "execute_result",
          "data": {
            "text/plain": [
              "Pipeline(memory=None,\n",
              "         steps=[('tfidfvectorizer',\n",
              "                 TfidfVectorizer(analyzer='word', binary=False,\n",
              "                                 decode_error='strict',\n",
              "                                 dtype=<class 'numpy.float64'>,\n",
              "                                 encoding='utf-8', input='content',\n",
              "                                 lowercase=True, max_df=1.0, max_features=None,\n",
              "                                 min_df=1, ngram_range=(1, 1), norm='l2',\n",
              "                                 preprocessor=None, smooth_idf=True,\n",
              "                                 stop_words=None, strip_accents=None,\n",
              "                                 sublinear_tf=False,\n",
              "                                 token_pattern='(?u)\\\\b\\\\w\\\\w+\\\\b',\n",
              "                                 tokenizer=None, use_idf=True,\n",
              "                                 vocabulary=None)),\n",
              "                ('multinomialnb',\n",
              "                 MultinomialNB(alpha=1.0, class_prior=None, fit_prior=True))],\n",
              "         verbose=False)"
            ]
          },
          "metadata": {
            "tags": []
          },
          "execution_count": 84
        }
      ]
    },
    {
      "cell_type": "code",
      "metadata": {
        "id": "eD-h5UkwLvYp",
        "colab_type": "code",
        "colab": {}
      },
      "source": [
        "y_pred = pipe.predict(X_test)"
      ],
      "execution_count": 0,
      "outputs": []
    },
    {
      "cell_type": "code",
      "metadata": {
        "id": "Lf7SmqPfJ8UX",
        "colab_type": "code",
        "outputId": "fcfb9497-e34c-4128-eaf9-252dd3e0b42f",
        "colab": {
          "base_uri": "https://localhost:8080/",
          "height": 181
        }
      },
      "source": [
        "print(classification_report_imbalanced(y_test, y_pred)) # classification report "
      ],
      "execution_count": 0,
      "outputs": [
        {
          "output_type": "stream",
          "text": [
            "                   pre       rec       spe        f1       geo       iba       sup\n",
            "\n",
            "          0       0.67      0.94      0.86      0.79      0.90      0.82       319\n",
            "          1       0.96      0.92      0.99      0.94      0.95      0.90       389\n",
            "          2       0.87      0.98      0.94      0.92      0.96      0.92       394\n",
            "          3       0.97      0.36      1.00      0.52      0.60      0.33       251\n",
            "\n",
            "avg / total       0.87      0.84      0.94      0.82      0.88      0.78      1353\n",
            "\n"
          ],
          "name": "stdout"
        }
      ]
    },
    {
      "cell_type": "markdown",
      "metadata": {
        "id": "H_L-XHpaL6WQ",
        "colab_type": "text"
      },
      "source": [
        "-- > The recall of the class #3 is low mainly due to the class imbalanced."
      ]
    },
    {
      "cell_type": "markdown",
      "metadata": {
        "id": "gHslhCNzMniR",
        "colab_type": "text"
      },
      "source": [
        "# Balancing the class before classification\n",
        "\n",
        "Improve prediction of the class #3: apply a balancing before to train the naive bayes classifier. \n",
        "\n",
        "--> **RandomUnderSampler** to equalize the number of samples in all the classes before the training."
      ]
    },
    {
      "cell_type": "code",
      "metadata": {
        "id": "bzBkGUP8-Ty9",
        "colab_type": "code",
        "colab": {}
      },
      "source": [
        "pipe = make_pipeline_imb(TfidfVectorizer(), RandomUnderSampler(), MultinomialNB())  # build pipeline"
      ],
      "execution_count": 0,
      "outputs": []
    },
    {
      "cell_type": "code",
      "metadata": {
        "id": "2mfMdqSYNOjT",
        "colab_type": "code",
        "outputId": "21be56d0-2c3e-4a57-a997-169d45d6f2b2",
        "colab": {
          "base_uri": "https://localhost:8080/",
          "height": 435
        }
      },
      "source": [
        "pipe.fit(X_train, y_train) # fit to data"
      ],
      "execution_count": 0,
      "outputs": [
        {
          "output_type": "stream",
          "text": [
            "/usr/local/lib/python3.6/dist-packages/sklearn/utils/deprecation.py:87: FutureWarning: Function safe_indexing is deprecated; safe_indexing is deprecated in version 0.22 and will be removed in version 0.24.\n",
            "  warnings.warn(msg, category=FutureWarning)\n"
          ],
          "name": "stderr"
        },
        {
          "output_type": "execute_result",
          "data": {
            "text/plain": [
              "Pipeline(memory=None,\n",
              "         steps=[('tfidfvectorizer',\n",
              "                 TfidfVectorizer(analyzer='word', binary=False,\n",
              "                                 decode_error='strict',\n",
              "                                 dtype=<class 'numpy.float64'>,\n",
              "                                 encoding='utf-8', input='content',\n",
              "                                 lowercase=True, max_df=1.0, max_features=None,\n",
              "                                 min_df=1, ngram_range=(1, 1), norm='l2',\n",
              "                                 preprocessor=None, smooth_idf=True,\n",
              "                                 stop_words=None, strip_accents=None,\n",
              "                                 sublinear_tf=False,\n",
              "                                 token_pattern='(?u)\\\\b\\\\w\\\\w+\\\\b',\n",
              "                                 tokenizer=None, use_idf=True,\n",
              "                                 vocabulary=None)),\n",
              "                ('randomundersampler',\n",
              "                 RandomUnderSampler(random_state=None, ratio=None,\n",
              "                                    replacement=False, return_indices=False,\n",
              "                                    sampling_strategy='auto')),\n",
              "                ('multinomialnb',\n",
              "                 MultinomialNB(alpha=1.0, class_prior=None, fit_prior=True))],\n",
              "         verbose=False)"
            ]
          },
          "metadata": {
            "tags": []
          },
          "execution_count": 88
        }
      ]
    },
    {
      "cell_type": "code",
      "metadata": {
        "id": "ZFsmGailNPwy",
        "colab_type": "code",
        "colab": {}
      },
      "source": [
        "y_pred = pipe.predict(X_test) # classification report "
      ],
      "execution_count": 0,
      "outputs": []
    },
    {
      "cell_type": "code",
      "metadata": {
        "id": "VE_5Y1-9NXGq",
        "colab_type": "code",
        "outputId": "93cffc5f-46b4-462e-bff3-4e4ddfd865fd",
        "colab": {
          "base_uri": "https://localhost:8080/",
          "height": 181
        }
      },
      "source": [
        "print(classification_report_imbalanced(y_test, y_pred))"
      ],
      "execution_count": 0,
      "outputs": [
        {
          "output_type": "stream",
          "text": [
            "                   pre       rec       spe        f1       geo       iba       sup\n",
            "\n",
            "          0       0.69      0.91      0.87      0.78      0.89      0.79       319\n",
            "          1       0.97      0.85      0.99      0.91      0.92      0.83       389\n",
            "          2       0.96      0.88      0.98      0.92      0.93      0.86       394\n",
            "          3       0.80      0.73      0.96      0.76      0.84      0.69       251\n",
            "\n",
            "avg / total       0.87      0.85      0.95      0.85      0.90      0.80      1353\n",
            "\n"
          ],
          "name": "stdout"
        }
      ]
    },
    {
      "cell_type": "markdown",
      "metadata": {
        "id": "HOiwktdoOMxu",
        "colab_type": "text"
      },
      "source": [
        "Although the results are almost identical, it can be seen that the resampling allowed to correct the poor recall of the class #3 at the cost of reducing the other metrics for the other classes. However, the overall results are slightly better."
      ]
    }
  ]
}