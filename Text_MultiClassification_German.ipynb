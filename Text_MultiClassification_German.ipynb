{
  "nbformat": 4,
  "nbformat_minor": 0,
  "metadata": {
    "colab": {
      "name": "Text_MultiClassification_German.ipynb",
      "provenance": [],
      "collapsed_sections": [],
      "include_colab_link": true
    },
    "kernelspec": {
      "name": "python3",
      "display_name": "Python 3"
    },
    "accelerator": "GPU"
  },
  "cells": [
    {
      "cell_type": "markdown",
      "metadata": {
        "id": "view-in-github",
        "colab_type": "text"
      },
      "source": [
        "<a href=\"https://colab.research.google.com/github/RaminParker/Text-Classification-with-German-dataset/blob/master/Text_MultiClassification_German.ipynb\" target=\"_parent\"><img src=\"https://colab.research.google.com/assets/colab-badge.svg\" alt=\"Open In Colab\"/></a>"
      ]
    },
    {
      "cell_type": "markdown",
      "metadata": {
        "id": "z561z-ZGdxHX",
        "colab_type": "text"
      },
      "source": [
        "# Sentiment Classification with Naive Bayes\n",
        "\n",
        "This notebook uses the techniques represented in the following video:\n",
        "- [video 1](https://www.youtube.com/watch?v=hp2ipC5pW4I&list=PLtmWHNX-gukKocXQOkQjuVxglSDYWsSh9&index=4)\n",
        "- [video 2](https://www.youtube.com/watch?v=dt7sArnLo1g&list=PLtmWHNX-gukKocXQOkQjuVxglSDYWsSh9&index=5)\n",
        "\n",
        "I am following the same basic steps. \n",
        "However, many steps had to be addapted to fit this particular use case. Further resources that I used are linked in the text below."
      ]
    },
    {
      "cell_type": "markdown",
      "metadata": {
        "id": "arj6HKQQ5Df-",
        "colab_type": "text"
      },
      "source": [
        "## Links"
      ]
    },
    {
      "cell_type": "markdown",
      "metadata": {
        "id": "XWduF-5f5He_",
        "colab_type": "text"
      },
      "source": [
        "- [Using FastAI’s ULMFiT to make a state-of-the-art multi-class text classifier](https://medium.com/technonerds/using-fastais-ulmfit-to-make-a-state-of-the-art-multi-label-text-classifier-bf54e2943e83)\n",
        "- [Using the fastai Data Block API](https://medium.com/@tmckenzie.nz/using-the-fastai-data-block-api-b4818e72155b)"
      ]
    },
    {
      "cell_type": "code",
      "metadata": {
        "id": "6F8-eenppTHc",
        "colab_type": "code",
        "colab": {}
      },
      "source": [
        "from fastai import *\n",
        "from fastai.text import *\n",
        "import pandas as pd\n",
        "import numpy as np\n",
        "\n",
        "from sklearn.model_selection import train_test_split"
      ],
      "execution_count": 0,
      "outputs": []
    },
    {
      "cell_type": "code",
      "metadata": {
        "id": "cPTu79N4rTli",
        "colab_type": "code",
        "colab": {}
      },
      "source": [
        "import sklearn.feature_extraction.text as sklearn_text"
      ],
      "execution_count": 0,
      "outputs": []
    },
    {
      "cell_type": "code",
      "metadata": {
        "id": "vJclmfANwwBa",
        "colab_type": "code",
        "colab": {}
      },
      "source": [
        "%reload_ext autoreload\n",
        "%autoreload 2\n",
        "%matplotlib inline"
      ],
      "execution_count": 0,
      "outputs": []
    },
    {
      "cell_type": "code",
      "metadata": {
        "id": "X42_B_XcpWz3",
        "colab_type": "code",
        "outputId": "3f803284-b4b6-4bb0-beb2-e68f9f504271",
        "colab": {
          "base_uri": "https://localhost:8080/",
          "height": 35
        }
      },
      "source": [
        "from google.colab import drive\n",
        "drive.mount('/content/gdrive')"
      ],
      "execution_count": 571,
      "outputs": [
        {
          "output_type": "stream",
          "text": [
            "Drive already mounted at /content/gdrive; to attempt to forcibly remount, call drive.mount(\"/content/gdrive\", force_remount=True).\n"
          ],
          "name": "stdout"
        }
      ]
    },
    {
      "cell_type": "markdown",
      "metadata": {
        "id": "BbsNPNcawzev",
        "colab_type": "text"
      },
      "source": [
        "## Import data"
      ]
    },
    {
      "cell_type": "code",
      "metadata": {
        "id": "c18kaHFKrKPh",
        "colab_type": "code",
        "colab": {}
      },
      "source": [
        "path = 'gdrive/My Drive/Arbeit/TeamBank_Work/'"
      ],
      "execution_count": 0,
      "outputs": []
    },
    {
      "cell_type": "code",
      "metadata": {
        "id": "HPJsh1mnroa1",
        "colab_type": "code",
        "colab": {}
      },
      "source": [
        "#nrows = None     # read all rows of dataset\n",
        "nrows = 4000\n",
        "\n",
        "df = pd.read_csv(path + 'GermanArticles.csv', sep='\\t', names=['text'], header=None, nrows=nrows)"
      ],
      "execution_count": 0,
      "outputs": []
    },
    {
      "cell_type": "code",
      "metadata": {
        "id": "9oZkhzWdwDfu",
        "colab_type": "code",
        "outputId": "ef9e38f2-24cc-41ed-e9c2-ff9153d2620b",
        "colab": {
          "base_uri": "https://localhost:8080/",
          "height": 198
        }
      },
      "source": [
        "df.head()"
      ],
      "execution_count": 574,
      "outputs": [
        {
          "output_type": "execute_result",
          "data": {
            "text/html": [
              "<div>\n",
              "<style scoped>\n",
              "    .dataframe tbody tr th:only-of-type {\n",
              "        vertical-align: middle;\n",
              "    }\n",
              "\n",
              "    .dataframe tbody tr th {\n",
              "        vertical-align: top;\n",
              "    }\n",
              "\n",
              "    .dataframe thead th {\n",
              "        text-align: right;\n",
              "    }\n",
              "</style>\n",
              "<table border=\"1\" class=\"dataframe\">\n",
              "  <thead>\n",
              "    <tr style=\"text-align: right;\">\n",
              "      <th></th>\n",
              "      <th>text</th>\n",
              "    </tr>\n",
              "  </thead>\n",
              "  <tbody>\n",
              "    <tr>\n",
              "      <th>0</th>\n",
              "      <td>Etat;Die ARD-Tochter Degeto hat sich verpflich...</td>\n",
              "    </tr>\n",
              "    <tr>\n",
              "      <th>1</th>\n",
              "      <td>Etat;App sei nicht so angenommen worden wie ge...</td>\n",
              "    </tr>\n",
              "    <tr>\n",
              "      <th>2</th>\n",
              "      <td>Etat;'Zum Welttag der Suizidprävention ist es ...</td>\n",
              "    </tr>\n",
              "    <tr>\n",
              "      <th>3</th>\n",
              "      <td>Etat;Mitarbeiter überreichten Eigentümervertre...</td>\n",
              "    </tr>\n",
              "    <tr>\n",
              "      <th>4</th>\n",
              "      <td>Etat;Service: Jobwechsel in der Kommunikations...</td>\n",
              "    </tr>\n",
              "  </tbody>\n",
              "</table>\n",
              "</div>"
            ],
            "text/plain": [
              "                                                text\n",
              "0  Etat;Die ARD-Tochter Degeto hat sich verpflich...\n",
              "1  Etat;App sei nicht so angenommen worden wie ge...\n",
              "2  Etat;'Zum Welttag der Suizidprävention ist es ...\n",
              "3  Etat;Mitarbeiter überreichten Eigentümervertre...\n",
              "4  Etat;Service: Jobwechsel in der Kommunikations..."
            ]
          },
          "metadata": {
            "tags": []
          },
          "execution_count": 574
        }
      ]
    },
    {
      "cell_type": "markdown",
      "metadata": {
        "id": "KoLVJ97Hw5XZ",
        "colab_type": "text"
      },
      "source": [
        "## Bring dataset into the correct form"
      ]
    },
    {
      "cell_type": "markdown",
      "metadata": {
        "id": "UlBS4UEqCVxO",
        "colab_type": "text"
      },
      "source": [
        "### Change columns"
      ]
    },
    {
      "cell_type": "code",
      "metadata": {
        "id": "j81PXekHwTcE",
        "colab_type": "code",
        "colab": {}
      },
      "source": [
        "# dropping null value columns to avoid errors \n",
        "df.dropna(inplace = True) "
      ],
      "execution_count": 0,
      "outputs": []
    },
    {
      "cell_type": "code",
      "metadata": {
        "id": "QlQ2-cijwFu0",
        "colab_type": "code",
        "colab": {}
      },
      "source": [
        "# new data frame with split value columns \n",
        "new = df[\"text\"].str.split(\";\", n = 1, expand = True)  # Expand the splitted strings into separate columns: True"
      ],
      "execution_count": 0,
      "outputs": []
    },
    {
      "cell_type": "code",
      "metadata": {
        "id": "uNYfoW2dt5d8",
        "colab_type": "code",
        "outputId": "e28d095e-4d23-49f6-98d9-3c1d0d516341",
        "colab": {
          "base_uri": "https://localhost:8080/",
          "height": 108
        }
      },
      "source": [
        "new.head(2)"
      ],
      "execution_count": 577,
      "outputs": [
        {
          "output_type": "execute_result",
          "data": {
            "text/html": [
              "<div>\n",
              "<style scoped>\n",
              "    .dataframe tbody tr th:only-of-type {\n",
              "        vertical-align: middle;\n",
              "    }\n",
              "\n",
              "    .dataframe tbody tr th {\n",
              "        vertical-align: top;\n",
              "    }\n",
              "\n",
              "    .dataframe thead th {\n",
              "        text-align: right;\n",
              "    }\n",
              "</style>\n",
              "<table border=\"1\" class=\"dataframe\">\n",
              "  <thead>\n",
              "    <tr style=\"text-align: right;\">\n",
              "      <th></th>\n",
              "      <th>0</th>\n",
              "      <th>1</th>\n",
              "    </tr>\n",
              "  </thead>\n",
              "  <tbody>\n",
              "    <tr>\n",
              "      <th>0</th>\n",
              "      <td>Etat</td>\n",
              "      <td>Die ARD-Tochter Degeto hat sich verpflichtet, ...</td>\n",
              "    </tr>\n",
              "    <tr>\n",
              "      <th>1</th>\n",
              "      <td>Etat</td>\n",
              "      <td>App sei nicht so angenommen worden wie geplant...</td>\n",
              "    </tr>\n",
              "  </tbody>\n",
              "</table>\n",
              "</div>"
            ],
            "text/plain": [
              "      0                                                  1\n",
              "0  Etat  Die ARD-Tochter Degeto hat sich verpflichtet, ...\n",
              "1  Etat  App sei nicht so angenommen worden wie geplant..."
            ]
          },
          "metadata": {
            "tags": []
          },
          "execution_count": 577
        }
      ]
    },
    {
      "cell_type": "code",
      "metadata": {
        "id": "8Hg6o_c3twEs",
        "colab_type": "code",
        "colab": {}
      },
      "source": [
        " # making separate first name column from new data frame \n",
        "df[\"label\"]= new[0] \n",
        "  \n",
        "# making separate last name column from new data frame \n",
        "df[\"content\"]= new[1] \n",
        "  \n",
        "# Dropping old Name columns \n",
        "df.drop(columns =[\"text\"], inplace = True) "
      ],
      "execution_count": 0,
      "outputs": []
    },
    {
      "cell_type": "code",
      "metadata": {
        "id": "rutBEZ8uvBkr",
        "colab_type": "code",
        "outputId": "5272a575-7beb-48a9-b093-1e70a6c8164f",
        "colab": {
          "base_uri": "https://localhost:8080/",
          "height": 108
        }
      },
      "source": [
        "df.head(2)"
      ],
      "execution_count": 579,
      "outputs": [
        {
          "output_type": "execute_result",
          "data": {
            "text/html": [
              "<div>\n",
              "<style scoped>\n",
              "    .dataframe tbody tr th:only-of-type {\n",
              "        vertical-align: middle;\n",
              "    }\n",
              "\n",
              "    .dataframe tbody tr th {\n",
              "        vertical-align: top;\n",
              "    }\n",
              "\n",
              "    .dataframe thead th {\n",
              "        text-align: right;\n",
              "    }\n",
              "</style>\n",
              "<table border=\"1\" class=\"dataframe\">\n",
              "  <thead>\n",
              "    <tr style=\"text-align: right;\">\n",
              "      <th></th>\n",
              "      <th>label</th>\n",
              "      <th>content</th>\n",
              "    </tr>\n",
              "  </thead>\n",
              "  <tbody>\n",
              "    <tr>\n",
              "      <th>0</th>\n",
              "      <td>Etat</td>\n",
              "      <td>Die ARD-Tochter Degeto hat sich verpflichtet, ...</td>\n",
              "    </tr>\n",
              "    <tr>\n",
              "      <th>1</th>\n",
              "      <td>Etat</td>\n",
              "      <td>App sei nicht so angenommen worden wie geplant...</td>\n",
              "    </tr>\n",
              "  </tbody>\n",
              "</table>\n",
              "</div>"
            ],
            "text/plain": [
              "  label                                            content\n",
              "0  Etat  Die ARD-Tochter Degeto hat sich verpflichtet, ...\n",
              "1  Etat  App sei nicht so angenommen worden wie geplant..."
            ]
          },
          "metadata": {
            "tags": []
          },
          "execution_count": 579
        }
      ]
    },
    {
      "cell_type": "code",
      "metadata": {
        "id": "mpo2WbEvwRw8",
        "colab_type": "code",
        "colab": {}
      },
      "source": [
        "df = df.rename(columns={'content': 'text'})"
      ],
      "execution_count": 0,
      "outputs": []
    },
    {
      "cell_type": "markdown",
      "metadata": {
        "id": "0krKKkFJx6-5",
        "colab_type": "text"
      },
      "source": [
        "\n",
        "We are not going to use this dataframe, but are just loading it to get a sense of what our data looks like:"
      ]
    },
    {
      "cell_type": "code",
      "metadata": {
        "id": "r54Y3KLIx75o",
        "colab_type": "code",
        "outputId": "2dc81f91-aa15-4e08-de3f-7eaa967b8e19",
        "colab": {
          "base_uri": "https://localhost:8080/",
          "height": 198
        }
      },
      "source": [
        "df.head()"
      ],
      "execution_count": 581,
      "outputs": [
        {
          "output_type": "execute_result",
          "data": {
            "text/html": [
              "<div>\n",
              "<style scoped>\n",
              "    .dataframe tbody tr th:only-of-type {\n",
              "        vertical-align: middle;\n",
              "    }\n",
              "\n",
              "    .dataframe tbody tr th {\n",
              "        vertical-align: top;\n",
              "    }\n",
              "\n",
              "    .dataframe thead th {\n",
              "        text-align: right;\n",
              "    }\n",
              "</style>\n",
              "<table border=\"1\" class=\"dataframe\">\n",
              "  <thead>\n",
              "    <tr style=\"text-align: right;\">\n",
              "      <th></th>\n",
              "      <th>label</th>\n",
              "      <th>text</th>\n",
              "    </tr>\n",
              "  </thead>\n",
              "  <tbody>\n",
              "    <tr>\n",
              "      <th>0</th>\n",
              "      <td>Etat</td>\n",
              "      <td>Die ARD-Tochter Degeto hat sich verpflichtet, ...</td>\n",
              "    </tr>\n",
              "    <tr>\n",
              "      <th>1</th>\n",
              "      <td>Etat</td>\n",
              "      <td>App sei nicht so angenommen worden wie geplant...</td>\n",
              "    </tr>\n",
              "    <tr>\n",
              "      <th>2</th>\n",
              "      <td>Etat</td>\n",
              "      <td>'Zum Welttag der Suizidprävention ist es Zeit,...</td>\n",
              "    </tr>\n",
              "    <tr>\n",
              "      <th>3</th>\n",
              "      <td>Etat</td>\n",
              "      <td>Mitarbeiter überreichten Eigentümervertretern ...</td>\n",
              "    </tr>\n",
              "    <tr>\n",
              "      <th>4</th>\n",
              "      <td>Etat</td>\n",
              "      <td>Service: Jobwechsel in der Kommunikationsbranc...</td>\n",
              "    </tr>\n",
              "  </tbody>\n",
              "</table>\n",
              "</div>"
            ],
            "text/plain": [
              "  label                                               text\n",
              "0  Etat  Die ARD-Tochter Degeto hat sich verpflichtet, ...\n",
              "1  Etat  App sei nicht so angenommen worden wie geplant...\n",
              "2  Etat  'Zum Welttag der Suizidprävention ist es Zeit,...\n",
              "3  Etat  Mitarbeiter überreichten Eigentümervertretern ...\n",
              "4  Etat  Service: Jobwechsel in der Kommunikationsbranc..."
            ]
          },
          "metadata": {
            "tags": []
          },
          "execution_count": 581
        }
      ]
    },
    {
      "cell_type": "code",
      "metadata": {
        "id": "GdwSUgadvEtV",
        "colab_type": "code",
        "outputId": "abaad487-a31d-43ae-f1da-cda8b852a5c8",
        "colab": {
          "base_uri": "https://localhost:8080/",
          "height": 35
        }
      },
      "source": [
        "df['label'].nunique()"
      ],
      "execution_count": 582,
      "outputs": [
        {
          "output_type": "execute_result",
          "data": {
            "text/plain": [
              "5"
            ]
          },
          "metadata": {
            "tags": []
          },
          "execution_count": 582
        }
      ]
    },
    {
      "cell_type": "code",
      "metadata": {
        "id": "IxEbQg0rvYbO",
        "colab_type": "code",
        "outputId": "8352380e-7ae7-4cdf-97d2-8f95044c5764",
        "colab": {
          "base_uri": "https://localhost:8080/",
          "height": 35
        }
      },
      "source": [
        "df.label.unique()"
      ],
      "execution_count": 583,
      "outputs": [
        {
          "output_type": "execute_result",
          "data": {
            "text/plain": [
              "array(['Etat', 'Inland', 'International', 'Kultur', 'Panorama'], dtype=object)"
            ]
          },
          "metadata": {
            "tags": []
          },
          "execution_count": 583
        }
      ]
    },
    {
      "cell_type": "markdown",
      "metadata": {
        "id": "i4Gn1YsQv_uk",
        "colab_type": "text"
      },
      "source": [
        "## Add new column"
      ]
    },
    {
      "cell_type": "markdown",
      "metadata": {
        "id": "VMD-tmVywDgZ",
        "colab_type": "text"
      },
      "source": [
        "We add a new column that specifies the train and test rows. To do this, we first split the dataframe into two parts. After this step, the first part get the value \"true\" whearas the second part gets the value \"false\"."
      ]
    },
    {
      "cell_type": "code",
      "metadata": {
        "id": "cWdb3tBksNTJ",
        "colab_type": "code",
        "colab": {}
      },
      "source": [
        "train_df, test_df = train_test_split(df, test_size=0.2, random_state=42) # split dataframe into two parts"
      ],
      "execution_count": 0,
      "outputs": []
    },
    {
      "cell_type": "code",
      "metadata": {
        "id": "sW9R2Q6jsNOs",
        "colab_type": "code",
        "outputId": "574782f1-c1b9-4bbd-c2a9-04c431355a22",
        "colab": {
          "base_uri": "https://localhost:8080/",
          "height": 198
        }
      },
      "source": [
        "train_df.head()"
      ],
      "execution_count": 585,
      "outputs": [
        {
          "output_type": "execute_result",
          "data": {
            "text/html": [
              "<div>\n",
              "<style scoped>\n",
              "    .dataframe tbody tr th:only-of-type {\n",
              "        vertical-align: middle;\n",
              "    }\n",
              "\n",
              "    .dataframe tbody tr th {\n",
              "        vertical-align: top;\n",
              "    }\n",
              "\n",
              "    .dataframe thead th {\n",
              "        text-align: right;\n",
              "    }\n",
              "</style>\n",
              "<table border=\"1\" class=\"dataframe\">\n",
              "  <thead>\n",
              "    <tr style=\"text-align: right;\">\n",
              "      <th></th>\n",
              "      <th>label</th>\n",
              "      <th>text</th>\n",
              "    </tr>\n",
              "  </thead>\n",
              "  <tbody>\n",
              "    <tr>\n",
              "      <th>3994</th>\n",
              "      <td>Panorama</td>\n",
              "      <td>Frauen kamen mit milden Strafen davon – Urteil...</td>\n",
              "    </tr>\n",
              "    <tr>\n",
              "      <th>423</th>\n",
              "      <td>Etat</td>\n",
              "      <td>\"Österreicher wählen eben so, wie sie es vom S...</td>\n",
              "    </tr>\n",
              "    <tr>\n",
              "      <th>2991</th>\n",
              "      <td>International</td>\n",
              "      <td>Zwei Palästinenser erschossen und vier Israeli...</td>\n",
              "    </tr>\n",
              "    <tr>\n",
              "      <th>1221</th>\n",
              "      <td>Inland</td>\n",
              "      <td>88 Prozent der Einnahmen kommen von den 300.00...</td>\n",
              "    </tr>\n",
              "    <tr>\n",
              "      <th>506</th>\n",
              "      <td>Etat</td>\n",
              "      <td>Das Duo war ursprünglich als einmaliges Feiert...</td>\n",
              "    </tr>\n",
              "  </tbody>\n",
              "</table>\n",
              "</div>"
            ],
            "text/plain": [
              "              label                                               text\n",
              "3994       Panorama  Frauen kamen mit milden Strafen davon – Urteil...\n",
              "423            Etat  \"Österreicher wählen eben so, wie sie es vom S...\n",
              "2991  International  Zwei Palästinenser erschossen und vier Israeli...\n",
              "1221         Inland  88 Prozent der Einnahmen kommen von den 300.00...\n",
              "506            Etat  Das Duo war ursprünglich als einmaliges Feiert..."
            ]
          },
          "metadata": {
            "tags": []
          },
          "execution_count": 585
        }
      ]
    },
    {
      "cell_type": "markdown",
      "metadata": {
        "id": "0nXh8Efdw2tH",
        "colab_type": "text"
      },
      "source": [
        "Check that each part contains all labels!!! "
      ]
    },
    {
      "cell_type": "code",
      "metadata": {
        "id": "TD-5Dt2UsLlI",
        "colab_type": "code",
        "outputId": "734d1961-c4a4-409d-c238-fd362741d0b4",
        "colab": {
          "base_uri": "https://localhost:8080/",
          "height": 126
        }
      },
      "source": [
        "train_df['label'].value_counts() # check if df contains all labels "
      ],
      "execution_count": 586,
      "outputs": [
        {
          "output_type": "execute_result",
          "data": {
            "text/plain": [
              "International    1226\n",
              "Inland            803\n",
              "Etat              521\n",
              "Kultur            436\n",
              "Panorama          214\n",
              "Name: label, dtype: int64"
            ]
          },
          "metadata": {
            "tags": []
          },
          "execution_count": 586
        }
      ]
    },
    {
      "cell_type": "code",
      "metadata": {
        "id": "R-1D2pdc80ny",
        "colab_type": "code",
        "outputId": "870d57ec-78db-41df-fe1f-ccd4fca69440",
        "colab": {
          "base_uri": "https://localhost:8080/",
          "height": 35
        }
      },
      "source": [
        "len(train_df)"
      ],
      "execution_count": 587,
      "outputs": [
        {
          "output_type": "execute_result",
          "data": {
            "text/plain": [
              "3200"
            ]
          },
          "metadata": {
            "tags": []
          },
          "execution_count": 587
        }
      ]
    },
    {
      "cell_type": "code",
      "metadata": {
        "id": "6tniOiUfxSW-",
        "colab_type": "code",
        "outputId": "bd19a21e-9ed7-475c-be8f-18272a4396cc",
        "colab": {
          "base_uri": "https://localhost:8080/",
          "height": 35
        }
      },
      "source": [
        "len(train_df['label'].unique()) # number of unique labels"
      ],
      "execution_count": 588,
      "outputs": [
        {
          "output_type": "execute_result",
          "data": {
            "text/plain": [
              "5"
            ]
          },
          "metadata": {
            "tags": []
          },
          "execution_count": 588
        }
      ]
    },
    {
      "cell_type": "code",
      "metadata": {
        "id": "tNiwOhQ-tTxV",
        "colab_type": "code",
        "outputId": "44a986c0-890b-4e7c-8039-2825102516fd",
        "colab": {
          "base_uri": "https://localhost:8080/",
          "height": 126
        }
      },
      "source": [
        "test_df['label'].value_counts() # check if df contains all labels "
      ],
      "execution_count": 589,
      "outputs": [
        {
          "output_type": "execute_result",
          "data": {
            "text/plain": [
              "International    285\n",
              "Inland           212\n",
              "Etat             147\n",
              "Kultur           103\n",
              "Panorama          53\n",
              "Name: label, dtype: int64"
            ]
          },
          "metadata": {
            "tags": []
          },
          "execution_count": 589
        }
      ]
    },
    {
      "cell_type": "code",
      "metadata": {
        "id": "NDHWa80s87uj",
        "colab_type": "code",
        "outputId": "902a67c6-cc72-46cf-9f26-d461d61fc1f2",
        "colab": {
          "base_uri": "https://localhost:8080/",
          "height": 35
        }
      },
      "source": [
        "len(test_df)"
      ],
      "execution_count": 590,
      "outputs": [
        {
          "output_type": "execute_result",
          "data": {
            "text/plain": [
              "800"
            ]
          },
          "metadata": {
            "tags": []
          },
          "execution_count": 590
        }
      ]
    },
    {
      "cell_type": "code",
      "metadata": {
        "id": "KQep80zLtUDg",
        "colab_type": "code",
        "outputId": "de1e9c2b-957b-447a-b089-693767b48525",
        "colab": {
          "base_uri": "https://localhost:8080/",
          "height": 35
        }
      },
      "source": [
        "len(test_df['label'].unique()) # number of unique labels"
      ],
      "execution_count": 591,
      "outputs": [
        {
          "output_type": "execute_result",
          "data": {
            "text/plain": [
              "5"
            ]
          },
          "metadata": {
            "tags": []
          },
          "execution_count": 591
        }
      ]
    },
    {
      "cell_type": "markdown",
      "metadata": {
        "id": "2ReSMSbF0-e-",
        "colab_type": "text"
      },
      "source": [
        "Expected: True\n",
        "\n",
        "We want all labels in each of the two dataframes!"
      ]
    },
    {
      "cell_type": "code",
      "metadata": {
        "id": "i0G1ma-x03o6",
        "colab_type": "code",
        "outputId": "d23f295d-ec28-4392-8c4b-5a63b833120b",
        "colab": {
          "base_uri": "https://localhost:8080/",
          "height": 35
        }
      },
      "source": [
        "len(train_df['label'].unique())  == len(test_df['label'].unique()) "
      ],
      "execution_count": 592,
      "outputs": [
        {
          "output_type": "execute_result",
          "data": {
            "text/plain": [
              "True"
            ]
          },
          "metadata": {
            "tags": []
          },
          "execution_count": 592
        }
      ]
    },
    {
      "cell_type": "markdown",
      "metadata": {
        "id": "hriKGAoZzFBC",
        "colab_type": "text"
      },
      "source": [
        "Add new column to each dataframe specifying that this dataframe belongs either to the train or test set."
      ]
    },
    {
      "cell_type": "code",
      "metadata": {
        "id": "dv84ac36tT_s",
        "colab_type": "code",
        "outputId": "2888d372-ab4a-4857-c778-06947ba936cc",
        "colab": {
          "base_uri": "https://localhost:8080/",
          "height": 126
        }
      },
      "source": [
        "train_df['is_valid']='True'   # add new column"
      ],
      "execution_count": 593,
      "outputs": [
        {
          "output_type": "stream",
          "text": [
            "/usr/local/lib/python3.6/dist-packages/ipykernel_launcher.py:1: SettingWithCopyWarning: \n",
            "A value is trying to be set on a copy of a slice from a DataFrame.\n",
            "Try using .loc[row_indexer,col_indexer] = value instead\n",
            "\n",
            "See the caveats in the documentation: http://pandas.pydata.org/pandas-docs/stable/user_guide/indexing.html#returning-a-view-versus-a-copy\n",
            "  \"\"\"Entry point for launching an IPython kernel.\n"
          ],
          "name": "stderr"
        }
      ]
    },
    {
      "cell_type": "code",
      "metadata": {
        "id": "ZRhGHEvCtTts",
        "colab_type": "code",
        "outputId": "dbade3f9-9bb8-4158-ab52-83adaf65d274",
        "colab": {
          "base_uri": "https://localhost:8080/",
          "height": 126
        }
      },
      "source": [
        "test_df['is_valid']='False'   # add new column"
      ],
      "execution_count": 594,
      "outputs": [
        {
          "output_type": "stream",
          "text": [
            "/usr/local/lib/python3.6/dist-packages/ipykernel_launcher.py:1: SettingWithCopyWarning: \n",
            "A value is trying to be set on a copy of a slice from a DataFrame.\n",
            "Try using .loc[row_indexer,col_indexer] = value instead\n",
            "\n",
            "See the caveats in the documentation: http://pandas.pydata.org/pandas-docs/stable/user_guide/indexing.html#returning-a-view-versus-a-copy\n",
            "  \"\"\"Entry point for launching an IPython kernel.\n"
          ],
          "name": "stderr"
        }
      ]
    },
    {
      "cell_type": "code",
      "metadata": {
        "id": "-d-Oq2YftTqh",
        "colab_type": "code",
        "outputId": "72768d0e-bf08-439c-83f8-30a83193f695",
        "colab": {
          "base_uri": "https://localhost:8080/",
          "height": 198
        }
      },
      "source": [
        "test_df.head()"
      ],
      "execution_count": 595,
      "outputs": [
        {
          "output_type": "execute_result",
          "data": {
            "text/html": [
              "<div>\n",
              "<style scoped>\n",
              "    .dataframe tbody tr th:only-of-type {\n",
              "        vertical-align: middle;\n",
              "    }\n",
              "\n",
              "    .dataframe tbody tr th {\n",
              "        vertical-align: top;\n",
              "    }\n",
              "\n",
              "    .dataframe thead th {\n",
              "        text-align: right;\n",
              "    }\n",
              "</style>\n",
              "<table border=\"1\" class=\"dataframe\">\n",
              "  <thead>\n",
              "    <tr style=\"text-align: right;\">\n",
              "      <th></th>\n",
              "      <th>label</th>\n",
              "      <th>text</th>\n",
              "      <th>is_valid</th>\n",
              "    </tr>\n",
              "  </thead>\n",
              "  <tbody>\n",
              "    <tr>\n",
              "      <th>555</th>\n",
              "      <td>Etat</td>\n",
              "      <td>'Linda Hamiltons Muskelspiel in \"Terminator 2\"...</td>\n",
              "      <td>False</td>\n",
              "    </tr>\n",
              "    <tr>\n",
              "      <th>3491</th>\n",
              "      <td>Kultur</td>\n",
              "      <td>Medienkunst-Preis ging an UBERMORGEN – lizvlx ...</td>\n",
              "      <td>False</td>\n",
              "    </tr>\n",
              "    <tr>\n",
              "      <th>527</th>\n",
              "      <td>Etat</td>\n",
              "      <td>Heute konkret | Wien-Wahl 2015. Diskussion der...</td>\n",
              "      <td>False</td>\n",
              "    </tr>\n",
              "    <tr>\n",
              "      <th>3925</th>\n",
              "      <td>Panorama</td>\n",
              "      <td>Trotz schlechter Verhältnisse weniger tödliche...</td>\n",
              "      <td>False</td>\n",
              "    </tr>\n",
              "    <tr>\n",
              "      <th>2989</th>\n",
              "      <td>International</td>\n",
              "      <td>Erneut mutmaßlicher palästinensischer Angreife...</td>\n",
              "      <td>False</td>\n",
              "    </tr>\n",
              "  </tbody>\n",
              "</table>\n",
              "</div>"
            ],
            "text/plain": [
              "              label                                               text is_valid\n",
              "555            Etat  'Linda Hamiltons Muskelspiel in \"Terminator 2\"...    False\n",
              "3491         Kultur  Medienkunst-Preis ging an UBERMORGEN – lizvlx ...    False\n",
              "527            Etat  Heute konkret | Wien-Wahl 2015. Diskussion der...    False\n",
              "3925       Panorama  Trotz schlechter Verhältnisse weniger tödliche...    False\n",
              "2989  International  Erneut mutmaßlicher palästinensischer Angreife...    False"
            ]
          },
          "metadata": {
            "tags": []
          },
          "execution_count": 595
        }
      ]
    },
    {
      "cell_type": "code",
      "metadata": {
        "id": "4GFBOH50tTm5",
        "colab_type": "code",
        "colab": {}
      },
      "source": [
        "frames=[train_df, test_df]"
      ],
      "execution_count": 0,
      "outputs": []
    },
    {
      "cell_type": "code",
      "metadata": {
        "id": "T-447v041ZYa",
        "colab_type": "code",
        "colab": {}
      },
      "source": [
        "df=pd.concat(frames)"
      ],
      "execution_count": 0,
      "outputs": []
    },
    {
      "cell_type": "code",
      "metadata": {
        "id": "TSORDMsHtTiS",
        "colab_type": "code",
        "outputId": "415601e5-e628-4cfb-9465-9010c67ccaec",
        "colab": {
          "base_uri": "https://localhost:8080/",
          "height": 198
        }
      },
      "source": [
        "df.head()"
      ],
      "execution_count": 598,
      "outputs": [
        {
          "output_type": "execute_result",
          "data": {
            "text/html": [
              "<div>\n",
              "<style scoped>\n",
              "    .dataframe tbody tr th:only-of-type {\n",
              "        vertical-align: middle;\n",
              "    }\n",
              "\n",
              "    .dataframe tbody tr th {\n",
              "        vertical-align: top;\n",
              "    }\n",
              "\n",
              "    .dataframe thead th {\n",
              "        text-align: right;\n",
              "    }\n",
              "</style>\n",
              "<table border=\"1\" class=\"dataframe\">\n",
              "  <thead>\n",
              "    <tr style=\"text-align: right;\">\n",
              "      <th></th>\n",
              "      <th>label</th>\n",
              "      <th>text</th>\n",
              "      <th>is_valid</th>\n",
              "    </tr>\n",
              "  </thead>\n",
              "  <tbody>\n",
              "    <tr>\n",
              "      <th>3994</th>\n",
              "      <td>Panorama</td>\n",
              "      <td>Frauen kamen mit milden Strafen davon – Urteil...</td>\n",
              "      <td>True</td>\n",
              "    </tr>\n",
              "    <tr>\n",
              "      <th>423</th>\n",
              "      <td>Etat</td>\n",
              "      <td>\"Österreicher wählen eben so, wie sie es vom S...</td>\n",
              "      <td>True</td>\n",
              "    </tr>\n",
              "    <tr>\n",
              "      <th>2991</th>\n",
              "      <td>International</td>\n",
              "      <td>Zwei Palästinenser erschossen und vier Israeli...</td>\n",
              "      <td>True</td>\n",
              "    </tr>\n",
              "    <tr>\n",
              "      <th>1221</th>\n",
              "      <td>Inland</td>\n",
              "      <td>88 Prozent der Einnahmen kommen von den 300.00...</td>\n",
              "      <td>True</td>\n",
              "    </tr>\n",
              "    <tr>\n",
              "      <th>506</th>\n",
              "      <td>Etat</td>\n",
              "      <td>Das Duo war ursprünglich als einmaliges Feiert...</td>\n",
              "      <td>True</td>\n",
              "    </tr>\n",
              "  </tbody>\n",
              "</table>\n",
              "</div>"
            ],
            "text/plain": [
              "              label                                               text is_valid\n",
              "3994       Panorama  Frauen kamen mit milden Strafen davon – Urteil...     True\n",
              "423            Etat  \"Österreicher wählen eben so, wie sie es vom S...     True\n",
              "2991  International  Zwei Palästinenser erschossen und vier Israeli...     True\n",
              "1221         Inland  88 Prozent der Einnahmen kommen von den 300.00...     True\n",
              "506            Etat  Das Duo war ursprünglich als einmaliges Feiert...     True"
            ]
          },
          "metadata": {
            "tags": []
          },
          "execution_count": 598
        }
      ]
    },
    {
      "cell_type": "markdown",
      "metadata": {
        "id": "10hghqFkCeZE",
        "colab_type": "text"
      },
      "source": [
        "### Add column\n",
        "\n",
        "In case we need a column that speciefies the split ratio. Not sure if we realy need it, yet!"
      ]
    },
    {
      "cell_type": "code",
      "metadata": {
        "id": "PykGvrxO7o_5",
        "colab_type": "code",
        "colab": {}
      },
      "source": [
        "# df['is_valid']='False'"
      ],
      "execution_count": 0,
      "outputs": []
    },
    {
      "cell_type": "code",
      "metadata": {
        "id": "wFEmBdT278vs",
        "colab_type": "code",
        "colab": {}
      },
      "source": [
        "# len(df)"
      ],
      "execution_count": 0,
      "outputs": []
    },
    {
      "cell_type": "code",
      "metadata": {
        "id": "qViNQN8g-CmS",
        "colab_type": "code",
        "colab": {}
      },
      "source": [
        "# ratio = 0.3 # split ratio within the new column is_valid\n",
        "\n",
        "# ratio_1=round(len(df) * ratio)\n",
        "# ratio_2=len(df) - ratio_1\n",
        "\n",
        "# print('Total length: ', len(df))\n",
        "# print('First ratio: ', ratio_1 )\n",
        "# print('Second ratio: ', ratio_2 )"
      ],
      "execution_count": 0,
      "outputs": []
    },
    {
      "cell_type": "code",
      "metadata": {
        "id": "XDaSERuV-lPX",
        "colab_type": "code",
        "colab": {}
      },
      "source": [
        "# ratio_1 + ratio_2 == len(df)"
      ],
      "execution_count": 0,
      "outputs": []
    },
    {
      "cell_type": "code",
      "metadata": {
        "id": "42u3QDna_vGN",
        "colab_type": "code",
        "colab": {}
      },
      "source": [
        "# df.loc[0:ratio_1, 'is_valid'] = 'True'  # replace value in column"
      ],
      "execution_count": 0,
      "outputs": []
    },
    {
      "cell_type": "markdown",
      "metadata": {
        "id": "8da8AcHZ1gO8",
        "colab_type": "text"
      },
      "source": [
        "## Save data"
      ]
    },
    {
      "cell_type": "code",
      "metadata": {
        "id": "QAmVFqsczrXv",
        "colab_type": "code",
        "colab": {}
      },
      "source": [
        "df.to_csv(path  + 'texts.csv', sep=',', encoding='utf-8', index=False) # save data to csv"
      ],
      "execution_count": 0,
      "outputs": []
    },
    {
      "cell_type": "code",
      "metadata": {
        "id": "Xc_Oe1yoYI7H",
        "colab_type": "code",
        "colab": {}
      },
      "source": [
        "fields = ['label', 'text'] # only read these columns in the next step"
      ],
      "execution_count": 0,
      "outputs": []
    },
    {
      "cell_type": "code",
      "metadata": {
        "id": "JLehw3wV0qoI",
        "colab_type": "code",
        "outputId": "9840fad9-be41-4474-e0ac-497f207a390c",
        "colab": {
          "base_uri": "https://localhost:8080/",
          "height": 198
        }
      },
      "source": [
        "df = pd.read_csv(path + 'texts.csv', sep=',', usecols=fields ) # quick check: read csv\n",
        "df.head()"
      ],
      "execution_count": 606,
      "outputs": [
        {
          "output_type": "execute_result",
          "data": {
            "text/html": [
              "<div>\n",
              "<style scoped>\n",
              "    .dataframe tbody tr th:only-of-type {\n",
              "        vertical-align: middle;\n",
              "    }\n",
              "\n",
              "    .dataframe tbody tr th {\n",
              "        vertical-align: top;\n",
              "    }\n",
              "\n",
              "    .dataframe thead th {\n",
              "        text-align: right;\n",
              "    }\n",
              "</style>\n",
              "<table border=\"1\" class=\"dataframe\">\n",
              "  <thead>\n",
              "    <tr style=\"text-align: right;\">\n",
              "      <th></th>\n",
              "      <th>label</th>\n",
              "      <th>text</th>\n",
              "    </tr>\n",
              "  </thead>\n",
              "  <tbody>\n",
              "    <tr>\n",
              "      <th>0</th>\n",
              "      <td>Panorama</td>\n",
              "      <td>Frauen kamen mit milden Strafen davon – Urteil...</td>\n",
              "    </tr>\n",
              "    <tr>\n",
              "      <th>1</th>\n",
              "      <td>Etat</td>\n",
              "      <td>\"Österreicher wählen eben so, wie sie es vom S...</td>\n",
              "    </tr>\n",
              "    <tr>\n",
              "      <th>2</th>\n",
              "      <td>International</td>\n",
              "      <td>Zwei Palästinenser erschossen und vier Israeli...</td>\n",
              "    </tr>\n",
              "    <tr>\n",
              "      <th>3</th>\n",
              "      <td>Inland</td>\n",
              "      <td>88 Prozent der Einnahmen kommen von den 300.00...</td>\n",
              "    </tr>\n",
              "    <tr>\n",
              "      <th>4</th>\n",
              "      <td>Etat</td>\n",
              "      <td>Das Duo war ursprünglich als einmaliges Feiert...</td>\n",
              "    </tr>\n",
              "  </tbody>\n",
              "</table>\n",
              "</div>"
            ],
            "text/plain": [
              "           label                                               text\n",
              "0       Panorama  Frauen kamen mit milden Strafen davon – Urteil...\n",
              "1           Etat  \"Österreicher wählen eben so, wie sie es vom S...\n",
              "2  International  Zwei Palästinenser erschossen und vier Israeli...\n",
              "3         Inland  88 Prozent der Einnahmen kommen von den 300.00...\n",
              "4           Etat  Das Duo war ursprünglich als einmaliges Feiert..."
            ]
          },
          "metadata": {
            "tags": []
          },
          "execution_count": 606
        }
      ]
    },
    {
      "cell_type": "markdown",
      "metadata": {
        "id": "WPl5QM2vZlna",
        "colab_type": "text"
      },
      "source": [
        "## Split data"
      ]
    },
    {
      "cell_type": "markdown",
      "metadata": {
        "id": "pxQ788KYWIfS",
        "colab_type": "text"
      },
      "source": [
        "Try to avoid this: “your validation data contains a label that isn’t present in your training set”.\n",
        "\n",
        "This is going to be a problem since when you validate your model, it can’t really predict efficiently something it has never seen before.\n",
        "\n",
        "- [Link to forum](https://forums.fast.ai/t/tabulardatabunch-error-your-validation-data-contains-a-label-that-isnt-present-in-the-training-set-please-fix-your-data/33410)"
      ]
    },
    {
      "cell_type": "code",
      "metadata": {
        "id": "J-8htnycIWDk",
        "colab_type": "code",
        "colab": {}
      },
      "source": [
        "classes = df['label'].unique()\n",
        "classes.sort()"
      ],
      "execution_count": 0,
      "outputs": []
    },
    {
      "cell_type": "code",
      "metadata": {
        "id": "n5r7j8iaXTkH",
        "colab_type": "code",
        "outputId": "cbd1421f-9b76-4f11-a790-ebe114f5dca3",
        "colab": {
          "base_uri": "https://localhost:8080/",
          "height": 35
        }
      },
      "source": [
        "classes # array of all labels"
      ],
      "execution_count": 608,
      "outputs": [
        {
          "output_type": "execute_result",
          "data": {
            "text/plain": [
              "array(['Etat', 'Inland', 'International', 'Kultur', 'Panorama'], dtype=object)"
            ]
          },
          "metadata": {
            "tags": []
          },
          "execution_count": 608
        }
      ]
    },
    {
      "cell_type": "markdown",
      "metadata": {
        "id": "TtdzGTQrxYXI",
        "colab_type": "text"
      },
      "source": [
        "We will be using TextList from the fastai library:"
      ]
    },
    {
      "cell_type": "code",
      "metadata": {
        "id": "WuBi_JkNxelc",
        "colab_type": "code",
        "outputId": "1f2920bf-e371-4cfc-ee6d-8ababc8cd3bd",
        "colab": {
          "base_uri": "https://localhost:8080/",
          "height": 17
        }
      },
      "source": [
        "article_reviews = (TextList.from_csv(path, 'texts.csv', cols='text')\n",
        "                         .split_from_df(col=2)\n",
        "                         .label_from_df(cols=0, classes=classes))"
      ],
      "execution_count": 609,
      "outputs": [
        {
          "output_type": "display_data",
          "data": {
            "text/html": [
              ""
            ],
            "text/plain": [
              "<IPython.core.display.HTML object>"
            ]
          },
          "metadata": {
            "tags": []
          }
        },
        {
          "output_type": "display_data",
          "data": {
            "text/html": [
              ""
            ],
            "text/plain": [
              "<IPython.core.display.HTML object>"
            ]
          },
          "metadata": {
            "tags": []
          }
        }
      ]
    },
    {
      "cell_type": "code",
      "metadata": {
        "id": "wuCDTYEgU00m",
        "colab_type": "code",
        "outputId": "d662005e-e41d-4c27-e88f-6adb3a0ec815",
        "colab": {
          "base_uri": "https://localhost:8080/",
          "height": 35
        }
      },
      "source": [
        "len(article_reviews.classes)"
      ],
      "execution_count": 610,
      "outputs": [
        {
          "output_type": "execute_result",
          "data": {
            "text/plain": [
              "5"
            ]
          },
          "metadata": {
            "tags": []
          },
          "execution_count": 610
        }
      ]
    },
    {
      "cell_type": "markdown",
      "metadata": {
        "id": "qNvmYUBSHSAC",
        "colab_type": "text"
      },
      "source": [
        "## Exploring what our data looks like"
      ]
    },
    {
      "cell_type": "code",
      "metadata": {
        "id": "fIZFvGHc6XaU",
        "colab_type": "code",
        "outputId": "5b1df45c-db5c-4472-9dac-2eab684948e6",
        "colab": {
          "base_uri": "https://localhost:8080/",
          "height": 74
        }
      },
      "source": [
        "article_reviews.valid.x[0], article_reviews.valid.y[0]"
      ],
      "execution_count": 611,
      "outputs": [
        {
          "output_type": "execute_result",
          "data": {
            "text/plain": [
              "(Text xxbos xxmaj frauen kamen mit xxunk xxmaj strafen davon – xxmaj urteil nicht rechtskräftig . xxmaj graz – xxmaj mit teilweise xxunk xxunk xxmaj xxunk ist am xxmaj montag der xxmaj prozess gegen sechs xxmaj xxunk zu xxmaj ende gegangen . xxmaj drei xxmaj männer und eine xxmaj frau wurden der terroristischen xxmaj vereinigung für schuldig befunden , zwei xxmaj frauen wurden wegen xxmaj xxunk verurteilt . xxmaj die xxmaj männer wurden zu fünf und sechs xxmaj jahren xxmaj haft verurteilt , die xxmaj frauen kamen mit drei , fünf und 15 xxmaj monaten , großteils bedingt , davon . xxmaj die höchste xxmaj strafe , sechs xxmaj jahre unbedingt , wurde über einen xxunk verhängt , der als xxmaj xxunk in einer xxmaj grazer xxmaj moschee tätig war . xxmaj er habe durch seine xxmaj predigten xxmaj männer xxunk , nach xxmaj syrien zu gehen , wenn es ihm auch nicht in allen angeklagten xxmaj fällen nachgewiesen werden habe können , hieß es in der xxmaj xxunk . xxmaj bei den beiden xxunk xxmaj männern bestehe an der xxmaj schuld kein xxmaj zweifel , so der xxmaj richter . xxmaj beide sind nach xxmaj meinung des xxmaj gerichts als xxmaj kämpfer für die xxmaj terrororganisation xxmaj islamischer xxmaj staat ( xxup is ) tätig gewesen und müssen jeweils fünf xxmaj jahre xxmaj haft xxunk xxunk xxmaj die junge xxmaj frau , die mit drei xxmaj kindern nach xxmaj syrien gehen wollte , wurde zu 15 xxmaj monaten xxmaj haft , davon ein xxmaj monat unbedingt , verurteilt . xxmaj ihre xxmaj schwester und ihre xxmaj mutter kamen wegen xxmaj xxunk mit drei bzw . fünf xxmaj monaten bedingt davon . xxmaj der xxmaj prozess hatte am 5 . xxmaj februar begonnen , nur sechs von ursprünglich acht xxmaj angeklagten waren erschienen . xxmaj die xxmaj hauptrolle spielte jener xxunk , der in der xxmaj funktion eines xxmaj xxunk – ohne offizielle xxmaj ausbildung – in einer xxmaj grazer xxmaj moschee tätig war . xxmaj ihm wurde vorgeworfen , mehrere junge xxmaj männer nach als xxmaj kämpfer nach xxmaj syrien vermittelt zu haben , von denen einige bereits kurz nach ihrer xxmaj ankunft ums xxmaj leben kamen . xxmaj unter ihnen war auch der xxmaj mann jener xxmaj angeklagten , die nach seinem xxmaj tod mit ihren drei xxmaj kindern nach xxmaj syrien ziehen wollte . xxmaj ausschlaggebend für die xxmaj xxunk soll auch das xxmaj angebot des xxmaj xxunk an sie gewesen sein , seine dritte xxmaj frau zu werden . xxmaj die xxmaj schwester und die xxmaj mutter der junge xxmaj frau xxunk die xxmaj xxunk , indem sie sie xxunk und xxunk ließen , sie wolle sich dem xxup is anschließen . xxmaj doch später zogen sie ihre xxmaj aussage zurück , xxunk sie wegen xxmaj xxunk auf der xxmaj anklagebank xxunk . xxmaj doch der xxmaj staatsanwalt hatte ein xxunk xxmaj verständnis für alle drei xxmaj frauen : xxmaj es war eine xxmaj situation xxunk xxmaj not , meinte er . xxmaj einer der beschuldigten xxmaj männer war in xxmaj syrien , angeblich um einen xxmaj film zu drehen , mit dem er xxmaj geld für den xxmaj kampf in xxmaj tschetschenien xxunk wollte . xxmaj der dritte xxmaj angeklagte soll für den xxup is gekämpft haben , hat das aber stets xxunk . xxmaj ein ehemaliger xxmaj kämpfer , der nun i m xxmaj xxunk ist , hatte ihn belastet . xxmaj der xxmaj xxunk forderte für alle drei xxmaj männer strenge xxmaj strafen : xxmaj österreich ist xxunk für die xxmaj xxunk , die xxmaj männer können nach xxmaj syrien kämpfen gehen und die xxmaj frauen werden hier vom xxmaj staat versorgt . xxmaj das ist ein extremer xxmaj xxunk , der hier zutage kommt . xxmaj in xxmaj syrien gehe es beim xxup is gar nicht um den xxmaj kampf gegen xxmaj machthaber xxmaj assad , sondern um xxmaj xxunk , xxmaj mord und xxmaj xxunk . xxmaj das alles sei nichts anderes als xxunk xxmaj xxunk mit xxmaj xxunk , eine xxmaj xxunk xxunk , wie bei den xxmaj nationalsozialisten oder xxmaj xxunk , immer der gleiche xxmaj xxunk , xxunk der xxmaj staatsanwalt . xxmaj die xxmaj männer sind nur groß , wenn sie eine xxmaj xxunk haben , sonst sind sie sehr , sehr xxunk und schicken ihre xxmaj frauen vor , um zu xxunk , fuhr er auf die xxmaj angeklagten xxunk , weiter fort . xxmaj die xxunk xxmaj männer entschieden sich sofort für xxmaj berufung , die xxmaj frauen nahmen an oder xxunk drei xxmaj tage xxmaj xxunk . xxmaj der xxmaj staatsanwalt kündigte xxmaj xxunk und xxmaj berufung an . xxmaj das xxmaj urteil ist damit nicht rechtskräftig .,\n",
              " Category Panorama)"
            ]
          },
          "metadata": {
            "tags": []
          },
          "execution_count": 611
        }
      ]
    },
    {
      "cell_type": "markdown",
      "metadata": {
        "id": "ujTThTr2crYn",
        "colab_type": "text"
      },
      "source": [
        "Here, the tokens mostly correspond to words or punctuation, as well as several special tokens, corresponding to unknown words, capitalization, etc.\n",
        "\n",
        "All those tokens starting with \"xx\" are fastai special tokens. You can see the list of all of them and their meanings ([in the fastai docs](https://docs.fast.ai/text.transform.html)):\n",
        "\n",
        "The rules are all listed below, here is the meaning of the special tokens:\n",
        "\n",
        "- UNK (xxunk) is for an unknown word (one that isn't present in the current vocabulary)\n",
        "- PAD (xxpad) is the token used for padding, if we need to regroup several texts of different lengths in a batch\n",
        "- BOS (xxbos) represents the beginning of a text in your dataset\n",
        "- FLD (xxfld) is used if you set mark_fields=True in your TokenizeProcessor to separate the different fields of texts (if your texts are loaded from several columns in a dataframe)\n",
        "- TK_MAJ (xxmaj) is used to indicate the next word begins with a capital in the original text\n",
        "- TK_UP (xxup) is used to indicate the next word is written in all caps in the original text\n",
        "- TK_REP (xxrep) is used to indicate the next character is repeated n times in the original text (usage xxrep n {char})\n",
        "- TK_WREP(xxwrep) is used to indicate the next word is repeated n times in the original text (usage xxwrep n {word})"
      ]
    },
    {
      "cell_type": "code",
      "metadata": {
        "id": "yQs7zgdRHeK_",
        "colab_type": "code",
        "outputId": "52732dc6-ec33-4ec0-ec10-bd378c9761f0",
        "colab": {
          "base_uri": "https://localhost:8080/",
          "height": 35
        }
      },
      "source": [
        "len(article_reviews.train.x), len(article_reviews.valid.x)"
      ],
      "execution_count": 612,
      "outputs": [
        {
          "output_type": "execute_result",
          "data": {
            "text/plain": [
              "(800, 3200)"
            ]
          },
          "metadata": {
            "tags": []
          },
          "execution_count": 612
        }
      ]
    },
    {
      "cell_type": "markdown",
      "metadata": {
        "id": "kB9uvQzCeTiL",
        "colab_type": "text"
      },
      "source": [
        "Notice that ints-to-string and string-to-ints have different lengths.\n",
        "\n",
        "Reason:\n",
        "Several words can have the same index. For example all unknown (xxunk) words (words that only appear once). Additionally, many times a word is used multiple times, but this word will always have only one integer."
      ]
    },
    {
      "cell_type": "code",
      "metadata": {
        "id": "8PeKUEv6eL_l",
        "colab_type": "code",
        "outputId": "1be45b02-1dbd-454e-9dd7-6047dfa9b949",
        "colab": {
          "base_uri": "https://localhost:8080/",
          "height": 35
        }
      },
      "source": [
        "len(article_reviews.vocab.itos), len(article_reviews.vocab.stoi)\n"
      ],
      "execution_count": 613,
      "outputs": [
        {
          "output_type": "execute_result",
          "data": {
            "text/plain": [
              "(11064, 109814)"
            ]
          },
          "metadata": {
            "tags": []
          },
          "execution_count": 613
        }
      ]
    },
    {
      "cell_type": "code",
      "metadata": {
        "id": "MDExYhNdeYVn",
        "colab_type": "code",
        "outputId": "fa30fc3a-0ed4-440f-9083-f9522021801a",
        "colab": {
          "base_uri": "https://localhost:8080/",
          "height": 35
        }
      },
      "source": [
        "pos = article_reviews.vocab.stoi['gleichstellung']  # string to int\n",
        "pos"
      ],
      "execution_count": 614,
      "outputs": [
        {
          "output_type": "execute_result",
          "data": {
            "text/plain": [
              "6699"
            ]
          },
          "metadata": {
            "tags": []
          },
          "execution_count": 614
        }
      ]
    },
    {
      "cell_type": "code",
      "metadata": {
        "id": "VJg3LI7fek_p",
        "colab_type": "code",
        "outputId": "439ec313-6034-4e05-9460-d093fbf8f764",
        "colab": {
          "base_uri": "https://localhost:8080/",
          "height": 35
        }
      },
      "source": [
        "article_reviews.vocab.itos[pos]  # int to string"
      ],
      "execution_count": 615,
      "outputs": [
        {
          "output_type": "execute_result",
          "data": {
            "text/plain": [
              "'gleichstellung'"
            ]
          },
          "metadata": {
            "tags": []
          },
          "execution_count": 615
        }
      ]
    },
    {
      "cell_type": "markdown",
      "metadata": {
        "id": "d3VUURFAjGo7",
        "colab_type": "text"
      },
      "source": [
        "int to str is a list:"
      ]
    },
    {
      "cell_type": "code",
      "metadata": {
        "id": "ldKi7-LMezgy",
        "colab_type": "code",
        "outputId": "4458a6a5-0f6e-42d5-e3b3-ce3afc510520",
        "colab": {
          "base_uri": "https://localhost:8080/",
          "height": 381
        }
      },
      "source": [
        "article_reviews.vocab.itos[0:20]  # most often used stings"
      ],
      "execution_count": 616,
      "outputs": [
        {
          "output_type": "execute_result",
          "data": {
            "text/plain": [
              "['xxunk',\n",
              " 'xxpad',\n",
              " 'xxbos',\n",
              " 'xxeos',\n",
              " 'xxfld',\n",
              " 'xxmaj',\n",
              " 'xxup',\n",
              " 'xxrep',\n",
              " 'xxwrep',\n",
              " '.',\n",
              " ',',\n",
              " 'der',\n",
              " 'die',\n",
              " 'und',\n",
              " 'in',\n",
              " '-',\n",
              " 'das',\n",
              " 'den',\n",
              " 'von',\n",
              " 'mit']"
            ]
          },
          "metadata": {
            "tags": []
          },
          "execution_count": 616
        }
      ]
    },
    {
      "cell_type": "markdown",
      "metadata": {
        "id": "w7lsKs2li889",
        "colab_type": "text"
      },
      "source": [
        "string to int is a dictonary:"
      ]
    },
    {
      "cell_type": "code",
      "metadata": {
        "id": "qca4qtjdfIw5",
        "colab_type": "code",
        "colab": {}
      },
      "source": [
        "# article_reviews.vocab.stoi  "
      ],
      "execution_count": 0,
      "outputs": []
    },
    {
      "cell_type": "markdown",
      "metadata": {
        "id": "Ov4QS6kAis1t",
        "colab_type": "text"
      },
      "source": [
        "Let's test that a non-word maps to xxunk:"
      ]
    },
    {
      "cell_type": "code",
      "metadata": {
        "id": "_AyRpe4Ugh3j",
        "colab_type": "code",
        "outputId": "eaad9ad3-f8ee-42d0-ce41-0ee569d28bda",
        "colab": {
          "base_uri": "https://localhost:8080/",
          "height": 35
        }
      },
      "source": [
        "article_reviews.vocab.itos[article_reviews.vocab.stoi['Poooolitik']]  \n"
      ],
      "execution_count": 618,
      "outputs": [
        {
          "output_type": "execute_result",
          "data": {
            "text/plain": [
              "'xxunk'"
            ]
          },
          "metadata": {
            "tags": []
          },
          "execution_count": 618
        }
      ]
    },
    {
      "cell_type": "markdown",
      "metadata": {
        "id": "52YA6tuxj-rQ",
        "colab_type": "text"
      },
      "source": [
        "## Creating our term-document matrix\n",
        "\n",
        "As  covered in the second and third lesson, a term-document matrix represents a document as a \"bag of words\". That means it doesn't keep track of the order the words are in, just which words occur (and how often).\n",
        "\n",
        "You can use sklearn's CountVectorizer (as in previous lessons) or you can create our own (similar) version. This is for two reasons:\n",
        "\n",
        "- to understand what sklearn is doing underneath the hood\n",
        "- to create something that will work with a fastai TextList\n",
        "To create our term-document matrix, we first need to learn about counters and sparse matrices.\n"
      ]
    },
    {
      "cell_type": "markdown",
      "metadata": {
        "id": "OQhilh6D5KhE",
        "colab_type": "text"
      },
      "source": [
        "![alt text](https://res.cloudinary.com/dyd911kmh/image/upload/f_auto,q_auto:best/v1535125878/NLTK5_obakq5.png)"
      ]
    },
    {
      "cell_type": "markdown",
      "metadata": {
        "id": "XTvBZpp3kshS",
        "colab_type": "text"
      },
      "source": [
        "### Counters\n",
        "Here is how they work:"
      ]
    },
    {
      "cell_type": "code",
      "metadata": {
        "id": "6xbue2ldiy_s",
        "colab_type": "code",
        "colab": {}
      },
      "source": [
        "c = Counter([4,2,8,8,4,8])\n"
      ],
      "execution_count": 0,
      "outputs": []
    },
    {
      "cell_type": "code",
      "metadata": {
        "id": "DkLi2ULsk0Nw",
        "colab_type": "code",
        "outputId": "9016494b-0483-4c0c-92bb-75bf2186ebfb",
        "colab": {
          "base_uri": "https://localhost:8080/",
          "height": 35
        }
      },
      "source": [
        "c"
      ],
      "execution_count": 620,
      "outputs": [
        {
          "output_type": "execute_result",
          "data": {
            "text/plain": [
              "Counter({2: 1, 4: 2, 8: 3})"
            ]
          },
          "metadata": {
            "tags": []
          },
          "execution_count": 620
        }
      ]
    },
    {
      "cell_type": "code",
      "metadata": {
        "id": "X6q_Exzvk3Es",
        "colab_type": "code",
        "outputId": "bcc257e2-5ded-4a18-ff72-a2a35bfcda3d",
        "colab": {
          "base_uri": "https://localhost:8080/",
          "height": 35
        }
      },
      "source": [
        "c.values()\n"
      ],
      "execution_count": 621,
      "outputs": [
        {
          "output_type": "execute_result",
          "data": {
            "text/plain": [
              "dict_values([2, 1, 3])"
            ]
          },
          "metadata": {
            "tags": []
          },
          "execution_count": 621
        }
      ]
    },
    {
      "cell_type": "code",
      "metadata": {
        "id": "5K2HCIQxk8gJ",
        "colab_type": "code",
        "outputId": "8d0034d9-a7f1-49fb-b239-f359d03a8b80",
        "colab": {
          "base_uri": "https://localhost:8080/",
          "height": 35
        }
      },
      "source": [
        "c.keys()\n"
      ],
      "execution_count": 622,
      "outputs": [
        {
          "output_type": "execute_result",
          "data": {
            "text/plain": [
              "dict_keys([4, 2, 8])"
            ]
          },
          "metadata": {
            "tags": []
          },
          "execution_count": 622
        }
      ]
    },
    {
      "cell_type": "markdown",
      "metadata": {
        "id": "aVHKRC-OlL58",
        "colab_type": "text"
      },
      "source": [
        "### Sparse Matricies\n",
        "\n",
        "Even though we've reduced the number of words, we still have a lot! Most tokens don't appear in most reviews. We want to take advantage of this by storing our data as a sparse matrix.\n",
        "\n",
        "A matrix with lots of zeros is called sparse (the opposite of sparse is dense). For sparse matrices, you can save a lot of memory by only storing the non-zero values.\n",
        "\n",
        "There are the most common sparse storage formats:\n",
        "\n",
        "- coordinate-wise (scipy calls COO)\n",
        "- compressed sparse row (CSR)\n",
        "- compressed sparse column (CSC)\n",
        "\n",
        "- [Here are examples](http://www.mathcs.emory.edu/~cheung/Courses/561/Syllabus/3-C/sparse.html)\n",
        "- [Good explanation](https://youtu.be/hp2ipC5pW4I?t=1575)\n",
        "\n",
        "\n",
        "A class of matrices (e.g, diagonal) is generally called sparse if the number of non-zero elements is proportional to the number of rows (or columns) instead of being proportional to the product rows x columns.\n",
        "\n",
        "**Scipy Implementation**\n",
        "\n",
        "From the Scipy Sparse Matrix Documentation\n",
        "\n",
        "- To construct a matrix efficiently, use either dok_matrix or lil_matrix. The lil_matrix class supports basic slicing and fancy indexing with a similar syntax to NumPy arrays. As illustrated below, the COO format may also be used to efficiently construct matrices\n",
        "- To perform manipulations such as multiplication or inversion, first convert the matrix to either CSC or CSR format.\n",
        "- All conversions among the CSR, CSC, and COO formats are efficient, linear-time operations."
      ]
    },
    {
      "cell_type": "markdown",
      "metadata": {
        "id": "YmRE63qtooml",
        "colab_type": "text"
      },
      "source": [
        "## Our version of CountVectorizer"
      ]
    },
    {
      "cell_type": "code",
      "metadata": {
        "id": "todRcgSFk_mt",
        "colab_type": "code",
        "outputId": "49b92631-1a1a-40b4-884d-0625782ff8da",
        "colab": {
          "base_uri": "https://localhost:8080/",
          "height": 1000
        }
      },
      "source": [
        "Counter((article_reviews.valid.x)[0].data)"
      ],
      "execution_count": 623,
      "outputs": [
        {
          "output_type": "execute_result",
          "data": {
            "text/plain": [
              "Counter({0: 52,\n",
              "         2: 1,\n",
              "         5: 161,\n",
              "         6: 4,\n",
              "         9: 30,\n",
              "         10: 46,\n",
              "         11: 21,\n",
              "         12: 19,\n",
              "         13: 11,\n",
              "         14: 8,\n",
              "         16: 5,\n",
              "         17: 5,\n",
              "         18: 2,\n",
              "         19: 8,\n",
              "         20: 8,\n",
              "         21: 2,\n",
              "         22: 1,\n",
              "         23: 1,\n",
              "         24: 4,\n",
              "         25: 9,\n",
              "         26: 5,\n",
              "         27: 4,\n",
              "         28: 4,\n",
              "         29: 2,\n",
              "         30: 4,\n",
              "         31: 2,\n",
              "         32: 4,\n",
              "         33: 2,\n",
              "         34: 3,\n",
              "         35: 4,\n",
              "         36: 2,\n",
              "         37: 8,\n",
              "         38: 4,\n",
              "         39: 2,\n",
              "         41: 1,\n",
              "         42: 4,\n",
              "         43: 1,\n",
              "         44: 2,\n",
              "         45: 9,\n",
              "         46: 1,\n",
              "         48: 1,\n",
              "         49: 3,\n",
              "         50: 1,\n",
              "         51: 3,\n",
              "         53: 4,\n",
              "         54: 1,\n",
              "         56: 5,\n",
              "         57: 3,\n",
              "         59: 3,\n",
              "         62: 2,\n",
              "         63: 1,\n",
              "         64: 1,\n",
              "         65: 2,\n",
              "         66: 1,\n",
              "         67: 2,\n",
              "         69: 3,\n",
              "         73: 2,\n",
              "         74: 1,\n",
              "         75: 2,\n",
              "         78: 3,\n",
              "         79: 2,\n",
              "         86: 1,\n",
              "         87: 2,\n",
              "         88: 1,\n",
              "         90: 2,\n",
              "         95: 3,\n",
              "         100: 4,\n",
              "         102: 1,\n",
              "         103: 1,\n",
              "         105: 1,\n",
              "         106: 1,\n",
              "         110: 1,\n",
              "         117: 1,\n",
              "         119: 1,\n",
              "         120: 2,\n",
              "         121: 1,\n",
              "         122: 1,\n",
              "         123: 2,\n",
              "         132: 2,\n",
              "         136: 1,\n",
              "         140: 2,\n",
              "         142: 8,\n",
              "         146: 1,\n",
              "         152: 1,\n",
              "         153: 3,\n",
              "         155: 2,\n",
              "         159: 1,\n",
              "         160: 1,\n",
              "         162: 1,\n",
              "         163: 1,\n",
              "         175: 1,\n",
              "         176: 2,\n",
              "         177: 1,\n",
              "         179: 2,\n",
              "         182: 1,\n",
              "         183: 1,\n",
              "         194: 4,\n",
              "         200: 2,\n",
              "         205: 1,\n",
              "         208: 7,\n",
              "         209: 1,\n",
              "         211: 1,\n",
              "         212: 1,\n",
              "         213: 1,\n",
              "         216: 1,\n",
              "         218: 1,\n",
              "         235: 4,\n",
              "         239: 1,\n",
              "         245: 3,\n",
              "         248: 4,\n",
              "         269: 7,\n",
              "         270: 1,\n",
              "         273: 1,\n",
              "         284: 1,\n",
              "         285: 4,\n",
              "         288: 1,\n",
              "         291: 1,\n",
              "         293: 1,\n",
              "         301: 2,\n",
              "         324: 3,\n",
              "         328: 1,\n",
              "         356: 1,\n",
              "         374: 1,\n",
              "         384: 2,\n",
              "         387: 1,\n",
              "         390: 1,\n",
              "         399: 4,\n",
              "         416: 1,\n",
              "         418: 2,\n",
              "         426: 3,\n",
              "         450: 9,\n",
              "         457: 1,\n",
              "         487: 1,\n",
              "         532: 1,\n",
              "         535: 1,\n",
              "         537: 1,\n",
              "         542: 1,\n",
              "         549: 1,\n",
              "         563: 3,\n",
              "         589: 1,\n",
              "         638: 1,\n",
              "         642: 3,\n",
              "         668: 4,\n",
              "         678: 1,\n",
              "         689: 1,\n",
              "         690: 1,\n",
              "         696: 1,\n",
              "         707: 1,\n",
              "         713: 2,\n",
              "         742: 2,\n",
              "         765: 1,\n",
              "         788: 1,\n",
              "         793: 1,\n",
              "         845: 1,\n",
              "         852: 1,\n",
              "         855: 1,\n",
              "         898: 1,\n",
              "         902: 1,\n",
              "         903: 3,\n",
              "         924: 1,\n",
              "         965: 1,\n",
              "         990: 1,\n",
              "         1046: 1,\n",
              "         1049: 2,\n",
              "         1062: 2,\n",
              "         1082: 1,\n",
              "         1105: 2,\n",
              "         1141: 1,\n",
              "         1204: 1,\n",
              "         1248: 1,\n",
              "         1307: 2,\n",
              "         1342: 1,\n",
              "         1350: 3,\n",
              "         1356: 1,\n",
              "         1421: 1,\n",
              "         1443: 1,\n",
              "         1504: 1,\n",
              "         1519: 1,\n",
              "         1554: 3,\n",
              "         1566: 2,\n",
              "         1588: 1,\n",
              "         1589: 4,\n",
              "         1604: 1,\n",
              "         1679: 1,\n",
              "         1691: 1,\n",
              "         1693: 1,\n",
              "         1700: 1,\n",
              "         1748: 3,\n",
              "         1848: 1,\n",
              "         1884: 1,\n",
              "         2016: 1,\n",
              "         2055: 1,\n",
              "         2063: 1,\n",
              "         2069: 1,\n",
              "         2168: 1,\n",
              "         2171: 1,\n",
              "         2186: 2,\n",
              "         2187: 1,\n",
              "         2269: 1,\n",
              "         2374: 1,\n",
              "         2430: 2,\n",
              "         2673: 1,\n",
              "         2698: 1,\n",
              "         2928: 1,\n",
              "         3128: 1,\n",
              "         3174: 2,\n",
              "         3211: 1,\n",
              "         3222: 1,\n",
              "         3485: 1,\n",
              "         3546: 1,\n",
              "         3582: 1,\n",
              "         3756: 1,\n",
              "         3790: 1,\n",
              "         3827: 1,\n",
              "         3944: 1,\n",
              "         3992: 1,\n",
              "         4048: 1,\n",
              "         4406: 1,\n",
              "         4457: 1,\n",
              "         4551: 2,\n",
              "         4646: 1,\n",
              "         4849: 1,\n",
              "         5054: 1,\n",
              "         5124: 2,\n",
              "         5226: 1,\n",
              "         5272: 1,\n",
              "         5508: 1,\n",
              "         5928: 2,\n",
              "         6109: 1,\n",
              "         6137: 1,\n",
              "         6218: 1,\n",
              "         6836: 1,\n",
              "         6879: 1,\n",
              "         7438: 1,\n",
              "         7927: 1,\n",
              "         8489: 1,\n",
              "         8791: 1,\n",
              "         8911: 1,\n",
              "         9174: 2,\n",
              "         9765: 1,\n",
              "         9851: 1,\n",
              "         10377: 1})"
            ]
          },
          "metadata": {
            "tags": []
          },
          "execution_count": 623
        }
      ]
    },
    {
      "cell_type": "code",
      "metadata": {
        "id": "2A1bg9M1rA23",
        "colab_type": "code",
        "outputId": "0efe817f-2f3c-4ff8-a7a8-4be028eef2b0",
        "colab": {
          "base_uri": "https://localhost:8080/",
          "height": 35
        }
      },
      "source": [
        "# Look at first article: we get a list of integers which are representing the article\n",
        "(article_reviews.valid.x)[0].data"
      ],
      "execution_count": 624,
      "outputs": [
        {
          "output_type": "execute_result",
          "data": {
            "text/plain": [
              "array([   2,    5,  269,  668, ...,  122,   24, 9174,    9])"
            ]
          },
          "metadata": {
            "tags": []
          },
          "execution_count": 624
        }
      ]
    },
    {
      "cell_type": "code",
      "metadata": {
        "id": "D6BEslmCswyQ",
        "colab_type": "code",
        "outputId": "d5c5366e-38d0-45de-810d-215cb7043f04",
        "colab": {
          "base_uri": "https://localhost:8080/",
          "height": 1000
        }
      },
      "source": [
        "# Apply counter on the article\n",
        "Counter((article_reviews.valid.x)[0].data)"
      ],
      "execution_count": 625,
      "outputs": [
        {
          "output_type": "execute_result",
          "data": {
            "text/plain": [
              "Counter({0: 52,\n",
              "         2: 1,\n",
              "         5: 161,\n",
              "         6: 4,\n",
              "         9: 30,\n",
              "         10: 46,\n",
              "         11: 21,\n",
              "         12: 19,\n",
              "         13: 11,\n",
              "         14: 8,\n",
              "         16: 5,\n",
              "         17: 5,\n",
              "         18: 2,\n",
              "         19: 8,\n",
              "         20: 8,\n",
              "         21: 2,\n",
              "         22: 1,\n",
              "         23: 1,\n",
              "         24: 4,\n",
              "         25: 9,\n",
              "         26: 5,\n",
              "         27: 4,\n",
              "         28: 4,\n",
              "         29: 2,\n",
              "         30: 4,\n",
              "         31: 2,\n",
              "         32: 4,\n",
              "         33: 2,\n",
              "         34: 3,\n",
              "         35: 4,\n",
              "         36: 2,\n",
              "         37: 8,\n",
              "         38: 4,\n",
              "         39: 2,\n",
              "         41: 1,\n",
              "         42: 4,\n",
              "         43: 1,\n",
              "         44: 2,\n",
              "         45: 9,\n",
              "         46: 1,\n",
              "         48: 1,\n",
              "         49: 3,\n",
              "         50: 1,\n",
              "         51: 3,\n",
              "         53: 4,\n",
              "         54: 1,\n",
              "         56: 5,\n",
              "         57: 3,\n",
              "         59: 3,\n",
              "         62: 2,\n",
              "         63: 1,\n",
              "         64: 1,\n",
              "         65: 2,\n",
              "         66: 1,\n",
              "         67: 2,\n",
              "         69: 3,\n",
              "         73: 2,\n",
              "         74: 1,\n",
              "         75: 2,\n",
              "         78: 3,\n",
              "         79: 2,\n",
              "         86: 1,\n",
              "         87: 2,\n",
              "         88: 1,\n",
              "         90: 2,\n",
              "         95: 3,\n",
              "         100: 4,\n",
              "         102: 1,\n",
              "         103: 1,\n",
              "         105: 1,\n",
              "         106: 1,\n",
              "         110: 1,\n",
              "         117: 1,\n",
              "         119: 1,\n",
              "         120: 2,\n",
              "         121: 1,\n",
              "         122: 1,\n",
              "         123: 2,\n",
              "         132: 2,\n",
              "         136: 1,\n",
              "         140: 2,\n",
              "         142: 8,\n",
              "         146: 1,\n",
              "         152: 1,\n",
              "         153: 3,\n",
              "         155: 2,\n",
              "         159: 1,\n",
              "         160: 1,\n",
              "         162: 1,\n",
              "         163: 1,\n",
              "         175: 1,\n",
              "         176: 2,\n",
              "         177: 1,\n",
              "         179: 2,\n",
              "         182: 1,\n",
              "         183: 1,\n",
              "         194: 4,\n",
              "         200: 2,\n",
              "         205: 1,\n",
              "         208: 7,\n",
              "         209: 1,\n",
              "         211: 1,\n",
              "         212: 1,\n",
              "         213: 1,\n",
              "         216: 1,\n",
              "         218: 1,\n",
              "         235: 4,\n",
              "         239: 1,\n",
              "         245: 3,\n",
              "         248: 4,\n",
              "         269: 7,\n",
              "         270: 1,\n",
              "         273: 1,\n",
              "         284: 1,\n",
              "         285: 4,\n",
              "         288: 1,\n",
              "         291: 1,\n",
              "         293: 1,\n",
              "         301: 2,\n",
              "         324: 3,\n",
              "         328: 1,\n",
              "         356: 1,\n",
              "         374: 1,\n",
              "         384: 2,\n",
              "         387: 1,\n",
              "         390: 1,\n",
              "         399: 4,\n",
              "         416: 1,\n",
              "         418: 2,\n",
              "         426: 3,\n",
              "         450: 9,\n",
              "         457: 1,\n",
              "         487: 1,\n",
              "         532: 1,\n",
              "         535: 1,\n",
              "         537: 1,\n",
              "         542: 1,\n",
              "         549: 1,\n",
              "         563: 3,\n",
              "         589: 1,\n",
              "         638: 1,\n",
              "         642: 3,\n",
              "         668: 4,\n",
              "         678: 1,\n",
              "         689: 1,\n",
              "         690: 1,\n",
              "         696: 1,\n",
              "         707: 1,\n",
              "         713: 2,\n",
              "         742: 2,\n",
              "         765: 1,\n",
              "         788: 1,\n",
              "         793: 1,\n",
              "         845: 1,\n",
              "         852: 1,\n",
              "         855: 1,\n",
              "         898: 1,\n",
              "         902: 1,\n",
              "         903: 3,\n",
              "         924: 1,\n",
              "         965: 1,\n",
              "         990: 1,\n",
              "         1046: 1,\n",
              "         1049: 2,\n",
              "         1062: 2,\n",
              "         1082: 1,\n",
              "         1105: 2,\n",
              "         1141: 1,\n",
              "         1204: 1,\n",
              "         1248: 1,\n",
              "         1307: 2,\n",
              "         1342: 1,\n",
              "         1350: 3,\n",
              "         1356: 1,\n",
              "         1421: 1,\n",
              "         1443: 1,\n",
              "         1504: 1,\n",
              "         1519: 1,\n",
              "         1554: 3,\n",
              "         1566: 2,\n",
              "         1588: 1,\n",
              "         1589: 4,\n",
              "         1604: 1,\n",
              "         1679: 1,\n",
              "         1691: 1,\n",
              "         1693: 1,\n",
              "         1700: 1,\n",
              "         1748: 3,\n",
              "         1848: 1,\n",
              "         1884: 1,\n",
              "         2016: 1,\n",
              "         2055: 1,\n",
              "         2063: 1,\n",
              "         2069: 1,\n",
              "         2168: 1,\n",
              "         2171: 1,\n",
              "         2186: 2,\n",
              "         2187: 1,\n",
              "         2269: 1,\n",
              "         2374: 1,\n",
              "         2430: 2,\n",
              "         2673: 1,\n",
              "         2698: 1,\n",
              "         2928: 1,\n",
              "         3128: 1,\n",
              "         3174: 2,\n",
              "         3211: 1,\n",
              "         3222: 1,\n",
              "         3485: 1,\n",
              "         3546: 1,\n",
              "         3582: 1,\n",
              "         3756: 1,\n",
              "         3790: 1,\n",
              "         3827: 1,\n",
              "         3944: 1,\n",
              "         3992: 1,\n",
              "         4048: 1,\n",
              "         4406: 1,\n",
              "         4457: 1,\n",
              "         4551: 2,\n",
              "         4646: 1,\n",
              "         4849: 1,\n",
              "         5054: 1,\n",
              "         5124: 2,\n",
              "         5226: 1,\n",
              "         5272: 1,\n",
              "         5508: 1,\n",
              "         5928: 2,\n",
              "         6109: 1,\n",
              "         6137: 1,\n",
              "         6218: 1,\n",
              "         6836: 1,\n",
              "         6879: 1,\n",
              "         7438: 1,\n",
              "         7927: 1,\n",
              "         8489: 1,\n",
              "         8791: 1,\n",
              "         8911: 1,\n",
              "         9174: 2,\n",
              "         9765: 1,\n",
              "         9851: 1,\n",
              "         10377: 1})"
            ]
          },
          "metadata": {
            "tags": []
          },
          "execution_count": 625
        }
      ]
    },
    {
      "cell_type": "code",
      "metadata": {
        "id": "YHri4z6crtPJ",
        "colab_type": "code",
        "outputId": "3dc87c8b-fd0f-433c-dacb-9c8dd9f20daf",
        "colab": {
          "base_uri": "https://localhost:8080/",
          "height": 35
        }
      },
      "source": [
        "# check what value the number is represeting:\n",
        "article_reviews.vocab.itos[11]"
      ],
      "execution_count": 626,
      "outputs": [
        {
          "output_type": "execute_result",
          "data": {
            "text/plain": [
              "'der'"
            ]
          },
          "metadata": {
            "tags": []
          },
          "execution_count": 626
        }
      ]
    },
    {
      "cell_type": "code",
      "metadata": {
        "id": "E35g5qHkq099",
        "colab_type": "code",
        "outputId": "6344de5a-d3a8-4dd8-8e8d-722ea7f9e224",
        "colab": {
          "base_uri": "https://localhost:8080/",
          "height": 55
        }
      },
      "source": [
        "# Look at first article:\n",
        "(article_reviews.valid.x)[0]"
      ],
      "execution_count": 627,
      "outputs": [
        {
          "output_type": "execute_result",
          "data": {
            "text/plain": [
              "Text xxbos xxmaj frauen kamen mit xxunk xxmaj strafen davon – xxmaj urteil nicht rechtskräftig . xxmaj graz – xxmaj mit teilweise xxunk xxunk xxmaj xxunk ist am xxmaj montag der xxmaj prozess gegen sechs xxmaj xxunk zu xxmaj ende gegangen . xxmaj drei xxmaj männer und eine xxmaj frau wurden der terroristischen xxmaj vereinigung für schuldig befunden , zwei xxmaj frauen wurden wegen xxmaj xxunk verurteilt . xxmaj die xxmaj männer wurden zu fünf und sechs xxmaj jahren xxmaj haft verurteilt , die xxmaj frauen kamen mit drei , fünf und 15 xxmaj monaten , großteils bedingt , davon . xxmaj die höchste xxmaj strafe , sechs xxmaj jahre unbedingt , wurde über einen xxunk verhängt , der als xxmaj xxunk in einer xxmaj grazer xxmaj moschee tätig war . xxmaj er habe durch seine xxmaj predigten xxmaj männer xxunk , nach xxmaj syrien zu gehen , wenn es ihm auch nicht in allen angeklagten xxmaj fällen nachgewiesen werden habe können , hieß es in der xxmaj xxunk . xxmaj bei den beiden xxunk xxmaj männern bestehe an der xxmaj schuld kein xxmaj zweifel , so der xxmaj richter . xxmaj beide sind nach xxmaj meinung des xxmaj gerichts als xxmaj kämpfer für die xxmaj terrororganisation xxmaj islamischer xxmaj staat ( xxup is ) tätig gewesen und müssen jeweils fünf xxmaj jahre xxmaj haft xxunk xxunk xxmaj die junge xxmaj frau , die mit drei xxmaj kindern nach xxmaj syrien gehen wollte , wurde zu 15 xxmaj monaten xxmaj haft , davon ein xxmaj monat unbedingt , verurteilt . xxmaj ihre xxmaj schwester und ihre xxmaj mutter kamen wegen xxmaj xxunk mit drei bzw . fünf xxmaj monaten bedingt davon . xxmaj der xxmaj prozess hatte am 5 . xxmaj februar begonnen , nur sechs von ursprünglich acht xxmaj angeklagten waren erschienen . xxmaj die xxmaj hauptrolle spielte jener xxunk , der in der xxmaj funktion eines xxmaj xxunk – ohne offizielle xxmaj ausbildung – in einer xxmaj grazer xxmaj moschee tätig war . xxmaj ihm wurde vorgeworfen , mehrere junge xxmaj männer nach als xxmaj kämpfer nach xxmaj syrien vermittelt zu haben , von denen einige bereits kurz nach ihrer xxmaj ankunft ums xxmaj leben kamen . xxmaj unter ihnen war auch der xxmaj mann jener xxmaj angeklagten , die nach seinem xxmaj tod mit ihren drei xxmaj kindern nach xxmaj syrien ziehen wollte . xxmaj ausschlaggebend für die xxmaj xxunk soll auch das xxmaj angebot des xxmaj xxunk an sie gewesen sein , seine dritte xxmaj frau zu werden . xxmaj die xxmaj schwester und die xxmaj mutter der junge xxmaj frau xxunk die xxmaj xxunk , indem sie sie xxunk und xxunk ließen , sie wolle sich dem xxup is anschließen . xxmaj doch später zogen sie ihre xxmaj aussage zurück , xxunk sie wegen xxmaj xxunk auf der xxmaj anklagebank xxunk . xxmaj doch der xxmaj staatsanwalt hatte ein xxunk xxmaj verständnis für alle drei xxmaj frauen : xxmaj es war eine xxmaj situation xxunk xxmaj not , meinte er . xxmaj einer der beschuldigten xxmaj männer war in xxmaj syrien , angeblich um einen xxmaj film zu drehen , mit dem er xxmaj geld für den xxmaj kampf in xxmaj tschetschenien xxunk wollte . xxmaj der dritte xxmaj angeklagte soll für den xxup is gekämpft haben , hat das aber stets xxunk . xxmaj ein ehemaliger xxmaj kämpfer , der nun i m xxmaj xxunk ist , hatte ihn belastet . xxmaj der xxmaj xxunk forderte für alle drei xxmaj männer strenge xxmaj strafen : xxmaj österreich ist xxunk für die xxmaj xxunk , die xxmaj männer können nach xxmaj syrien kämpfen gehen und die xxmaj frauen werden hier vom xxmaj staat versorgt . xxmaj das ist ein extremer xxmaj xxunk , der hier zutage kommt . xxmaj in xxmaj syrien gehe es beim xxup is gar nicht um den xxmaj kampf gegen xxmaj machthaber xxmaj assad , sondern um xxmaj xxunk , xxmaj mord und xxmaj xxunk . xxmaj das alles sei nichts anderes als xxunk xxmaj xxunk mit xxmaj xxunk , eine xxmaj xxunk xxunk , wie bei den xxmaj nationalsozialisten oder xxmaj xxunk , immer der gleiche xxmaj xxunk , xxunk der xxmaj staatsanwalt . xxmaj die xxmaj männer sind nur groß , wenn sie eine xxmaj xxunk haben , sonst sind sie sehr , sehr xxunk und schicken ihre xxmaj frauen vor , um zu xxunk , fuhr er auf die xxmaj angeklagten xxunk , weiter fort . xxmaj die xxunk xxmaj männer entschieden sich sofort für xxmaj berufung , die xxmaj frauen nahmen an oder xxunk drei xxmaj tage xxmaj xxunk . xxmaj der xxmaj staatsanwalt kündigte xxmaj xxunk und xxmaj berufung an . xxmaj das xxmaj urteil ist damit nicht rechtskräftig ."
            ]
          },
          "metadata": {
            "tags": []
          },
          "execution_count": 627
        }
      ]
    },
    {
      "cell_type": "markdown",
      "metadata": {
        "id": "s4laS-Yotmcu",
        "colab_type": "text"
      },
      "source": [
        "Construct the term-doc-martix:\n",
        "\n",
        "Detailed [explanation:](https://youtu.be/hp2ipC5pW4I?t=2688)"
      ]
    },
    {
      "cell_type": "code",
      "metadata": {
        "id": "3zVk_1E1omd8",
        "colab_type": "code",
        "colab": {}
      },
      "source": [
        "def get_term_doc_matrix(label_list, vocab_len):\n",
        "    j_indices = []\n",
        "    indptr = []\n",
        "    values = []\n",
        "    indptr.append(0)\n",
        "\n",
        "    for i, doc in enumerate(label_list):\n",
        "        feature_counter = Counter(doc.data)\n",
        "        j_indices.extend(feature_counter.keys())\n",
        "        values.extend(feature_counter.values())\n",
        "        indptr.append(len(j_indices))\n",
        "        \n",
        "#     return (values, j_indices, indptr)\n",
        "\n",
        "    return scipy.sparse.csr_matrix((values, j_indices, indptr),\n",
        "                                   shape=(len(indptr) - 1, vocab_len),\n",
        "                                   dtype=int)"
      ],
      "execution_count": 0,
      "outputs": []
    },
    {
      "cell_type": "code",
      "metadata": {
        "id": "6WR_osOeuI2i",
        "colab_type": "code",
        "outputId": "51528e41-5cea-4bc4-ef28-0fdbc3c75b6f",
        "colab": {
          "base_uri": "https://localhost:8080/",
          "height": 54
        }
      },
      "source": [
        "%%time\n",
        "val_term_doc = get_term_doc_matrix(article_reviews.valid.x, len(article_reviews.vocab.itos))"
      ],
      "execution_count": 629,
      "outputs": [
        {
          "output_type": "stream",
          "text": [
            "CPU times: user 997 ms, sys: 38.2 ms, total: 1.04 s\n",
            "Wall time: 987 ms\n"
          ],
          "name": "stdout"
        }
      ]
    },
    {
      "cell_type": "code",
      "metadata": {
        "id": "ry0R4K63uNK0",
        "colab_type": "code",
        "outputId": "0cd79815-a424-4188-c0f1-f7eed6e6a9d6",
        "colab": {
          "base_uri": "https://localhost:8080/",
          "height": 54
        }
      },
      "source": [
        "%%time\n",
        "trn_term_doc = get_term_doc_matrix(article_reviews.train.x, len(article_reviews.vocab.itos))"
      ],
      "execution_count": 630,
      "outputs": [
        {
          "output_type": "stream",
          "text": [
            "CPU times: user 255 ms, sys: 7.67 ms, total: 262 ms\n",
            "Wall time: 250 ms\n"
          ],
          "name": "stdout"
        }
      ]
    },
    {
      "cell_type": "code",
      "metadata": {
        "id": "C1SQknaKuQI-",
        "colab_type": "code",
        "outputId": "cbce4a31-80a7-423a-c647-23d9183c6240",
        "colab": {
          "base_uri": "https://localhost:8080/",
          "height": 35
        }
      },
      "source": [
        "trn_term_doc.shape"
      ],
      "execution_count": 631,
      "outputs": [
        {
          "output_type": "execute_result",
          "data": {
            "text/plain": [
              "(800, 11064)"
            ]
          },
          "metadata": {
            "tags": []
          },
          "execution_count": 631
        }
      ]
    },
    {
      "cell_type": "code",
      "metadata": {
        "id": "5QmnsYUjuTDT",
        "colab_type": "code",
        "outputId": "5c2a4bd9-ea09-46ad-a9f0-4716a598376a",
        "colab": {
          "base_uri": "https://localhost:8080/",
          "height": 54
        }
      },
      "source": [
        "# show m x n matrix\n",
        "trn_term_doc[:10,:10]"
      ],
      "execution_count": 632,
      "outputs": [
        {
          "output_type": "execute_result",
          "data": {
            "text/plain": [
              "<10x10 sparse matrix of type '<class 'numpy.int64'>'\n",
              "\twith 48 stored elements in Compressed Sparse Row format>"
            ]
          },
          "metadata": {
            "tags": []
          },
          "execution_count": 632
        }
      ]
    },
    {
      "cell_type": "code",
      "metadata": {
        "id": "yxwRer8iuV0e",
        "colab_type": "code",
        "outputId": "659a2b27-f73e-4afd-e6ae-542abeb6dfaf",
        "colab": {
          "base_uri": "https://localhost:8080/",
          "height": 35
        }
      },
      "source": [
        "val_term_doc.shape"
      ],
      "execution_count": 633,
      "outputs": [
        {
          "output_type": "execute_result",
          "data": {
            "text/plain": [
              "(3200, 11064)"
            ]
          },
          "metadata": {
            "tags": []
          },
          "execution_count": 633
        }
      ]
    },
    {
      "cell_type": "markdown",
      "metadata": {
        "id": "VvRwRtIxLWRD",
        "colab_type": "text"
      },
      "source": [
        "## More data exploration"
      ]
    },
    {
      "cell_type": "markdown",
      "metadata": {
        "id": "37UG5zC8NL6T",
        "colab_type": "text"
      },
      "source": [
        "We could convert our sparse matrix to a dense matrix:"
      ]
    },
    {
      "cell_type": "code",
      "metadata": {
        "id": "y2BJcLQ7ONKT",
        "colab_type": "code",
        "outputId": "7158a5c2-bb38-418e-d0e5-408c69d56369",
        "colab": {
          "base_uri": "https://localhost:8080/",
          "height": 35
        }
      },
      "source": [
        "article_reviews.vocab.itos[10:20] # first words"
      ],
      "execution_count": 634,
      "outputs": [
        {
          "output_type": "execute_result",
          "data": {
            "text/plain": [
              "[',', 'der', 'die', 'und', 'in', '-', 'das', 'den', 'von', 'mit']"
            ]
          },
          "metadata": {
            "tags": []
          },
          "execution_count": 634
        }
      ]
    },
    {
      "cell_type": "code",
      "metadata": {
        "id": "RBF1Fyq6ugyD",
        "colab_type": "code",
        "outputId": "fa506272-eb56-4220-c064-3b8c4ff7f87c",
        "colab": {
          "base_uri": "https://localhost:8080/",
          "height": 35
        }
      },
      "source": [
        "article_reviews.vocab.itos[-1:] # last word"
      ],
      "execution_count": 635,
      "outputs": [
        {
          "output_type": "execute_result",
          "data": {
            "text/plain": [
              "['xxfake']"
            ]
          },
          "metadata": {
            "tags": []
          },
          "execution_count": 635
        }
      ]
    },
    {
      "cell_type": "code",
      "metadata": {
        "id": "_nB-LvdmNQV4",
        "colab_type": "code",
        "outputId": "bbff0f49-392b-4bd0-b9e6-cdc641a8b64a",
        "colab": {
          "base_uri": "https://localhost:8080/",
          "height": 181
        }
      },
      "source": [
        "val_term_doc.todense()[:10,:10]"
      ],
      "execution_count": 636,
      "outputs": [
        {
          "output_type": "execute_result",
          "data": {
            "text/plain": [
              "matrix([[ 52,   0,   1,   0, ...,   4,   0,   0,  30],\n",
              "        [ 17,   0,   1,   0, ...,   4,   0,   0,   8],\n",
              "        [ 64,   0,   1,   0, ...,   1,   0,   0,  30],\n",
              "        [ 91,   0,   1,   0, ...,   0,   0,   0,  18],\n",
              "        ...,\n",
              "        [ 29,   0,   1,   0, ...,   0,   0,   0,   8],\n",
              "        [ 75,   0,   1,   0, ...,   2,   0,   0,  26],\n",
              "        [ 25,   0,   1,   0, ...,  11,   0,   0,  16],\n",
              "        [184,   0,   1,   0, ...,   2,   0,   0,  58]])"
            ]
          },
          "metadata": {
            "tags": []
          },
          "execution_count": 636
        }
      ]
    },
    {
      "cell_type": "markdown",
      "metadata": {
        "id": "N6zBjqcUQvkZ",
        "colab_type": "text"
      },
      "source": [
        "### Read term-doc-matrix (example)"
      ]
    },
    {
      "cell_type": "code",
      "metadata": {
        "id": "pRl4W6f1NWWf",
        "colab_type": "code",
        "outputId": "af8ad123-6e1f-4a5e-9768-705ec041f282",
        "colab": {
          "base_uri": "https://localhost:8080/",
          "height": 55
        }
      },
      "source": [
        "# Look at a particular review\n",
        "review = article_reviews.valid.x[1]; review"
      ],
      "execution_count": 637,
      "outputs": [
        {
          "output_type": "execute_result",
          "data": {
            "text/plain": [
              "Text xxbos \" xxmaj österreicher wählen eben so , wie sie es vom xxmaj xxunk kennen : möglichst xxunk und schön braun \" : xxmaj tiroler xxmaj xxunk zeigte xxup zdf - xxmaj sendung an . xxmaj wien – xxmaj die xxmaj ergebnisse der xxmaj bundespräsidentenwahl und die xxunk xxmaj prozent , die xxup fpö - xxmaj kandidat xxmaj norbert xxmaj hofer an dem xxmaj wochenende erreichte , xxunk in xxmaj deutschland und xxmaj österreich xxmaj diskussionen aus . xxmaj auf der xxmaj facebook - xxmaj seite der xxup zdf - xxmaj heute - xxmaj show wurde dazu am xxmaj montag nach der xxmaj wahl ein xxmaj bild veröffentlicht , das ein xxmaj xxunk in xxmaj form eines xxmaj xxunk zeigt . xxmaj dazu der xxmaj text : xxmaj österreicher wählen eben so , wie sie es vom xxmaj xxunk kennen : möglichst xxunk und schön braun . xxmaj es seien bereits zwei xxmaj xxunk bezüglich des xxmaj xxunk bei der xxmaj staatsanwaltschaft xxmaj mainz eingetroffen – eine aus xxmaj österreich , die andere aus xxmaj deutschland , berichtet die xxmaj xxunk xxmaj allgemeine . xxmaj die xxmaj anzeige aus xxmaj österreich stammt laut xxmaj tiroler xxmaj tageszeitung von einem xxmaj tiroler xxmaj jus - xxmaj studenten ( xxunk xxup fpö - xxmaj mitglied ) . xxmaj er xxunk sich auf den xxmaj xxunk 103 des xxmaj xxunk : xxmaj beleidigung von xxmaj xxunk und xxmaj vertretern ausländischer xxmaj staaten . xxmaj die deutsche xxmaj kanzlerin xxmaj angela xxmaj merkel hatte zuvor angekündigt , xxmaj paragraf 103 erst 2018 abzuschaffen ."
            ]
          },
          "metadata": {
            "tags": []
          },
          "execution_count": 637
        }
      ]
    },
    {
      "cell_type": "markdown",
      "metadata": {
        "id": "ywta8L7fPpNr",
        "colab_type": "text"
      },
      "source": [
        "Since the word \"deutschland\" shows up 2 times in this review, I want to confirm that a value of 2 is stored in the term-document matrix, for the row corresponding to this review and the column corresponding to the word \"deutschland\"."
      ]
    },
    {
      "cell_type": "code",
      "metadata": {
        "id": "aG8_KpdINaXQ",
        "colab_type": "code",
        "outputId": "dfc89396-8fb2-445d-a204-d667110adc99",
        "colab": {
          "base_uri": "https://localhost:8080/",
          "height": 54
        }
      },
      "source": [
        "print(article_reviews.vocab.stoi['deutschland'])\n",
        "\n",
        "val_term_doc[1, article_reviews.vocab.stoi['deutschland'] ]"
      ],
      "execution_count": 638,
      "outputs": [
        {
          "output_type": "stream",
          "text": [
            "249\n"
          ],
          "name": "stdout"
        },
        {
          "output_type": "execute_result",
          "data": {
            "text/plain": [
              "2"
            ]
          },
          "metadata": {
            "tags": []
          },
          "execution_count": 638
        }
      ]
    },
    {
      "cell_type": "code",
      "metadata": {
        "id": "CHlDt5rnQaTb",
        "colab_type": "code",
        "outputId": "e223bd8f-cba7-4c40-90bc-f242f30efb71",
        "colab": {
          "base_uri": "https://localhost:8080/",
          "height": 35
        }
      },
      "source": [
        "val_term_doc[1].sum() # number of tokens in this review"
      ],
      "execution_count": 639,
      "outputs": [
        {
          "output_type": "execute_result",
          "data": {
            "text/plain": [
              "260"
            ]
          },
          "metadata": {
            "tags": []
          },
          "execution_count": 639
        }
      ]
    },
    {
      "cell_type": "code",
      "metadata": {
        "id": "zwDOwUeGRTba",
        "colab_type": "code",
        "outputId": "6f5ed919-284d-4cd5-dea1-d2ce94f465de",
        "colab": {
          "base_uri": "https://localhost:8080/",
          "height": 54
        }
      },
      "source": [
        "val_term_doc[1] # 108 distinct tokens in this review"
      ],
      "execution_count": 640,
      "outputs": [
        {
          "output_type": "execute_result",
          "data": {
            "text/plain": [
              "<1x11064 sparse matrix of type '<class 'numpy.int64'>'\n",
              "\twith 108 stored elements in Compressed Sparse Row format>"
            ]
          },
          "metadata": {
            "tags": []
          },
          "execution_count": 640
        }
      ]
    },
    {
      "cell_type": "code",
      "metadata": {
        "id": "rdMgT1mVTG0N",
        "colab_type": "code",
        "outputId": "ddfbad27-0a72-4493-b37e-37535966a1c9",
        "colab": {
          "base_uri": "https://localhost:8080/",
          "height": 35
        }
      },
      "source": [
        "len(set(review.data)) # number of distinct tokens in this review"
      ],
      "execution_count": 641,
      "outputs": [
        {
          "output_type": "execute_result",
          "data": {
            "text/plain": [
              "108"
            ]
          },
          "metadata": {
            "tags": []
          },
          "execution_count": 641
        }
      ]
    },
    {
      "cell_type": "markdown",
      "metadata": {
        "id": "V40RoYA0R3cu",
        "colab_type": "text"
      },
      "source": [
        "The review has 108  distinct tokens in it, and 260 tokens total."
      ]
    },
    {
      "cell_type": "code",
      "metadata": {
        "id": "jHQy0npLRbcy",
        "colab_type": "code",
        "outputId": "512dae57-188f-4df2-953f-490ab2a11098",
        "colab": {
          "base_uri": "https://localhost:8080/",
          "height": 35
        }
      },
      "source": [
        "review.data # review in integers"
      ],
      "execution_count": 642,
      "outputs": [
        {
          "output_type": "execute_result",
          "data": {
            "text/plain": [
              "array([   2,   91,    5,  698, ...,  186, 1339, 8444,    9])"
            ]
          },
          "metadata": {
            "tags": []
          },
          "execution_count": 642
        }
      ]
    },
    {
      "cell_type": "code",
      "metadata": {
        "id": "cWG-bYKcR-uY",
        "colab_type": "code",
        "outputId": "04d3d262-2c9b-46cb-ca5c-055d7b81d78a",
        "colab": {
          "base_uri": "https://localhost:8080/",
          "height": 55
        }
      },
      "source": [
        "review.text # review in text"
      ],
      "execution_count": 643,
      "outputs": [
        {
          "output_type": "execute_result",
          "data": {
            "text/plain": [
              "'xxbos \" xxmaj österreicher wählen eben so , wie sie es vom xxmaj xxunk kennen : möglichst xxunk und schön braun \" : xxmaj tiroler xxmaj xxunk zeigte xxup zdf - xxmaj sendung an . xxmaj wien – xxmaj die xxmaj ergebnisse der xxmaj bundespräsidentenwahl und die xxunk xxmaj prozent , die xxup fpö - xxmaj kandidat xxmaj norbert xxmaj hofer an dem xxmaj wochenende erreichte , xxunk in xxmaj deutschland und xxmaj österreich xxmaj diskussionen aus . xxmaj auf der xxmaj facebook - xxmaj seite der xxup zdf - xxmaj heute - xxmaj show wurde dazu am xxmaj montag nach der xxmaj wahl ein xxmaj bild veröffentlicht , das ein xxmaj xxunk in xxmaj form eines xxmaj xxunk zeigt . xxmaj dazu der xxmaj text : xxmaj österreicher wählen eben so , wie sie es vom xxmaj xxunk kennen : möglichst xxunk und schön braun . xxmaj es seien bereits zwei xxmaj xxunk bezüglich des xxmaj xxunk bei der xxmaj staatsanwaltschaft xxmaj mainz eingetroffen – eine aus xxmaj österreich , die andere aus xxmaj deutschland , berichtet die xxmaj xxunk xxmaj allgemeine . xxmaj die xxmaj anzeige aus xxmaj österreich stammt laut xxmaj tiroler xxmaj tageszeitung von einem xxmaj tiroler xxmaj jus - xxmaj studenten ( xxunk xxup fpö - xxmaj mitglied ) . xxmaj er xxunk sich auf den xxmaj xxunk 103 des xxmaj xxunk : xxmaj beleidigung von xxmaj xxunk und xxmaj vertretern ausländischer xxmaj staaten . xxmaj die deutsche xxmaj kanzlerin xxmaj angela xxmaj merkel hatte zuvor angekündigt , xxmaj paragraf 103 erst 2018 abzuschaffen .'"
            ]
          },
          "metadata": {
            "tags": []
          },
          "execution_count": 643
        }
      ]
    },
    {
      "cell_type": "code",
      "metadata": {
        "id": "1eYWMsD9SRY6",
        "colab_type": "code",
        "colab": {}
      },
      "source": [
        "# [article_reviews.vocab.itos[a] for a in review.data]  # review in text"
      ],
      "execution_count": 0,
      "outputs": []
    },
    {
      "cell_type": "markdown",
      "metadata": {
        "id": "imA9lJHGTn1r",
        "colab_type": "text"
      },
      "source": [
        "stoi (string-to-int) is larger than itos (int-to-string):"
      ]
    },
    {
      "cell_type": "code",
      "metadata": {
        "id": "XvC81J7nSjdR",
        "colab_type": "code",
        "outputId": "bb258e98-affb-40ca-94b1-b9f904d55ca9",
        "colab": {
          "base_uri": "https://localhost:8080/",
          "height": 35
        }
      },
      "source": [
        "len(article_reviews.vocab.stoi) - len(article_reviews.vocab.itos)"
      ],
      "execution_count": 645,
      "outputs": [
        {
          "output_type": "execute_result",
          "data": {
            "text/plain": [
              "98751"
            ]
          },
          "metadata": {
            "tags": []
          },
          "execution_count": 645
        }
      ]
    },
    {
      "cell_type": "markdown",
      "metadata": {
        "id": "RzJS-d9qTze0",
        "colab_type": "text"
      },
      "source": [
        "\n",
        "This is because many words are mapping to unknown. We can confirm here:"
      ]
    },
    {
      "cell_type": "code",
      "metadata": {
        "id": "Ve0mPi8FTuho",
        "colab_type": "code",
        "colab": {}
      },
      "source": [
        "unk = []\n",
        "for word, num in article_reviews.vocab.stoi.items():\n",
        "    if num==0:\n",
        "        unk.append(word)"
      ],
      "execution_count": 0,
      "outputs": []
    },
    {
      "cell_type": "code",
      "metadata": {
        "id": "r7DKKUffT4T6",
        "colab_type": "code",
        "outputId": "d8c80182-264e-47eb-f3ae-bfda3e593c4b",
        "colab": {
          "base_uri": "https://localhost:8080/",
          "height": 35
        }
      },
      "source": [
        "len(unk)"
      ],
      "execution_count": 647,
      "outputs": [
        {
          "output_type": "execute_result",
          "data": {
            "text/plain": [
              "98752"
            ]
          },
          "metadata": {
            "tags": []
          },
          "execution_count": 647
        }
      ]
    },
    {
      "cell_type": "code",
      "metadata": {
        "id": "pz9bDldxUAjC",
        "colab_type": "code",
        "outputId": "44ae43fa-b284-4341-a85f-7709cddeca1a",
        "colab": {
          "base_uri": "https://localhost:8080/",
          "height": 563
        }
      },
      "source": [
        "unk[:30] # array of all unknown words"
      ],
      "execution_count": 648,
      "outputs": [
        {
          "output_type": "execute_result",
          "data": {
            "text/plain": [
              "['xxunk',\n",
              " 'hamiltons',\n",
              " 'muskelspiel',\n",
              " 'terminator',\n",
              " 'dokus',\n",
              " 'alcatraz',\n",
              " '17.30',\n",
              " 'magazinbürgeranwalt',\n",
              " 'resetarits',\n",
              " 'gläserne',\n",
              " 'hausnummernchaos',\n",
              " 'gasse',\n",
              " 'banksafe',\n",
              " '18.20',\n",
              " 'dokumentationbaumeister',\n",
              " 'porträts',\n",
              " 'renner',\n",
              " 'körner',\n",
              " '21.55',\n",
              " 'publizisten',\n",
              " 'schulmeister',\n",
              " 'erschlagt',\n",
              " 'verrate',\n",
              " 'widerstandskämpferin',\n",
              " 'käthe',\n",
              " 'sasso',\n",
              " 'rationalisthomo',\n",
              " 'faber',\n",
              " 'brd',\n",
              " 'schlöndorff']"
            ]
          },
          "metadata": {
            "tags": []
          },
          "execution_count": 648
        }
      ]
    },
    {
      "cell_type": "markdown",
      "metadata": {
        "id": "uoIji-rcUxnk",
        "colab_type": "text"
      },
      "source": [
        "## Naive Bayes\n",
        "We define the log-count ratio $r$ for each word $f$:\n",
        "\n",
        "$r = \\log \\frac{\\text{ratio of feature $f$ in positive documents}}{\\text{ratio of feature $f$ in negative documents}}$\n",
        "\n",
        "where ratio of feature $f$ in positive documents is the number of times a positive document has a feature divided by the number of positive documents."
      ]
    },
    {
      "cell_type": "code",
      "metadata": {
        "id": "vgCaP0qYUD1E",
        "colab_type": "code",
        "outputId": "37acb415-6764-42d3-96c6-470cc6791d1b",
        "colab": {
          "base_uri": "https://localhost:8080/",
          "height": 35
        }
      },
      "source": [
        "article_reviews.y.classes"
      ],
      "execution_count": 649,
      "outputs": [
        {
          "output_type": "execute_result",
          "data": {
            "text/plain": [
              "array(['Etat', 'Inland', 'International', 'Kultur', 'Panorama'], dtype=object)"
            ]
          },
          "metadata": {
            "tags": []
          },
          "execution_count": 649
        }
      ]
    },
    {
      "cell_type": "code",
      "metadata": {
        "id": "J8QsiuwxV48M",
        "colab_type": "code",
        "colab": {}
      },
      "source": [
        "x = trn_term_doc\n",
        "y = article_reviews.train.y\n",
        "val_y = article_reviews.valid.y"
      ],
      "execution_count": 0,
      "outputs": []
    },
    {
      "cell_type": "code",
      "metadata": {
        "id": "nYf_z-M9Wmye",
        "colab_type": "code",
        "colab": {}
      },
      "source": [
        "Etat = y.c2i['Etat']\n",
        "Inland = y.c2i['Inland']\n",
        "International = y.c2i['International']\n",
        "Kultur = y.c2i['Kultur']\n",
        "Panorama = y.c2i['Panorama']"
      ],
      "execution_count": 0,
      "outputs": []
    },
    {
      "cell_type": "code",
      "metadata": {
        "id": "dQKPPVNfWpam",
        "colab_type": "code",
        "outputId": "c493e8d7-5bee-41ac-8295-3e14ce4ab182",
        "colab": {
          "base_uri": "https://localhost:8080/",
          "height": 35
        }
      },
      "source": [
        "# how often a specific word shows of in reviews with this particular label. \n",
        "np.squeeze(np.asarray(x[y.items==Etat].sum(0))) # (the np.squeeze simply removes the dimension of the array)"
      ],
      "execution_count": 652,
      "outputs": [
        {
          "output_type": "execute_result",
          "data": {
            "text/plain": [
              "array([6206,    0,  147,    0, ...,    0,    0,    0,    0], dtype=int64)"
            ]
          },
          "metadata": {
            "tags": []
          },
          "execution_count": 652
        }
      ]
    },
    {
      "cell_type": "markdown",
      "metadata": {
        "id": "Ka35SKYHbMIC",
        "colab_type": "text"
      },
      "source": [
        "For each word in our vocabulary, we are summing up how many times it shows up in a review with a specific label:"
      ]
    },
    {
      "cell_type": "code",
      "metadata": {
        "id": "kxFFlFhzXCvE",
        "colab_type": "code",
        "colab": {}
      },
      "source": [
        "p4 = np.squeeze(np.asarray(x[y.items==Panorama].sum(0))) # how often a specific word shows of in reviews with this particular label. \n",
        "p3 = np.squeeze(np.asarray(x[y.items==Kultur].sum(0)))\n",
        "p2 = np.squeeze(np.asarray(x[y.items==International].sum(0)))\n",
        "p1 = np.squeeze(np.asarray(x[y.items==Inland].sum(0)))\n",
        "p0 = np.squeeze(np.asarray(x[y.items==Etat].sum(0)))"
      ],
      "execution_count": 0,
      "outputs": []
    },
    {
      "cell_type": "code",
      "metadata": {
        "id": "CUchSqGQcC3J",
        "colab_type": "code",
        "outputId": "a3ae5eb4-69d5-40f1-edcb-469c8e17ee92",
        "colab": {
          "base_uri": "https://localhost:8080/",
          "height": 35
        }
      },
      "source": [
        "p1[:10]"
      ],
      "execution_count": 654,
      "outputs": [
        {
          "output_type": "execute_result",
          "data": {
            "text/plain": [
              "array([10413,     0,   212,     0,     0, 33690,  1697,     2,     0,  5779], dtype=int64)"
            ]
          },
          "metadata": {
            "tags": []
          },
          "execution_count": 654
        }
      ]
    },
    {
      "cell_type": "code",
      "metadata": {
        "id": "u088rTgycFdd",
        "colab_type": "code",
        "colab": {}
      },
      "source": [
        "v = article_reviews.vocab"
      ],
      "execution_count": 0,
      "outputs": []
    },
    {
      "cell_type": "markdown",
      "metadata": {
        "id": "07JVOkuScdFF",
        "colab_type": "text"
      },
      "source": [
        "### Using our ratios for even more data exploration"
      ]
    },
    {
      "cell_type": "markdown",
      "metadata": {
        "id": "bKvRc20kcn8R",
        "colab_type": "text"
      },
      "source": [
        "Compare how often \"kritik\" appears in reviews with certain labels:"
      ]
    },
    {
      "cell_type": "code",
      "metadata": {
        "id": "TWPUsNx1cW4N",
        "colab_type": "code",
        "outputId": "dca67463-b788-4e17-9f7d-4c190cbce710",
        "colab": {
          "base_uri": "https://localhost:8080/",
          "height": 0
        }
      },
      "source": [
        "print('number of times the word shows up in reviews with label Etat: ', p0[v.stoi['kritik']] )\n",
        "print('number of times the word shows up in reviews with label Inland: ', p1[v.stoi['kritik']] )\n",
        "print('number of times the word shows up in reviews with label International: ', p2[v.stoi['kritik']] )\n",
        "print('number of times the word shows up in reviews with label Kultur: ', p3[v.stoi['kritik']] )\n",
        "print('number of times the word shows up in reviews with label Panorama: ', p4[v.stoi['kritik']] )"
      ],
      "execution_count": 656,
      "outputs": [
        {
          "output_type": "stream",
          "text": [
            "number of times the word shows up in reviews with label Etat:  15\n",
            "number of times the word shows up in reviews with label Inland:  36\n",
            "number of times the word shows up in reviews with label International:  30\n",
            "number of times the word shows up in reviews with label Kultur:  7\n",
            "number of times the word shows up in reviews with label Panorama:  1\n"
          ],
          "name": "stdout"
        }
      ]
    },
    {
      "cell_type": "markdown",
      "metadata": {
        "id": "I9um0bPWe763",
        "colab_type": "text"
      },
      "source": [
        "### Reviews with label \"Kultur\" which have the word \"kritik\""
      ]
    },
    {
      "cell_type": "code",
      "metadata": {
        "id": "AkyCRBfWdWlI",
        "colab_type": "code",
        "outputId": "dbd1ca50-c4f2-4f44-8a83-e3e3e57dbd64",
        "colab": {
          "base_uri": "https://localhost:8080/",
          "height": 0
        }
      },
      "source": [
        "v.stoi['kritik'] # integer for that specific token"
      ],
      "execution_count": 657,
      "outputs": [
        {
          "output_type": "execute_result",
          "data": {
            "text/plain": [
              "336"
            ]
          },
          "metadata": {
            "tags": []
          },
          "execution_count": 657
        }
      ]
    },
    {
      "cell_type": "code",
      "metadata": {
        "id": "GantcrqffP9E",
        "colab_type": "code",
        "outputId": "7d8cc593-5c53-4466-a195-54112465b289",
        "colab": {
          "base_uri": "https://localhost:8080/",
          "height": 0
        }
      },
      "source": [
        "a = np.argwhere((x[:, v.stoi['kritik'] ] > 0))[:,0]; a  # which reviews have a non-zero value for that"
      ],
      "execution_count": 658,
      "outputs": [
        {
          "output_type": "execute_result",
          "data": {
            "text/plain": [
              "array([ 40,  48,  52,  56, ..., 786, 795, 798, 799], dtype=int32)"
            ]
          },
          "metadata": {
            "tags": []
          },
          "execution_count": 658
        }
      ]
    },
    {
      "cell_type": "code",
      "metadata": {
        "id": "O-9ehwdif52e",
        "colab_type": "code",
        "outputId": "7f53445a-4dc6-4d2e-c4e0-ecb5a4775326",
        "colab": {
          "base_uri": "https://localhost:8080/",
          "height": 0
        }
      },
      "source": [
        "b = np.argwhere(y.items==Kultur)[:,0]; b  # get all reviews with label Kultur"
      ],
      "execution_count": 659,
      "outputs": [
        {
          "output_type": "execute_result",
          "data": {
            "text/plain": [
              "array([  1,  10,  15,  22, ..., 781, 783, 784, 787])"
            ]
          },
          "metadata": {
            "tags": []
          },
          "execution_count": 659
        }
      ]
    },
    {
      "cell_type": "code",
      "metadata": {
        "id": "7InOAwMNgd3G",
        "colab_type": "code",
        "outputId": "db287533-28f7-4e17-fd68-7d4b70c09cdb",
        "colab": {
          "base_uri": "https://localhost:8080/",
          "height": 0
        }
      },
      "source": [
        "set(a).intersection(set(b)) # take a intersection to get all reviews with label Kultur which have the word kritik"
      ],
      "execution_count": 660,
      "outputs": [
        {
          "output_type": "execute_result",
          "data": {
            "text/plain": [
              "{115, 448, 613, 638, 653, 778}"
            ]
          },
          "metadata": {
            "tags": []
          },
          "execution_count": 660
        }
      ]
    },
    {
      "cell_type": "code",
      "metadata": {
        "id": "sMSx9_79gslf",
        "colab_type": "code",
        "outputId": "3a6cfd68-e8a7-44de-b397-7669433219d6",
        "colab": {
          "base_uri": "https://localhost:8080/",
          "height": 0
        }
      },
      "source": [
        "review = article_reviews.train.x[115]\n",
        "review.text"
      ],
      "execution_count": 661,
      "outputs": [
        {
          "output_type": "execute_result",
          "data": {
            "text/plain": [
              "\"xxbos ' xxmaj der amerikanische xxmaj xxunk über den xxmaj unterschied zwischen uns heute und den xxmaj nazis damals . xxup standard : xxmaj es gibt umfassende xxmaj bücher über den xxmaj holocaust , manche gelten als xxmaj xxunk . xxmaj was hat xxmaj sie xxunk , ein weiteres , xxmaj black xxmaj xxunk , zu schreiben ? xxmaj snyder : xxmaj die meisten xxmaj autoren berufen sich auf deutsche xxmaj quellen , manchmal auch auf französische . xxmaj das xxmaj problem dabei , dass xxunk % der xxmaj juden , die xxunk sind , nicht xxmaj deutsch konnten . xxmaj um ihre xxmaj erfahrungen und die xxmaj gesellschaften , in denen sie lebten , zu verstehen , muss man ihre xxmaj sprachen können . xxmaj erst dadurch kann man ihre xxmaj sicht der xxmaj dinge kennenlernen , und das habe ich versucht . xxmaj ich wollte zudem mein xxmaj xxunk auf alle betroffenen xxmaj länder richten , auch auf die xxmaj staaten , die schon vor dem xxmaj zweiten xxmaj weltkrieg bzw . zu dessen xxmaj beginn zerstört wurden – xxmaj österreich , die xxmaj xxunk , xxmaj polen ; und dann auf die xxunk xxmaj staaten , xxmaj weißrussland , die xxmaj ukraine . xxmaj nehmen xxmaj sie als xxmaj beispiel das xxmaj phänomen der xxunk xxmaj xxunk . xxmaj die gab es häufig – zuerst dem sowjetischen xxmaj regime dienen , dann den xxmaj deutschen . xxmaj davon erfährt man aus deutschen xxmaj quellen so gut wie nichts , weil die xxmaj deutschen es meist gar nicht xxunk ; die osteuropäischen jüdischen xxmaj quellen berichten ausführlich darüber . xxup standard : xxmaj der xxmaj historiker xxmaj david xxmaj bell an der xxmaj xxunk xxmaj universität schreibt , dass xxmaj sie sich sehr stark auf diese ( xxunk xxmaj xxunk und xxmaj xxunk konzentrieren und zu wenig auf die xxmaj polen als xxmaj xxunk . xxmaj snyder : xxmaj ich habe die xxmaj kritik nicht gelesen . xxmaj aber zum xxmaj thema kann ich nur wiederholen , wie wichtig die osteuropäischen xxmaj quellen sind . xxmaj bell kennt sie nicht . xxmaj andere xxmaj historiker kennen sie und haben xxunk xxmaj schlüsse gezogen , was die doppelte xxmaj xxunk anbelangt . xxmaj was den xxmaj komplex xxmaj nationalsozialismus und xxmaj xxunk angeht : xxmaj da gibt es große xxmaj tabus , weil wir die beiden gerne ideologisch xxunk wollen . xxmaj aber der xxmaj punkt ist : xxmaj als die xxmaj nazis ( ab 1941 ) in die xxmaj xxunk der xxmaj sowjetunion mit der xxmaj aufgabe xxunk , die xxmaj juden xxunk , kamen sie in xxunk xxmaj gesellschaften . xxmaj und da können wir xxmaj einiges einfach nicht xxunk ; etwa , dass der xxmaj holocaust begann , wo es vorher die xxmaj xxunk gab . i m xxmaj grunde waren alle xxmaj xxunk , die xxmaj waffen trugen , xxunk xxmaj bürger . xxmaj wir sprechen von xxmaj xxunk , xxmaj xxunk etc . , doch was die gemeinsam hatten , war ihre xxunk xxmaj staatsbürgerschaft . xxmaj ich zeige in meinem xxmaj buch , wie der xxmaj xxunk der beiden xxmaj xxunk zu einer bestimmten politischen xxmaj xxunk führte . xxmaj ich sage nicht , dass , weil die xxmaj xxunk zuerst da waren , von ihnen die xxmaj morde an xxmaj juden xxunk wurden . xxmaj ich sage auch nicht , dass die xxmaj juden mit den xxmaj kommunisten xxunk und daher die xxmaj xxunk auslösten . xxmaj das war eine xxmaj lüge der xxmaj nazis , aber sie war politisch sehr nützlich . xxmaj wie nützlich sie war , kann man nur verstehen , wenn man die xxmaj wirklichkeit des xxmaj xxunk kennt . xxmaj und die bestand darin , dass i m xxmaj grunde jeder in irgendeiner xxmaj weise xxunk . xxmaj als dann die xxmaj deutschen kamen und diese xxmaj lüge xxunk , konnte man die xxmaj schuld an allen xxmaj xxunk den xxmaj juden in die xxmaj schuhe xxunk und von der eigenen xxmaj xxunk ablenken . xxup standard : xxmaj sie kritisieren xxmaj xxunk und xxmaj xxunk dafür , dass sie den xxmaj xxunk als letzte xxmaj konsequenz der xxmaj moderne sehen . xxmaj aber die xxmaj frankfurter xxmaj schule hat auch untersuchen lassen , wie xxunk xxmaj menschen jeder xxmaj art von xxmaj regime folgen – ist das nicht ein xxmaj ansatz , der xxmaj ihrem xxmaj blick auf die schwarze xxmaj erde xxunk ? xxmaj snyder : xxmaj ich habe zwar xxmaj probleme mit der xxmaj kritik der xxmaj frankfurter xxmaj schule an der xxmaj aufklärung . xxmaj aber es stimmt , die xxunk xxmaj kategorien der xxmaj studien über xxunk xxmaj persönlichkeiten helfen . xxmaj ich xxunk sie allerdings nur dort , wo das xxmaj material es mir erlaubt . xxmaj etwa , wenn es mir hilft , den xxmaj unterschied zwischen dem xxmaj verhalten eines xxmaj polizisten in xxmaj xxunk und xxunk xxmaj menschen in xxmaj kiew zu erklären . xxmaj oder natürlich , wenn man beschreiben will , wie der xxunk und moralische xxmaj übergang der xxmaj xxunk von xxunk zu deutscher xxmaj herrschaft vor sich ging . xxup standard : i m xxmaj buch spielt das alles aber eine xxunk xxmaj rolle gegenüber xxmaj ihrem xxmaj argument einer funktionierenden xxmaj xxunk . xxmaj snyder : xxmaj ich xxunk xxunk oder xxunk xxmaj xxunk über xxmaj xxunk ... xxup standard : ... wie sie etwa xxmaj daniel xxmaj xxunk verwendet , wenn er vom xxunk xxmaj antisemitismus der xxmaj deutschen spricht . xxmaj snyder : xxmaj ja , und andere xxmaj historiker argumentieren mit xxunk oder xxunk oder ukrainischer xxmaj xxunk . xxmaj ich ziehe vor , über staatliche xxmaj ordnung bzw . ihr xxmaj fehlen zu reden . xxmaj auf diese xxmaj weise kann ich über xxmaj menschen i m xxmaj allgemeinen sprechen und nicht nur über bestimmte xxmaj gruppen . xxmaj die xxmaj forschung über den xxunk xxmaj charakter oder die xxmaj xxunk - xxmaj xxunk über xxunk xxmaj befolgen von xxmaj xxunk : das halte ich für einen xxunk xxmaj rahmen . xxmaj da kann ich dann fragen , was passiert , wenn die xxmaj strukturen sich ändern , wenn also neue xxmaj xxunk xxunk . xxup standard : xxmaj in xxmaj ihrer xxmaj warnung am xxmaj ende des xxmaj buches , dass xxunk xxmaj prozesse wieder passieren können und i m xxmaj grunde schon passiert sind , xxunk xxmaj sie xxmaj xxunk . xxmaj zu den dortigen xxmaj xxunk haben xxmaj xxunk xxunk . xxmaj wie wichtig scheint xxmaj ihnen eine xxmaj xxunk der xxmaj medien bei solchen xxmaj ereignissen ? xxmaj snyder : xxmaj medien sind für mich xxmaj teil des xxunk xxmaj xxunk , dass xxmaj menschen sich schneller ändern können , als man denkt . xxmaj ich xxunk auch , wie xxmaj goebbels seine xxmaj propaganda - xxmaj strategie total ins xxmaj gegenteil xxunk , nachdem die politischen xxmaj xxunk an xxmaj polen gescheitert waren . xxmaj und die xxmaj deutschen haben in eroberten xxmaj gebieten sehr schnell das xxmaj radio eingesetzt , um xxunk und ihre xxmaj politik zu kommunizieren . xxup standard : xxmaj können xxmaj sie sich aufgrund xxmaj ihrer xxmaj analyse vorstellen , dass es in xxmaj europa nach der xxmaj schaffung eines neuen xxmaj xxunk zu größeren xxunk xxmaj vorfällen kommt ? xxmaj snyder : xxmaj ich xxunk i m xxmaj buch den xxunk xxmaj aspekt in xxmaj hitlers xxmaj xxunk . xxmaj ich xxunk uns daran , dass xxmaj deutschland in den xxmaj xxunk anders waren als sie – oder xxmaj österreicher oder xxmaj amerikaner – es jetzt sind : xxmaj sie hatten verständliche xxmaj ängste , was die xxmaj xxunk xxunk . xxmaj es gab diese xxmaj idee , dass man xxmaj xxunk xxunk . xxmaj diese xxmaj vorstellung allerdings ist nicht so weit von unserer heutigen xxmaj wirklichkeit entfernt , wie wir gerne glauben . xxmaj der xxmaj unterschied zwischen uns und den xxmaj nazis ist ein xxunk , nicht ein xxunk . xxmaj wir sind noch nicht auf die xxmaj probe gestellt worden . xxmaj wir werden das wohl erst zum xxmaj schluss . xxmaj vorher kommt xxmaj afrika – xxmaj xxunk und xxmaj xxunk hatten große xxmaj xxunk . xxmaj vorher kommt der xxmaj nahe xxmaj osten – in xxmaj libyen wächst die xxmaj xxunk mit jedem xxmaj jahr , und xxmaj syrien hatte fünf xxmaj jahre lang xxmaj xxunk , bevor der xxmaj bürgerkrieg xxunk ; i m xxmaj irak gab es absolute xxmaj xxunk . xxmaj dann kommt xxmaj china . xxmaj das xxmaj land xxunk am meisten xxmaj deutschland in den xxmaj xxunk : ein xxunk xxmaj regime , sehr große xxmaj sorgen um die xxmaj xxunk der xxmaj bevölkerung und eine wachsende ökologische xxmaj krise . xxmaj in den xxup usa und xxmaj europa spürt man das alles bisher eher nur in der xxmaj form einer xxmaj migration von xxmaj süden nach xxmaj norden . xxmaj die xxmaj menschen flüchten aus dem xxmaj süden ( bzw . in xxmaj europa aus dem xxmaj südosten ) aus verschiedenen xxmaj gründen , aber in allen xxmaj fällen aus xxmaj regionen , die langsam zu xxmaj xxunk werden . xxmaj und die xxmaj xxunk wirken bereits politisch xxunk . xxmaj der derzeit führende republikanische xxmaj präsidentschaftskandidat in den xxup usa hat i m xxmaj grunde kein anderes xxmaj argument als dass er xxmaj xxunk nicht mag . xxmaj dazu beobachten wir , dass etwa die xxmaj vereinigten xxmaj staaten in den xxmaj irak xxunk und keine xxmaj ahnung haben , was aus dem xxmaj land werden soll ; dass xxmaj putin xxmaj krieg in der xxmaj ostukraine führt in der klaren xxmaj absicht , die xxmaj ukraine zu xxunk ; dass xxmaj putin den xxmaj xxunk - xxmaj xxunk - xxmaj pakt ( der 1939 den xxmaj krieg gegen xxmaj polen und dessen xxmaj ende xxunk ) für keine schlechte xxmaj sache hält ; dass die xxmaj rechten in xxmaj europa nicht nur gegen die xxmaj migranten sind , sondern auch die xxup eu zu xxmaj fall bringen wollen : xxmaj all das xxunk auf den xxmaj niedergang von politischer xxmaj ordnung hin . xxmaj man kann nicht wissen , wann diese xxmaj xxunk zu einem xxunk xxmaj xxunk zusammenkommen . xxmaj wenn wir den xxmaj holocaust als xxmaj resultat nicht nur des xxmaj antisemitismus betrachten – der natürlich ein wichtiger xxmaj faktor war – , sondern auch einer xxunk xxmaj panik und der xxmaj zerstörung von xxmaj staaten , dann können wir die xxunk xxmaj situation besser analysieren . xxmaj wenn wir den xxmaj holocaust nur als xxmaj ergebnis xxunk xxmaj ideen sehen , dann verringern wir die xxmaj möglichkeit , für die xxmaj gegenwart und die xxmaj zukunft zu lernen . '\""
            ]
          },
          "metadata": {
            "tags": []
          },
          "execution_count": 661
        }
      ]
    },
    {
      "cell_type": "markdown",
      "metadata": {
        "id": "4FMva2qDhWhV",
        "colab_type": "text"
      },
      "source": [
        "## Applying Naive Bayes"
      ]
    },
    {
      "cell_type": "markdown",
      "metadata": {
        "id": "hG0icM4X-utw",
        "colab_type": "text"
      },
      "source": [
        "We define the log-count ratio $r$ for each word $f$:\n",
        "\n",
        "$r = \\log \\frac{f_p}{f_n}$\n",
        "\n",
        "\n",
        "Ratio of feature $f$ in positive documents:\n",
        " $f_p=\\frac{\\text{number of times a positive document has a feature}}{\\text{the number of positive documents}}$\n",
        "\n",
        "Ratio of feature $f$ in negative documents:\n",
        "  $f_n=\\frac{\\text{number of times a negative document has a feature}}{\\text{the number of negative documents}}$"
      ]
    },
    {
      "cell_type": "code",
      "metadata": {
        "id": "CfT3cHNSg0Hw",
        "colab_type": "code",
        "colab": {}
      },
      "source": [
        "# details to this see the steps above\n",
        "p4 = np.squeeze(np.asarray(x[y.items==Panorama].sum(0))) # number of times a specific word shows of in reviews with this particular label. \n",
        "p3 = np.squeeze(np.asarray(x[y.items==Kultur].sum(0)))\n",
        "p2 = np.squeeze(np.asarray(x[y.items==International].sum(0)))\n",
        "p1 = np.squeeze(np.asarray(x[y.items==Inland].sum(0)))\n",
        "p0 = np.squeeze(np.asarray(x[y.items==Etat].sum(0)))"
      ],
      "execution_count": 0,
      "outputs": []
    },
    {
      "cell_type": "markdown",
      "metadata": {
        "id": "Rd3yj5Az_wFr",
        "colab_type": "text"
      },
      "source": [
        "For the ratio, check out this paper: [log-ratio for multiclass problem](http://www.lrec-conf.org/proceedings/lrec2016/pdf/284_Paper.pdf)"
      ]
    },
    {
      "cell_type": "code",
      "metadata": {
        "id": "BDeZ1IWO-c5t",
        "colab_type": "code",
        "outputId": "944b71af-d894-418a-edf5-8930e789810f",
        "colab": {
          "base_uri": "https://localhost:8080/",
          "height": 35
        }
      },
      "source": [
        "# add 1 to make it more numerically stable\n",
        "pr0 = (p0+1) / ((y.items==Etat).sum() + 1) # averaging over the number of reviews with label \"Etat\" = (how often a specific word shows of in reviews with this particular label)/(number of reviews with label \"Etat\") \n",
        "#pr0_not = (p0+1) / ((y.items!=Etat).sum() + 1) \n",
        "pr0_not = ((p1+p2+p3+p4)+1) / ((y.items!=Etat).sum() + 1) # averaging over the number of not-this-label reviews  \n",
        "\n",
        "r_Etat = np.log(pr0/pr0_not); r_Etat"
      ],
      "execution_count": 663,
      "outputs": [
        {
          "output_type": "execute_result",
          "data": {
            "text/plain": [
              "array([-0.074985,  1.485895,  0.      ,  1.485895, ...,  0.099601,  0.099601,  0.099601,  1.485895])"
            ]
          },
          "metadata": {
            "tags": []
          },
          "execution_count": 663
        }
      ]
    },
    {
      "cell_type": "code",
      "metadata": {
        "id": "pGEkQXpSsDqh",
        "colab_type": "code",
        "outputId": "d407e766-a6ce-4cc7-d2d3-919e4dbc1696",
        "colab": {
          "base_uri": "https://localhost:8080/",
          "height": 35
        }
      },
      "source": [
        "pr1 = (p1+1) / ((y.items==Inland).sum() + 1)\n",
        "#pr1_not = (p1+1) / ((y.items!=Inland).sum() + 1)\n",
        "pr1_not = ((p0+p2+p3+p4)+1) / ((y.items!=Inland).sum() + 1)\n",
        "\n",
        "r_Inland = np.log(pr1/pr1_not); r_Inland"
      ],
      "execution_count": 664,
      "outputs": [
        {
          "output_type": "execute_result",
          "data": {
            "text/plain": [
              "array([ 0.12723 ,  1.017134,  0.      ,  1.017134, ..., -0.36916 ,  2.403428,  2.403428,  1.017134])"
            ]
          },
          "metadata": {
            "tags": []
          },
          "execution_count": 664
        }
      ]
    },
    {
      "cell_type": "code",
      "metadata": {
        "id": "AjvdOA-rsFw1",
        "colab_type": "code",
        "outputId": "4204322f-08a0-4b04-e3ee-808882508e4d",
        "colab": {
          "base_uri": "https://localhost:8080/",
          "height": 35
        }
      },
      "source": [
        "pr2 = (p2+1) / ((y.items==International).sum() + 1)\n",
        "#pr2_not = (p2+1) / ((y.items!=International).sum() + 1)\n",
        "pr2_not = ((p0+p1+p3+p4)+1) / ((y.items!=International).sum() + 1)\n",
        "\n",
        "r_International = np.log(pr2/pr2_not); r_International"
      ],
      "execution_count": 665,
      "outputs": [
        {
          "output_type": "execute_result",
          "data": {
            "text/plain": [
              "array([-0.487842,  0.590115,  0.      ,  0.590115, ..., -0.796179, -0.796179, -0.796179,  0.590115])"
            ]
          },
          "metadata": {
            "tags": []
          },
          "execution_count": 665
        }
      ]
    },
    {
      "cell_type": "code",
      "metadata": {
        "id": "rxwJLREAut2i",
        "colab_type": "code",
        "outputId": "806a6802-8af9-4ddc-95b2-08b5bcf546ae",
        "colab": {
          "base_uri": "https://localhost:8080/",
          "height": 35
        }
      },
      "source": [
        "pr3 = (p3+1) / ((y.items==Kultur).sum() + 1)\n",
        "#pr3_not = (p3+1) / ((y.items!=Kultur).sum() + 1)\n",
        "pr3_not = ((p0+p1+p2+p4)+1) / ((y.items!=Kultur).sum() + 1)\n",
        "\n",
        "r_Kultur = np.log(pr3/pr3_not); r_Kultur"
      ],
      "execution_count": 666,
      "outputs": [
        {
          "output_type": "execute_result",
          "data": {
            "text/plain": [
              "array([0.691514, 1.903828, 0.      , 1.903828, ..., 0.517534, 0.517534, 0.517534, 1.903828])"
            ]
          },
          "metadata": {
            "tags": []
          },
          "execution_count": 666
        }
      ]
    },
    {
      "cell_type": "code",
      "metadata": {
        "id": "iZlNpO_Q_Pnq",
        "colab_type": "code",
        "outputId": "e8f147bd-32fb-43da-d7af-f1280dcbe037",
        "colab": {
          "base_uri": "https://localhost:8080/",
          "height": 35
        }
      },
      "source": [
        "pr4 = (p4+1) / ((y.items==Panorama).sum() + 1)\n",
        "#pr4_not = (p4+1) / ((y.items!=Panorama).sum() + 1)\n",
        "pr4_not = ((p0+p1+p2+p3)+1) / ((y.items!=Panorama).sum() + 1)\n",
        "\n",
        "r_Panorama = np.log(pr4/pr4_not); r_Panorama"
      ],
      "execution_count": 667,
      "outputs": [
        {
          "output_type": "execute_result",
          "data": {
            "text/plain": [
              "array([-0.269652,  2.628419,  0.      ,  2.628419, ...,  4.014713,  1.242125,  1.242125,  2.628419])"
            ]
          },
          "metadata": {
            "tags": []
          },
          "execution_count": 667
        }
      ]
    },
    {
      "cell_type": "markdown",
      "metadata": {
        "id": "5w5JtaXlBHhC",
        "colab_type": "text"
      },
      "source": [
        "### Vocab most likely associated with reviews which have label \"International\""
      ]
    },
    {
      "cell_type": "code",
      "metadata": {
        "id": "PKxiZfe_BTkC",
        "colab_type": "code",
        "colab": {}
      },
      "source": [
        "biggest = np.argpartition(r_International, -10)[-10:]\n",
        "smallest = np.argpartition(r_International, 10)[:10]"
      ],
      "execution_count": 0,
      "outputs": []
    },
    {
      "cell_type": "markdown",
      "metadata": {
        "id": "tE1aXxfGChCS",
        "colab_type": "text"
      },
      "source": [
        "**Top 10 words** that indicate that the review most likely has the label \"International\":"
      ]
    },
    {
      "cell_type": "code",
      "metadata": {
        "id": "UbmzpAt2B0_g",
        "colab_type": "code",
        "outputId": "06dcc641-8983-49d0-d6de-77ff301d185e",
        "colab": {
          "base_uri": "https://localhost:8080/",
          "height": 199
        }
      },
      "source": [
        "[v.itos[k] for k in biggest]"
      ],
      "execution_count": 669,
      "outputs": [
        {
          "output_type": "execute_result",
          "data": {
            "text/plain": [
              "['rousseff',\n",
              " 'clinton',\n",
              " 'palästinenser',\n",
              " 'taliban',\n",
              " 'kurden',\n",
              " 'pkk',\n",
              " 'angreifer',\n",
              " 'rebellen',\n",
              " 'damaskus',\n",
              " 'podemos']"
            ]
          },
          "metadata": {
            "tags": []
          },
          "execution_count": 669
        }
      ]
    },
    {
      "cell_type": "code",
      "metadata": {
        "id": "p_wUDsFtDeCd",
        "colab_type": "code",
        "outputId": "214fd273-6037-4252-969e-85144972b308",
        "colab": {
          "base_uri": "https://localhost:8080/",
          "height": 35
        }
      },
      "source": [
        "np.argmax(trn_term_doc[:,v.stoi['konferenz']])"
      ],
      "execution_count": 670,
      "outputs": [
        {
          "output_type": "execute_result",
          "data": {
            "text/plain": [
              "205"
            ]
          },
          "metadata": {
            "tags": []
          },
          "execution_count": 670
        }
      ]
    },
    {
      "cell_type": "code",
      "metadata": {
        "id": "eraM6kJ-Dq8K",
        "colab_type": "code",
        "outputId": "a1847ade-b239-4000-b585-37bff074beed",
        "colab": {
          "base_uri": "https://localhost:8080/",
          "height": 55
        }
      },
      "source": [
        "article_reviews.train.x[ np.argmax(trn_term_doc[:,v.stoi['konferenz']]) ]"
      ],
      "execution_count": 671,
      "outputs": [
        {
          "output_type": "execute_result",
          "data": {
            "text/plain": [
              "Text xxbos xxmaj hoffnung auf xxmaj bildung einer xxmaj einheitsregierung bei xxmaj xxunk in xxmaj marokko . xxmaj tripolis – xxmaj unter starkem xxunk xxmaj druck steigt offenbar die xxmaj chance auf die xxmaj bildung einer xxmaj einheitsregierung in xxmaj libyen : xxmaj die xxmaj präsidenten der beiden rivalisierenden xxmaj xxunk haben sich am xxmaj dienstag einem xxmaj xxunk zufolge zum ersten xxmaj mal getroffen . xxmaj die xxmaj begegnung fand bei einer xxmaj konferenz in xxmaj malta statt , wo die xxmaj unterzeichnung eines xxup un - xxmaj xxunk für das xxunk xxmaj xxunk vorbereitet wurde . xxmaj der xxmaj plan soll am xxmaj donnerstag in xxmaj marokko von den xxmaj konfliktparteien unterschrieben werden . xxmaj in xxmaj libyen gibt es seit dem xxmaj sturz des langjährigen xxmaj machthabers xxmaj muammar al - xxmaj gaddafi vor vier xxmaj jahren keine xxunk xxmaj regierung mehr . xxmaj die xxmaj jihadistenmiliz xxmaj islamischer xxmaj staat ( xxup is ) nutzte das xxmaj xxunk , um sich in dem xxmaj land am xxmaj mittelmeer breit zu machen . xxmaj überdies xxunk seit xxunk xxmaj jahren ein international xxunk xxmaj parlament i m xxmaj osten unter xxmaj führung von xxmaj xxunk xxmaj salah und der nicht anerkannte xxmaj allgemeine xxmaj xxunk in xxmaj tripolis unter xxmaj führung von xxmaj nuri xxmaj abu xxmaj xxunk um die xxmaj kontrolle . xxmaj auf einer xxmaj konferenz in xxmaj rom hatte die xxmaj staatengemeinschaft die rivalisierenden xxmaj lager am xxmaj sonntag eindringlich aufgerufen , die xxmaj waffen xxunk und eine xxmaj einheitsregierung zu bilden . xxmaj doch selbst wenn dies gelingt scheint fraglich , in xxunk eine neue xxmaj regierung angesichts der xxunk xxmaj sicherheitslage in xxunk xxmaj zeit wieder xxmaj ordnung xxunk kann ."
            ]
          },
          "metadata": {
            "tags": []
          },
          "execution_count": 671
        }
      ]
    },
    {
      "cell_type": "markdown",
      "metadata": {
        "id": "Dk8ZaNNLDIAb",
        "colab_type": "text"
      },
      "source": [
        "**Bottom last words** that indicate that the review most likely has the label \"International\":"
      ]
    },
    {
      "cell_type": "code",
      "metadata": {
        "id": "lSx53vRCDHar",
        "colab_type": "code",
        "outputId": "d60b077b-c7ae-46d6-c836-2cf5b6a51906",
        "colab": {
          "base_uri": "https://localhost:8080/",
          "height": 199
        }
      },
      "source": [
        "[v.itos[k] for k in smallest]"
      ],
      "execution_count": 672,
      "outputs": [
        {
          "output_type": "execute_result",
          "data": {
            "text/plain": [
              "['bellen',\n",
              " 'orf',\n",
              " 'fpö',\n",
              " 'hofer',\n",
              " 'van',\n",
              " 'häupl',\n",
              " 'graz',\n",
              " 'griss',\n",
              " 'neos',\n",
              " 'strache']"
            ]
          },
          "metadata": {
            "tags": []
          },
          "execution_count": 672
        }
      ]
    },
    {
      "cell_type": "markdown",
      "metadata": {
        "id": "NSFVI2NXERE2",
        "colab_type": "text"
      },
      "source": [
        "### Continuing with Naive Bayes"
      ]
    },
    {
      "cell_type": "code",
      "metadata": {
        "id": "K587erAOB55A",
        "colab_type": "code",
        "outputId": "bef853c2-b660-4477-8f6b-b3be503ea126",
        "colab": {
          "base_uri": "https://localhost:8080/",
          "height": 108
        }
      },
      "source": [
        "print((y.items==Panorama).mean()) # average number of reviews with specific label\n",
        "print((y.items==Kultur).mean())\n",
        "print((y.items==International).mean())\n",
        "print((y.items==Inland).mean())\n",
        "print((y.items==Etat).mean())"
      ],
      "execution_count": 673,
      "outputs": [
        {
          "output_type": "stream",
          "text": [
            "0.06625\n",
            "0.12875\n",
            "0.35625\n",
            "0.265\n",
            "0.18375\n"
          ],
          "name": "stdout"
        }
      ]
    },
    {
      "cell_type": "code",
      "metadata": {
        "id": "3acQeEg5E6dk",
        "colab_type": "code",
        "outputId": "0c4c1920-0b1f-453c-9ef3-fbea508e62df",
        "colab": {
          "base_uri": "https://localhost:8080/",
          "height": 35
        }
      },
      "source": [
        "(y.items==Panorama).mean() + (y.items==Kultur).mean() + (y.items==International).mean() + (y.items==Inland).mean() +  (y.items==Etat).mean()"
      ],
      "execution_count": 674,
      "outputs": [
        {
          "output_type": "execute_result",
          "data": {
            "text/plain": [
              "1.0"
            ]
          },
          "metadata": {
            "tags": []
          },
          "execution_count": 674
        }
      ]
    },
    {
      "cell_type": "code",
      "metadata": {
        "id": "6JoVdPrMFBKc",
        "colab_type": "code",
        "outputId": "3cf147be-10c3-42c1-b825-03f0c1085151",
        "colab": {
          "base_uri": "https://localhost:8080/",
          "height": 72
        }
      },
      "source": [
        "# b = log ( average number of reviews with label x ) / (average number of reviews with NOT label x) \n",
        "b_International = np.log((y.items==International).mean() / (y.items!=International).mean()) ; print(b_International)\n",
        "preds_International = (val_term_doc @ r_International + b_International) > 0 ; print(preds_International) # Here is the formula for Naive Bayes\n",
        "#(preds_International == (val_y.items==International)).mean() # accuracy \n",
        "(preds_International == val_y.items).mean()"
      ],
      "execution_count": 683,
      "outputs": [
        {
          "output_type": "stream",
          "text": [
            "-0.5916777203950857\n",
            "[False False  True False ... False False False False]\n"
          ],
          "name": "stdout"
        },
        {
          "output_type": "execute_result",
          "data": {
            "text/plain": [
              "0.16125"
            ]
          },
          "metadata": {
            "tags": []
          },
          "execution_count": 683
        }
      ]
    },
    {
      "cell_type": "code",
      "metadata": {
        "id": "asL5W9fnHMcZ",
        "colab_type": "code",
        "outputId": "4775932a-3640-493c-fc55-295ec2c14a7f",
        "colab": {
          "base_uri": "https://localhost:8080/",
          "height": 72
        }
      },
      "source": [
        "b_Inland = np.log((y.items==Inland).mean() / (y.items!=Inland).mean()); print(b_Inland)\n",
        "preds_Inland = (val_term_doc @ r_Inland + b_Inland) > 0; print(preds_Inland)\n",
        "#(preds_Inland == (val_y.items==Inland)).mean() # accuracy \n",
        "(preds_Inland == val_y.items).mean()"
      ],
      "execution_count": 684,
      "outputs": [
        {
          "output_type": "stream",
          "text": [
            "-1.0201406732266145\n",
            "[ True  True False  True ...  True  True  True  True]\n"
          ],
          "name": "stdout"
        },
        {
          "output_type": "execute_result",
          "data": {
            "text/plain": [
              "0.2525"
            ]
          },
          "metadata": {
            "tags": []
          },
          "execution_count": 684
        }
      ]
    },
    {
      "cell_type": "code",
      "metadata": {
        "id": "_I-7YKMRHOWG",
        "colab_type": "code",
        "outputId": "e9ea3fab-7123-4491-eb3a-223bab4fa3e5",
        "colab": {
          "base_uri": "https://localhost:8080/",
          "height": 72
        }
      },
      "source": [
        "b_Kultur = np.log((y.items==Kultur).mean() / (y.items!=Kultur).mean()); print(b_Kultur)\n",
        "preds_Kultur = (val_term_doc @ r_Kultur + b_Kultur) > 0; print(preds_Kultur)\n",
        "#(preds_Kultur == (val_y.items==Kultur)).mean() # accuracy\n",
        "(preds_Kultur == val_y.items).mean()"
      ],
      "execution_count": 689,
      "outputs": [
        {
          "output_type": "stream",
          "text": [
            "-1.912056422530888\n",
            "[ True  True  True  True ...  True  True  True  True]\n"
          ],
          "name": "stdout"
        },
        {
          "output_type": "execute_result",
          "data": {
            "text/plain": [
              "0.2478125"
            ]
          },
          "metadata": {
            "tags": []
          },
          "execution_count": 689
        }
      ]
    },
    {
      "cell_type": "code",
      "metadata": {
        "id": "6c9vnoSoPQGL",
        "colab_type": "code",
        "outputId": "7a3d0424-2f7e-4f5c-ad33-348cd0a3feaf",
        "colab": {
          "base_uri": "https://localhost:8080/",
          "height": 72
        }
      },
      "source": [
        "b_Etat = np.log((y.items==Etat).mean() / (y.items!=Etat).mean()); print(b_Etat)\n",
        "preds_Etat = (val_term_doc @ r_Etat + b_Etat) > 0; print(preds_Etat)\n",
        "#(preds_Etat == (val_y.items==Etat)).mean() # accuracy \n",
        "(preds_Etat == val_y.items).mean()"
      ],
      "execution_count": 686,
      "outputs": [
        {
          "output_type": "stream",
          "text": [
            "-1.4911445424976948\n",
            "[False False False False ... False False False False]\n"
          ],
          "name": "stdout"
        },
        {
          "output_type": "execute_result",
          "data": {
            "text/plain": [
              "0.1196875"
            ]
          },
          "metadata": {
            "tags": []
          },
          "execution_count": 686
        }
      ]
    },
    {
      "cell_type": "code",
      "metadata": {
        "id": "YGCINgolV3Zr",
        "colab_type": "code",
        "outputId": "6637acdf-b2d4-4c17-c782-fcf6b3a248c8",
        "colab": {
          "base_uri": "https://localhost:8080/",
          "height": 72
        }
      },
      "source": [
        "b_Panorama = np.log((y.items==Panorama).mean() / (y.items!=Panorama).mean()); print(b_Panorama)\n",
        "preds_Panorama = (val_term_doc @ r_Panorama + b_Panorama) > 0; print(preds_Panorama)\n",
        "#(preds_Panorama == (val_y.items==Panorama)).mean() # accuracy\n",
        "(preds_Panorama == val_y.items).mean()"
      ],
      "execution_count": 687,
      "outputs": [
        {
          "output_type": "stream",
          "text": [
            "-2.6457732715806954\n",
            "[False False False False ... False False False False]\n"
          ],
          "name": "stdout"
        },
        {
          "output_type": "execute_result",
          "data": {
            "text/plain": [
              "0.1634375"
            ]
          },
          "metadata": {
            "tags": []
          },
          "execution_count": 687
        }
      ]
    },
    {
      "cell_type": "code",
      "metadata": {
        "id": "xTTrrNUQnM6D",
        "colab_type": "code",
        "colab": {}
      },
      "source": [
        ""
      ],
      "execution_count": 0,
      "outputs": []
    }
  ]
}