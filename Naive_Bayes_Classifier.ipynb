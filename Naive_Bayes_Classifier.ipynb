{
  "nbformat": 4,
  "nbformat_minor": 0,
  "metadata": {
    "colab": {
      "name": "Naive Bayes Classifier",
      "provenance": [],
      "authorship_tag": "ABX9TyO7WTTOBrpldKKBJ5DAIKZm",
      "include_colab_link": true
    },
    "kernelspec": {
      "name": "python3",
      "display_name": "Python 3"
    }
  },
  "cells": [
    {
      "cell_type": "markdown",
      "metadata": {
        "id": "view-in-github",
        "colab_type": "text"
      },
      "source": [
        "<a href=\"https://colab.research.google.com/github/RaminParker/Text-Classification-with-Python/blob/master/Naive_Bayes_Classifier.ipynb\" target=\"_parent\"><img src=\"https://colab.research.google.com/assets/colab-badge.svg\" alt=\"Open In Colab\"/></a>"
      ]
    },
    {
      "cell_type": "markdown",
      "metadata": {
        "id": "6Oc6Dxi7drwj",
        "colab_type": "text"
      },
      "source": [
        "- Naive Bayes Classifier \n",
        "- Naive Bayes Classifier from scratch\n",
        "- Naive Bayes Classifier optimized"
      ]
    },
    {
      "cell_type": "code",
      "metadata": {
        "id": "9Pi1y0z7CdlV",
        "colab_type": "code",
        "colab": {}
      },
      "source": [
        "import pandas as pd\n",
        "import numpy as np\n",
        "from sklearn import datasets\n",
        "\n",
        "from sklearn.model_selection import train_test_split\n",
        "\n",
        "from sklearn import metrics\n",
        "from sklearn.naive_bayes import GaussianNB # for continuous features"
      ],
      "execution_count": 0,
      "outputs": []
    },
    {
      "cell_type": "markdown",
      "metadata": {
        "id": "exuRPKZWHbty",
        "colab_type": "text"
      },
      "source": [
        "# Load data"
      ]
    },
    {
      "cell_type": "code",
      "metadata": {
        "id": "kn2GdydICqQ7",
        "colab_type": "code",
        "colab": {}
      },
      "source": [
        "iris = datasets.load_iris() #load data\n",
        "\n",
        "d = pd.DataFrame(data= np.c_[iris['data'], iris['target']], columns= iris['feature_names'] + ['target'])"
      ],
      "execution_count": 0,
      "outputs": []
    },
    {
      "cell_type": "code",
      "metadata": {
        "id": "__hQITMfC39r",
        "colab_type": "code",
        "outputId": "ebdc5640-bf92-41c6-ad54-0f9a4967dd7b",
        "colab": {
          "base_uri": "https://localhost:8080/",
          "height": 198
        }
      },
      "source": [
        "d.head()"
      ],
      "execution_count": 0,
      "outputs": [
        {
          "output_type": "execute_result",
          "data": {
            "text/html": [
              "<div>\n",
              "<style scoped>\n",
              "    .dataframe tbody tr th:only-of-type {\n",
              "        vertical-align: middle;\n",
              "    }\n",
              "\n",
              "    .dataframe tbody tr th {\n",
              "        vertical-align: top;\n",
              "    }\n",
              "\n",
              "    .dataframe thead th {\n",
              "        text-align: right;\n",
              "    }\n",
              "</style>\n",
              "<table border=\"1\" class=\"dataframe\">\n",
              "  <thead>\n",
              "    <tr style=\"text-align: right;\">\n",
              "      <th></th>\n",
              "      <th>sepal length (cm)</th>\n",
              "      <th>sepal width (cm)</th>\n",
              "      <th>petal length (cm)</th>\n",
              "      <th>petal width (cm)</th>\n",
              "      <th>target</th>\n",
              "    </tr>\n",
              "  </thead>\n",
              "  <tbody>\n",
              "    <tr>\n",
              "      <th>0</th>\n",
              "      <td>5.1</td>\n",
              "      <td>3.5</td>\n",
              "      <td>1.4</td>\n",
              "      <td>0.2</td>\n",
              "      <td>0.0</td>\n",
              "    </tr>\n",
              "    <tr>\n",
              "      <th>1</th>\n",
              "      <td>4.9</td>\n",
              "      <td>3.0</td>\n",
              "      <td>1.4</td>\n",
              "      <td>0.2</td>\n",
              "      <td>0.0</td>\n",
              "    </tr>\n",
              "    <tr>\n",
              "      <th>2</th>\n",
              "      <td>4.7</td>\n",
              "      <td>3.2</td>\n",
              "      <td>1.3</td>\n",
              "      <td>0.2</td>\n",
              "      <td>0.0</td>\n",
              "    </tr>\n",
              "    <tr>\n",
              "      <th>3</th>\n",
              "      <td>4.6</td>\n",
              "      <td>3.1</td>\n",
              "      <td>1.5</td>\n",
              "      <td>0.2</td>\n",
              "      <td>0.0</td>\n",
              "    </tr>\n",
              "    <tr>\n",
              "      <th>4</th>\n",
              "      <td>5.0</td>\n",
              "      <td>3.6</td>\n",
              "      <td>1.4</td>\n",
              "      <td>0.2</td>\n",
              "      <td>0.0</td>\n",
              "    </tr>\n",
              "  </tbody>\n",
              "</table>\n",
              "</div>"
            ],
            "text/plain": [
              "   sepal length (cm)  sepal width (cm)  ...  petal width (cm)  target\n",
              "0                5.1               3.5  ...               0.2     0.0\n",
              "1                4.9               3.0  ...               0.2     0.0\n",
              "2                4.7               3.2  ...               0.2     0.0\n",
              "3                4.6               3.1  ...               0.2     0.0\n",
              "4                5.0               3.6  ...               0.2     0.0\n",
              "\n",
              "[5 rows x 5 columns]"
            ]
          },
          "metadata": {
            "tags": []
          },
          "execution_count": 114
        }
      ]
    },
    {
      "cell_type": "code",
      "metadata": {
        "id": "2aZ18N5JDN1E",
        "colab_type": "code",
        "outputId": "3107aded-1792-4ada-fd26-40abad62e344",
        "colab": {
          "base_uri": "https://localhost:8080/",
          "height": 72
        }
      },
      "source": [
        "d.columns # get columns"
      ],
      "execution_count": 0,
      "outputs": [
        {
          "output_type": "execute_result",
          "data": {
            "text/plain": [
              "Index(['sepal length (cm)', 'sepal width (cm)', 'petal length (cm)',\n",
              "       'petal width (cm)', 'target'],\n",
              "      dtype='object')"
            ]
          },
          "metadata": {
            "tags": []
          },
          "execution_count": 115
        }
      ]
    },
    {
      "cell_type": "code",
      "metadata": {
        "id": "JZmYRfCLDuhI",
        "colab_type": "code",
        "outputId": "36a2a54a-468a-4d96-b1ae-62e26fea50d9",
        "colab": {
          "base_uri": "https://localhost:8080/",
          "height": 126
        }
      },
      "source": [
        "d.dtypes"
      ],
      "execution_count": 0,
      "outputs": [
        {
          "output_type": "execute_result",
          "data": {
            "text/plain": [
              "sepal length (cm)    float64\n",
              "sepal width (cm)     float64\n",
              "petal length (cm)    float64\n",
              "petal width (cm)     float64\n",
              "target               float64\n",
              "dtype: object"
            ]
          },
          "metadata": {
            "tags": []
          },
          "execution_count": 116
        }
      ]
    },
    {
      "cell_type": "code",
      "metadata": {
        "id": "l2vh3mG6DBiX",
        "colab_type": "code",
        "colab": {}
      },
      "source": [
        "d['target'] = d['target'].astype('category') # change type pf column"
      ],
      "execution_count": 0,
      "outputs": []
    },
    {
      "cell_type": "code",
      "metadata": {
        "id": "BbvUhzQoDVJv",
        "colab_type": "code",
        "outputId": "49b9e185-d50d-4fb8-e2d2-84aa3bebbfa2",
        "colab": {
          "base_uri": "https://localhost:8080/",
          "height": 126
        }
      },
      "source": [
        "d.dtypes"
      ],
      "execution_count": 0,
      "outputs": [
        {
          "output_type": "execute_result",
          "data": {
            "text/plain": [
              "sepal length (cm)     float64\n",
              "sepal width (cm)      float64\n",
              "petal length (cm)     float64\n",
              "petal width (cm)      float64\n",
              "target               category\n",
              "dtype: object"
            ]
          },
          "metadata": {
            "tags": []
          },
          "execution_count": 118
        }
      ]
    },
    {
      "cell_type": "markdown",
      "metadata": {
        "id": "PwdD0y-vHfqM",
        "colab_type": "text"
      },
      "source": [
        "# Fit model"
      ]
    },
    {
      "cell_type": "code",
      "metadata": {
        "id": "d7SnRZWaEIzn",
        "colab_type": "code",
        "colab": {}
      },
      "source": [
        "# Split into train and test\n",
        "X_train, X_test, y_train, y_test = train_test_split(d.drop('target', axis = 1), d['target'], test_size=0.2, random_state=1526)"
      ],
      "execution_count": 0,
      "outputs": []
    },
    {
      "cell_type": "code",
      "metadata": {
        "id": "OYevgBhJEnGl",
        "colab_type": "code",
        "colab": {}
      },
      "source": [
        "#Create a Gaussian Classifier\n",
        "model = GaussianNB()"
      ],
      "execution_count": 0,
      "outputs": []
    },
    {
      "cell_type": "code",
      "metadata": {
        "id": "WB1cf_8bEtXP",
        "colab_type": "code",
        "outputId": "41ec63ab-1e9a-4b55-c17c-be504c007652",
        "colab": {
          "base_uri": "https://localhost:8080/",
          "height": 35
        }
      },
      "source": [
        "#Train the model using the training sets\n",
        "model.fit(X_train, y_train)"
      ],
      "execution_count": 0,
      "outputs": [
        {
          "output_type": "execute_result",
          "data": {
            "text/plain": [
              "GaussianNB(priors=None, var_smoothing=1e-09)"
            ]
          },
          "metadata": {
            "tags": []
          },
          "execution_count": 121
        }
      ]
    },
    {
      "cell_type": "code",
      "metadata": {
        "id": "y9vebmNTExZq",
        "colab_type": "code",
        "outputId": "18eb424e-5713-42e3-87f5-491aff2a4159",
        "colab": {
          "base_uri": "https://localhost:8080/",
          "height": 35
        }
      },
      "source": [
        "#Train the model using the training sets\n",
        "model.fit(X_train, y_train)"
      ],
      "execution_count": 0,
      "outputs": [
        {
          "output_type": "execute_result",
          "data": {
            "text/plain": [
              "GaussianNB(priors=None, var_smoothing=1e-09)"
            ]
          },
          "metadata": {
            "tags": []
          },
          "execution_count": 122
        }
      ]
    },
    {
      "cell_type": "code",
      "metadata": {
        "id": "Tmc-u3_aHRGM",
        "colab_type": "code",
        "colab": {}
      },
      "source": [
        "#Predict the response for test dataset\n",
        "y_pred = model.predict(X_test)"
      ],
      "execution_count": 0,
      "outputs": []
    },
    {
      "cell_type": "markdown",
      "metadata": {
        "id": "3LEns00MHkwB",
        "colab_type": "text"
      },
      "source": [
        "# Interpretation"
      ]
    },
    {
      "cell_type": "code",
      "metadata": {
        "id": "qdd0MsBbHT78",
        "colab_type": "code",
        "outputId": "f8028eea-9a97-4594-f25c-6bb217babacb",
        "colab": {
          "base_uri": "https://localhost:8080/",
          "height": 35
        }
      },
      "source": [
        "# Model Accuracy, how often is the classifier correct?\n",
        "print(\"Accuracy: \",metrics.accuracy_score(y_test, y_pred))"
      ],
      "execution_count": 0,
      "outputs": [
        {
          "output_type": "stream",
          "text": [
            "Accuracy:  0.9\n"
          ],
          "name": "stdout"
        }
      ]
    },
    {
      "cell_type": "markdown",
      "metadata": {
        "id": "n6pII9k6H1IG",
        "colab_type": "text"
      },
      "source": [
        "# Naive bayes from scratch\n",
        "\n",
        "1. Calculate the prior probability for given class labels\n",
        "2. Find Likelihood probability with each attribute for each class\n",
        "3. Put these value in Bayes Formula and calculate posterior probability.\n",
        "4. See which class has a higher probability, given the input belongs to the higher probability clas\n",
        "\n",
        "\n",
        "\n",
        "#p(y|X) = p(X|y)*p(y) / p(X) = p(X|y)*p(y) * 1/p(X)\n",
        "\n",
        "\n"
      ]
    },
    {
      "cell_type": "code",
      "metadata": {
        "id": "UfzKW3t5Ifn9",
        "colab_type": "code",
        "colab": {}
      },
      "source": [
        "from scipy.stats import norm"
      ],
      "execution_count": 0,
      "outputs": []
    },
    {
      "cell_type": "code",
      "metadata": {
        "id": "YU4Si3XDIwDm",
        "colab_type": "code",
        "colab": {}
      },
      "source": [
        "train = pd.DataFrame(data = np.c_[X_train, y_train], columns= iris['feature_names'] + ['target']) # load data"
      ],
      "execution_count": 0,
      "outputs": []
    },
    {
      "cell_type": "code",
      "metadata": {
        "id": "U24QWkNdIlY3",
        "colab_type": "code",
        "outputId": "558145e6-0e0b-4995-b10e-7a210f07bf7e",
        "colab": {
          "base_uri": "https://localhost:8080/",
          "height": 198
        }
      },
      "source": [
        "train.head()"
      ],
      "execution_count": 0,
      "outputs": [
        {
          "output_type": "execute_result",
          "data": {
            "text/html": [
              "<div>\n",
              "<style scoped>\n",
              "    .dataframe tbody tr th:only-of-type {\n",
              "        vertical-align: middle;\n",
              "    }\n",
              "\n",
              "    .dataframe tbody tr th {\n",
              "        vertical-align: top;\n",
              "    }\n",
              "\n",
              "    .dataframe thead th {\n",
              "        text-align: right;\n",
              "    }\n",
              "</style>\n",
              "<table border=\"1\" class=\"dataframe\">\n",
              "  <thead>\n",
              "    <tr style=\"text-align: right;\">\n",
              "      <th></th>\n",
              "      <th>sepal length (cm)</th>\n",
              "      <th>sepal width (cm)</th>\n",
              "      <th>petal length (cm)</th>\n",
              "      <th>petal width (cm)</th>\n",
              "      <th>target</th>\n",
              "    </tr>\n",
              "  </thead>\n",
              "  <tbody>\n",
              "    <tr>\n",
              "      <th>0</th>\n",
              "      <td>4.4</td>\n",
              "      <td>2.9</td>\n",
              "      <td>1.4</td>\n",
              "      <td>0.2</td>\n",
              "      <td>0.0</td>\n",
              "    </tr>\n",
              "    <tr>\n",
              "      <th>1</th>\n",
              "      <td>6.4</td>\n",
              "      <td>3.2</td>\n",
              "      <td>4.5</td>\n",
              "      <td>1.5</td>\n",
              "      <td>1.0</td>\n",
              "    </tr>\n",
              "    <tr>\n",
              "      <th>2</th>\n",
              "      <td>4.8</td>\n",
              "      <td>3.0</td>\n",
              "      <td>1.4</td>\n",
              "      <td>0.3</td>\n",
              "      <td>0.0</td>\n",
              "    </tr>\n",
              "    <tr>\n",
              "      <th>3</th>\n",
              "      <td>5.7</td>\n",
              "      <td>2.8</td>\n",
              "      <td>4.5</td>\n",
              "      <td>1.3</td>\n",
              "      <td>1.0</td>\n",
              "    </tr>\n",
              "    <tr>\n",
              "      <th>4</th>\n",
              "      <td>7.7</td>\n",
              "      <td>3.8</td>\n",
              "      <td>6.7</td>\n",
              "      <td>2.2</td>\n",
              "      <td>2.0</td>\n",
              "    </tr>\n",
              "  </tbody>\n",
              "</table>\n",
              "</div>"
            ],
            "text/plain": [
              "   sepal length (cm)  sepal width (cm)  ...  petal width (cm)  target\n",
              "0                4.4               2.9  ...               0.2     0.0\n",
              "1                6.4               3.2  ...               1.5     1.0\n",
              "2                4.8               3.0  ...               0.3     0.0\n",
              "3                5.7               2.8  ...               1.3     1.0\n",
              "4                7.7               3.8  ...               2.2     2.0\n",
              "\n",
              "[5 rows x 5 columns]"
            ]
          },
          "metadata": {
            "tags": []
          },
          "execution_count": 127
        }
      ]
    },
    {
      "cell_type": "code",
      "metadata": {
        "id": "dwc86yC6I3zB",
        "colab_type": "code",
        "colab": {}
      },
      "source": [
        "train['target'] = train['target'].astype('int') # change type of column"
      ],
      "execution_count": 0,
      "outputs": []
    },
    {
      "cell_type": "code",
      "metadata": {
        "id": "dQxrKQoHI9Od",
        "colab_type": "code",
        "outputId": "ecdc975b-d078-47b4-df3d-01111496eb2d",
        "colab": {
          "base_uri": "https://localhost:8080/",
          "height": 126
        }
      },
      "source": [
        "train.dtypes"
      ],
      "execution_count": 0,
      "outputs": [
        {
          "output_type": "execute_result",
          "data": {
            "text/plain": [
              "sepal length (cm)    float64\n",
              "sepal width (cm)     float64\n",
              "petal length (cm)    float64\n",
              "petal width (cm)     float64\n",
              "target                 int64\n",
              "dtype: object"
            ]
          },
          "metadata": {
            "tags": []
          },
          "execution_count": 129
        }
      ]
    },
    {
      "cell_type": "markdown",
      "metadata": {
        "id": "7l-HIe_2LdM8",
        "colab_type": "text"
      },
      "source": [
        "1) Calculate the prior probability for given class labels\n",
        "\n"
      ]
    },
    {
      "cell_type": "code",
      "metadata": {
        "id": "Ew5rsCgiLb_f",
        "colab_type": "code",
        "colab": {}
      },
      "source": [
        "# count of specific label / count of all labels\n",
        "# P(y = 0)\n",
        "P_y = []\n",
        "P_y.append(len(train.loc[train['target'] == 0]) / len(train['target']))  # p(y)\n",
        "# P(y = 1)\n",
        "P_y.append( len(train.loc[train['target'] == 1]) / len(train['target'])) # p(y)\n",
        "# P(y = 2)\n",
        "P_y.append(len(train.loc[train['target'] == 2]) / len(train['target']))  # p(y)"
      ],
      "execution_count": 0,
      "outputs": []
    },
    {
      "cell_type": "code",
      "metadata": {
        "id": "Of7y0Ig3L7d1",
        "colab_type": "code",
        "outputId": "1f834954-56cd-4bc5-879c-9cac06d8a703",
        "colab": {
          "base_uri": "https://localhost:8080/",
          "height": 35
        }
      },
      "source": [
        "P_y"
      ],
      "execution_count": 0,
      "outputs": [
        {
          "output_type": "execute_result",
          "data": {
            "text/plain": [
              "[0.3416666666666667, 0.325, 0.3333333333333333]"
            ]
          },
          "metadata": {
            "tags": []
          },
          "execution_count": 131
        }
      ]
    },
    {
      "cell_type": "markdown",
      "metadata": {
        "id": "YmYCtqi3MHgP",
        "colab_type": "text"
      },
      "source": [
        "2) Find Likelihood probability with each attribute for each class"
      ]
    },
    {
      "cell_type": "code",
      "metadata": {
        "id": "t9a5ZnaVQDJM",
        "colab_type": "code",
        "colab": {}
      },
      "source": [
        "mu = []     # define array\n",
        "sigma = []"
      ],
      "execution_count": 0,
      "outputs": []
    },
    {
      "cell_type": "code",
      "metadata": {
        "id": "6__7OjaMQQuK",
        "colab_type": "code",
        "colab": {}
      },
      "source": [
        "# Get parameters for the normal distributions below\n",
        "# every variable has got a mean and std given each condition (y = 0 / 1 / 2)\n",
        "\n",
        "#...given y = 0\n",
        "mu.append(train.loc[train['target'] == 0].drop('target', axis = 1).mean(axis = 0, skipna = True))   # Get all rows where target = 0. Then get mean for each feature (column)\n",
        "sigma.append(train.loc[train['target'] == 0].drop('target', axis = 1).std(axis = 0, skipna = True)) # Get all rows where target = 0. Then get standart deviation for each feature (column)"
      ],
      "execution_count": 0,
      "outputs": []
    },
    {
      "cell_type": "code",
      "metadata": {
        "id": "Nb7ESqAgRoMA",
        "colab_type": "code",
        "colab": {}
      },
      "source": [
        "#...given y = 1\n",
        "mu.append(train.loc[train['target'] == 1].drop('target', axis = 1).mean(axis = 0, skipna = True))\n",
        "sigma.append(train.loc[train['target'] == 1].drop('target', axis = 1).std(axis = 0, skipna = True))"
      ],
      "execution_count": 0,
      "outputs": []
    },
    {
      "cell_type": "code",
      "metadata": {
        "id": "QthScEyHRpu1",
        "colab_type": "code",
        "colab": {}
      },
      "source": [
        "#...given y = 2\n",
        "mu.append(train.loc[train['target'] == 2].drop('target', axis = 1).mean(axis = 0, skipna = True))\n",
        "sigma.append(train.loc[train['target'] == 2].drop('target', axis = 1).std(axis = 0, skipna = True))"
      ],
      "execution_count": 0,
      "outputs": []
    },
    {
      "cell_type": "markdown",
      "metadata": {
        "id": "MWJZGKT7R_r0",
        "colab_type": "text"
      },
      "source": [
        "The constant is just a factor that makes the result equal to a probability (scale the result values to a range from 0 to 1)! You do not need this constant factor. However, which group has the highest value will not change by multiplication with this constant. We are only interested in which group has got the highest value.\n",
        "\n",
        "P(y|X) = p(X|y)*p(y)/p(X) = 1/p(X) * p(X|y) * p(y) = constant * likelihood * prior\n",
        "\n",
        "![alt text](https://s3-ap-south-1.amazonaws.com/av-blog-media/wp-content/uploads/2019/05/Capture.jpg1-300x136.jpg)"
      ]
    },
    {
      "cell_type": "code",
      "metadata": {
        "id": "mCyL6DzvZHf7",
        "colab_type": "code",
        "colab": {}
      },
      "source": [
        "def getGroup(values):\n",
        "    res = []\n",
        "    for i in [0,1,2]:\n",
        "        group = i\n",
        "        \n",
        "        # likelihood_0*likelihood_1*...*likelihood_n*prior_proba\n",
        "\n",
        "        res.append(P_y[group]* # prior_proba\n",
        "                   norm.pdf(values[0], mu[group][0], sigma[group][0])* \\\n",
        "                   norm.pdf(values[1], mu[group][1], sigma[group][1])* \\\n",
        "                   norm.pdf(values[2], mu[group][2], sigma[group][2])* \\\n",
        "                   norm.pdf(values[3], mu[group][3], sigma[group][3]))\n",
        "    return (res.index(max(res))) #return expected group label"
      ],
      "execution_count": 0,
      "outputs": []
    },
    {
      "cell_type": "code",
      "metadata": {
        "id": "UrtNStSsbM-Q",
        "colab_type": "code",
        "colab": {}
      },
      "source": [
        "results = pd.DataFrame(columns = ['prediction','true value']) # create empty df"
      ],
      "execution_count": 0,
      "outputs": []
    },
    {
      "cell_type": "code",
      "metadata": {
        "id": "QC1CQSPcbpeP",
        "colab_type": "code",
        "colab": {}
      },
      "source": [
        "for i in range(len(y_test)):\n",
        "    vals = list(X_test.iloc[i])\n",
        "    results = results.append({'prediction': getGroup(vals), 'true value': y_test.iloc[i]}, ignore_index=True)"
      ],
      "execution_count": 0,
      "outputs": []
    },
    {
      "cell_type": "code",
      "metadata": {
        "id": "j5BctQ1Wb4dk",
        "colab_type": "code",
        "outputId": "121a24da-5260-480e-f194-62f29314da34",
        "colab": {
          "base_uri": "https://localhost:8080/",
          "height": 198
        }
      },
      "source": [
        "results.head()"
      ],
      "execution_count": 0,
      "outputs": [
        {
          "output_type": "execute_result",
          "data": {
            "text/html": [
              "<div>\n",
              "<style scoped>\n",
              "    .dataframe tbody tr th:only-of-type {\n",
              "        vertical-align: middle;\n",
              "    }\n",
              "\n",
              "    .dataframe tbody tr th {\n",
              "        vertical-align: top;\n",
              "    }\n",
              "\n",
              "    .dataframe thead th {\n",
              "        text-align: right;\n",
              "    }\n",
              "</style>\n",
              "<table border=\"1\" class=\"dataframe\">\n",
              "  <thead>\n",
              "    <tr style=\"text-align: right;\">\n",
              "      <th></th>\n",
              "      <th>prediction</th>\n",
              "      <th>true value</th>\n",
              "    </tr>\n",
              "  </thead>\n",
              "  <tbody>\n",
              "    <tr>\n",
              "      <th>0</th>\n",
              "      <td>2.0</td>\n",
              "      <td>2.0</td>\n",
              "    </tr>\n",
              "    <tr>\n",
              "      <th>1</th>\n",
              "      <td>2.0</td>\n",
              "      <td>2.0</td>\n",
              "    </tr>\n",
              "    <tr>\n",
              "      <th>2</th>\n",
              "      <td>1.0</td>\n",
              "      <td>1.0</td>\n",
              "    </tr>\n",
              "    <tr>\n",
              "      <th>3</th>\n",
              "      <td>2.0</td>\n",
              "      <td>2.0</td>\n",
              "    </tr>\n",
              "    <tr>\n",
              "      <th>4</th>\n",
              "      <td>2.0</td>\n",
              "      <td>2.0</td>\n",
              "    </tr>\n",
              "  </tbody>\n",
              "</table>\n",
              "</div>"
            ],
            "text/plain": [
              "   prediction  true value\n",
              "0         2.0         2.0\n",
              "1         2.0         2.0\n",
              "2         1.0         1.0\n",
              "3         2.0         2.0\n",
              "4         2.0         2.0"
            ]
          },
          "metadata": {
            "tags": []
          },
          "execution_count": 139
        }
      ]
    },
    {
      "cell_type": "code",
      "metadata": {
        "id": "3Wpoyu2sb0cx",
        "colab_type": "code",
        "colab": {}
      },
      "source": [
        "for i in range(len(y_test)):\n",
        "    if results.loc[i,'prediction'] == results.loc[i,'true value'] :\n",
        "        results.loc[i,'match'] = True \n",
        "    else: \n",
        "        results.loc[i,'match'] = False"
      ],
      "execution_count": 0,
      "outputs": []
    },
    {
      "cell_type": "code",
      "metadata": {
        "id": "_Pxk1YGfcFic",
        "colab_type": "code",
        "outputId": "132ac66b-4663-4ad5-a379-1a54d34e8877",
        "colab": {
          "base_uri": "https://localhost:8080/",
          "height": 198
        }
      },
      "source": [
        "results.head()"
      ],
      "execution_count": 0,
      "outputs": [
        {
          "output_type": "execute_result",
          "data": {
            "text/html": [
              "<div>\n",
              "<style scoped>\n",
              "    .dataframe tbody tr th:only-of-type {\n",
              "        vertical-align: middle;\n",
              "    }\n",
              "\n",
              "    .dataframe tbody tr th {\n",
              "        vertical-align: top;\n",
              "    }\n",
              "\n",
              "    .dataframe thead th {\n",
              "        text-align: right;\n",
              "    }\n",
              "</style>\n",
              "<table border=\"1\" class=\"dataframe\">\n",
              "  <thead>\n",
              "    <tr style=\"text-align: right;\">\n",
              "      <th></th>\n",
              "      <th>prediction</th>\n",
              "      <th>true value</th>\n",
              "      <th>match</th>\n",
              "    </tr>\n",
              "  </thead>\n",
              "  <tbody>\n",
              "    <tr>\n",
              "      <th>0</th>\n",
              "      <td>2.0</td>\n",
              "      <td>2.0</td>\n",
              "      <td>True</td>\n",
              "    </tr>\n",
              "    <tr>\n",
              "      <th>1</th>\n",
              "      <td>2.0</td>\n",
              "      <td>2.0</td>\n",
              "      <td>True</td>\n",
              "    </tr>\n",
              "    <tr>\n",
              "      <th>2</th>\n",
              "      <td>1.0</td>\n",
              "      <td>1.0</td>\n",
              "      <td>True</td>\n",
              "    </tr>\n",
              "    <tr>\n",
              "      <th>3</th>\n",
              "      <td>2.0</td>\n",
              "      <td>2.0</td>\n",
              "      <td>True</td>\n",
              "    </tr>\n",
              "    <tr>\n",
              "      <th>4</th>\n",
              "      <td>2.0</td>\n",
              "      <td>2.0</td>\n",
              "      <td>True</td>\n",
              "    </tr>\n",
              "  </tbody>\n",
              "</table>\n",
              "</div>"
            ],
            "text/plain": [
              "   prediction  true value  match\n",
              "0         2.0         2.0   True\n",
              "1         2.0         2.0   True\n",
              "2         1.0         1.0   True\n",
              "3         2.0         2.0   True\n",
              "4         2.0         2.0   True"
            ]
          },
          "metadata": {
            "tags": []
          },
          "execution_count": 141
        }
      ]
    },
    {
      "cell_type": "code",
      "metadata": {
        "id": "Ez7Tf-DXcJiM",
        "colab_type": "code",
        "outputId": "8534b425-98ec-4b4d-c03c-04c16d717445",
        "colab": {
          "base_uri": "https://localhost:8080/",
          "height": 35
        }
      },
      "source": [
        "print('Accuracy: ',sum(results['match'])/len(results['match']))"
      ],
      "execution_count": 0,
      "outputs": [
        {
          "output_type": "stream",
          "text": [
            "Accuracy:  0.9\n"
          ],
          "name": "stdout"
        }
      ]
    },
    {
      "cell_type": "markdown",
      "metadata": {
        "id": "JtFiXZUpcehi",
        "colab_type": "text"
      },
      "source": [
        "# Naive bayes from scratch - optimized\n",
        "\n",
        "It works, but this method will not be as exact as it could be, because of  float point underflow (computers work inaccurately with very small floats).\n",
        "\n",
        "Therefor instead of calculating \n",
        "argmax_y P(y) * multiplication(P(x_i|y))\n",
        "we calcualte\n",
        "argmax_y log(P(y)) + sum(log(P(x_i|y)))"
      ]
    },
    {
      "cell_type": "code",
      "metadata": {
        "id": "62yp52o5dDrc",
        "colab_type": "code",
        "colab": {}
      },
      "source": [
        "from math import log"
      ],
      "execution_count": 0,
      "outputs": []
    },
    {
      "cell_type": "code",
      "metadata": {
        "id": "CO6P2njZCV97",
        "colab_type": "code",
        "outputId": "4378f2a3-8f23-4ffc-fcb0-d6f16b60fa84",
        "colab": {
          "base_uri": "https://localhost:8080/",
          "height": 35
        }
      },
      "source": [
        "# P(y|X) = p(X|y)*p(y)/p(X) = 1/p(X) * p(X|y)*p(y) = constant * likelihood * prior\n",
        "def getGroup(values):\n",
        "    res = []\n",
        "    for i in [0,1,2]:\n",
        "        group = i\n",
        "\n",
        "        # likelihood_0*likelihood_1*...*likelihood_n*prior_proba\n",
        "        # note: we changed (*) symbol to (+) symbol because of log rules\n",
        "        res.append(log(P_y[group])+ \\\n",
        "                   log(norm.pdf(values[0], mu[group][0], sigma[group][0]))+ \\\n",
        "                   log(norm.pdf(values[1], mu[group][1], sigma[group][1]))+ \\\n",
        "                   log(norm.pdf(values[2], mu[group][2], sigma[group][2]))+ \\\n",
        "                   log(norm.pdf(values[3], mu[group][3], sigma[group][3])))\n",
        "    return (res.index(max(res))) #return expected group label\n",
        "    \n",
        "results = pd.DataFrame(columns = ['prediction','true value'])\n",
        "for i in range(len(y_test)):\n",
        "    vals = list(X_test.iloc[i])\n",
        "    results = results.append({'prediction': getGroup(vals), 'true value': y_test.iloc[i]}, ignore_index=True)\n",
        "    \n",
        "\n",
        "for i in range(len(y_test)):\n",
        "    if results.loc[i,'prediction'] == results.loc[i,'true value'] :\n",
        "        results.loc[i,'match'] = True \n",
        "    else: \n",
        "        results.loc[i,'match'] = False\n",
        "\n",
        "print('Accuracy: ',sum(results['match'])/len(results['match']))"
      ],
      "execution_count": 0,
      "outputs": [
        {
          "output_type": "stream",
          "text": [
            "Accuracy:  0.9\n"
          ],
          "name": "stdout"
        }
      ]
    },
    {
      "cell_type": "markdown",
      "metadata": {
        "id": "HNpDJpIxdZ9x",
        "colab_type": "text"
      },
      "source": [
        "\n",
        "- When working with categorical features, use the multinomial or categorical instead of the normal distribution\n",
        "- sklearn PROBABLY does this log-ing automatically...\n"
      ]
    },
    {
      "cell_type": "code",
      "metadata": {
        "id": "VKLySz7NbcZG",
        "colab_type": "code",
        "colab": {}
      },
      "source": [
        ""
      ],
      "execution_count": 0,
      "outputs": []
    }
  ]
}