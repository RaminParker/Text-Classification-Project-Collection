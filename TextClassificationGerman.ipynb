{
  "nbformat": 4,
  "nbformat_minor": 0,
  "metadata": {
    "colab": {
      "name": "TextClassificationGerman.ipynb",
      "provenance": [],
      "collapsed_sections": [],
      "include_colab_link": true
    },
    "kernelspec": {
      "name": "python3",
      "display_name": "Python 3"
    },
    "accelerator": "GPU"
  },
  "cells": [
    {
      "cell_type": "markdown",
      "metadata": {
        "id": "view-in-github",
        "colab_type": "text"
      },
      "source": [
        "<a href=\"https://colab.research.google.com/github/RaminParker/Text-Classification-with-German-dataset/blob/master/TextClassificationGerman.ipynb\" target=\"_parent\"><img src=\"https://colab.research.google.com/assets/colab-badge.svg\" alt=\"Open In Colab\"/></a>"
      ]
    },
    {
      "cell_type": "code",
      "metadata": {
        "id": "6F8-eenppTHc",
        "colab_type": "code",
        "colab": {}
      },
      "source": [
        "from fastai import *\n",
        "from fastai.text import *\n",
        "import pandas as pd\n",
        "import numpy as np"
      ],
      "execution_count": 0,
      "outputs": []
    },
    {
      "cell_type": "code",
      "metadata": {
        "id": "cPTu79N4rTli",
        "colab_type": "code",
        "colab": {}
      },
      "source": [
        "import sklearn.feature_extraction.text as sklearn_text"
      ],
      "execution_count": 0,
      "outputs": []
    },
    {
      "cell_type": "code",
      "metadata": {
        "id": "X42_B_XcpWz3",
        "colab_type": "code",
        "colab": {
          "base_uri": "https://localhost:8080/",
          "height": 128
        },
        "outputId": "feb271cc-5101-45d7-b1c7-56c9f518d21f"
      },
      "source": [
        "from google.colab import drive\n",
        "drive.mount('/content/gdrive')"
      ],
      "execution_count": 1,
      "outputs": [
        {
          "output_type": "stream",
          "text": [
            "Go to this URL in a browser: https://accounts.google.com/o/oauth2/auth?client_id=947318989803-6bn6qk8qdgf4n4g3pfee6491hc0brc4i.apps.googleusercontent.com&redirect_uri=urn%3aietf%3awg%3aoauth%3a2.0%3aoob&response_type=code&scope=email%20https%3a%2f%2fwww.googleapis.com%2fauth%2fdocs.test%20https%3a%2f%2fwww.googleapis.com%2fauth%2fdrive%20https%3a%2f%2fwww.googleapis.com%2fauth%2fdrive.photos.readonly%20https%3a%2f%2fwww.googleapis.com%2fauth%2fpeopleapi.readonly\n",
            "\n",
            "Enter your authorization code:\n",
            "··········\n",
            "Mounted at /content/gdrive\n"
          ],
          "name": "stdout"
        }
      ]
    },
    {
      "cell_type": "code",
      "metadata": {
        "id": "m04QTmkspu0d",
        "colab_type": "code",
        "colab": {}
      },
      "source": [
        "%reload_ext autoreload\n",
        "%autoreload 2\n",
        "%matplotlib inline"
      ],
      "execution_count": 0,
      "outputs": []
    },
    {
      "cell_type": "code",
      "metadata": {
        "id": "c18kaHFKrKPh",
        "colab_type": "code",
        "colab": {}
      },
      "source": [
        "path = 'gdrive/My Drive/Arbeit/TeamBank_Work/GermanArticles.csv'"
      ],
      "execution_count": 0,
      "outputs": []
    },
    {
      "cell_type": "code",
      "metadata": {
        "id": "HPJsh1mnroa1",
        "colab_type": "code",
        "colab": {}
      },
      "source": [
        "df_text = pd.read_csv(path, sep='\\t', names=['text'], header=None)"
      ],
      "execution_count": 0,
      "outputs": []
    },
    {
      "cell_type": "code",
      "metadata": {
        "id": "9oZkhzWdwDfu",
        "colab_type": "code",
        "colab": {
          "base_uri": "https://localhost:8080/",
          "height": 798
        },
        "outputId": "d4b19221-3c5b-4a14-9648-34914926a3b8"
      },
      "source": [
        "df_text.head(25)"
      ],
      "execution_count": 11,
      "outputs": [
        {
          "output_type": "execute_result",
          "data": {
            "text/html": [
              "<div>\n",
              "<style scoped>\n",
              "    .dataframe tbody tr th:only-of-type {\n",
              "        vertical-align: middle;\n",
              "    }\n",
              "\n",
              "    .dataframe tbody tr th {\n",
              "        vertical-align: top;\n",
              "    }\n",
              "\n",
              "    .dataframe thead th {\n",
              "        text-align: right;\n",
              "    }\n",
              "</style>\n",
              "<table border=\"1\" class=\"dataframe\">\n",
              "  <thead>\n",
              "    <tr style=\"text-align: right;\">\n",
              "      <th></th>\n",
              "      <th>text</th>\n",
              "    </tr>\n",
              "  </thead>\n",
              "  <tbody>\n",
              "    <tr>\n",
              "      <th>0</th>\n",
              "      <td>Etat;Die ARD-Tochter Degeto hat sich verpflich...</td>\n",
              "    </tr>\n",
              "    <tr>\n",
              "      <th>1</th>\n",
              "      <td>Etat;App sei nicht so angenommen worden wie ge...</td>\n",
              "    </tr>\n",
              "    <tr>\n",
              "      <th>2</th>\n",
              "      <td>Etat;'Zum Welttag der Suizidprävention ist es ...</td>\n",
              "    </tr>\n",
              "    <tr>\n",
              "      <th>3</th>\n",
              "      <td>Etat;Mitarbeiter überreichten Eigentümervertre...</td>\n",
              "    </tr>\n",
              "    <tr>\n",
              "      <th>4</th>\n",
              "      <td>Etat;Service: Jobwechsel in der Kommunikations...</td>\n",
              "    </tr>\n",
              "    <tr>\n",
              "      <th>5</th>\n",
              "      <td>Etat;Was Sie über diese Woche wissen sollten -...</td>\n",
              "    </tr>\n",
              "    <tr>\n",
              "      <th>6</th>\n",
              "      <td>Etat;Was Sie über diese Woche wissen sollten –...</td>\n",
              "    </tr>\n",
              "    <tr>\n",
              "      <th>7</th>\n",
              "      <td>Etat;Medienjournalist möchte eine eigene Platt...</td>\n",
              "    </tr>\n",
              "    <tr>\n",
              "      <th>8</th>\n",
              "      <td>Etat;Autorenkollektiv soll als feste Redaktion...</td>\n",
              "    </tr>\n",
              "    <tr>\n",
              "      <th>9</th>\n",
              "      <td>Etat;Nachrichten-App nach drei Jahren an Finan...</td>\n",
              "    </tr>\n",
              "    <tr>\n",
              "      <th>10</th>\n",
              "      <td>Etat;News werden nach Interessen der Leser aus...</td>\n",
              "    </tr>\n",
              "    <tr>\n",
              "      <th>11</th>\n",
              "      <td>Etat;Kabarettist und Moderator rechnet mit Kom...</td>\n",
              "    </tr>\n",
              "    <tr>\n",
              "      <th>12</th>\n",
              "      <td>Etat;'Werbung im Wert von 22 Milliarden Euro w...</td>\n",
              "    </tr>\n",
              "    <tr>\n",
              "      <th>13</th>\n",
              "      <td>Etat;Nun besteht die Möglichkeit Werbung nach ...</td>\n",
              "    </tr>\n",
              "    <tr>\n",
              "      <th>14</th>\n",
              "      <td>Etat;Plattform verspricht \"die besten Geschich...</td>\n",
              "    </tr>\n",
              "    <tr>\n",
              "      <th>15</th>\n",
              "      <td>Etat;Von Helmut Schmidt, über Häupl und Fayman...</td>\n",
              "    </tr>\n",
              "    <tr>\n",
              "      <th>16</th>\n",
              "      <td>Etat;Chinesische Online-Handelsplattform kauft...</td>\n",
              "    </tr>\n",
              "    <tr>\n",
              "      <th>17</th>\n",
              "      <td>Etat;Seite will Abonnements für 3,99 Euro im M...</td>\n",
              "    </tr>\n",
              "    <tr>\n",
              "      <th>18</th>\n",
              "      <td>Etat;Debatte über die Zukunft des Fernsehens b...</td>\n",
              "    </tr>\n",
              "    <tr>\n",
              "      <th>19</th>\n",
              "      <td>Etat;Für die in der Kritik stehende Yahoo-Chef...</td>\n",
              "    </tr>\n",
              "    <tr>\n",
              "      <th>20</th>\n",
              "      <td>Etat;Stadler gewinnt in Kategorie Medienmacher...</td>\n",
              "    </tr>\n",
              "    <tr>\n",
              "      <th>21</th>\n",
              "      <td>Etat;Mitte Juni findet die GEN-Summit mit mehr...</td>\n",
              "    </tr>\n",
              "    <tr>\n",
              "      <th>22</th>\n",
              "      <td>Etat;Posting \"stammt sicher nicht von uns. Das...</td>\n",
              "    </tr>\n",
              "    <tr>\n",
              "      <th>23</th>\n",
              "      <td>Etat;55 Prozent des Umsatzes – Zunächst Test. ...</td>\n",
              "    </tr>\n",
              "    <tr>\n",
              "      <th>24</th>\n",
              "      <td>Etat;Bald soll die Social Media Plattform wied...</td>\n",
              "    </tr>\n",
              "  </tbody>\n",
              "</table>\n",
              "</div>"
            ],
            "text/plain": [
              "                                                 text\n",
              "0   Etat;Die ARD-Tochter Degeto hat sich verpflich...\n",
              "1   Etat;App sei nicht so angenommen worden wie ge...\n",
              "2   Etat;'Zum Welttag der Suizidprävention ist es ...\n",
              "3   Etat;Mitarbeiter überreichten Eigentümervertre...\n",
              "4   Etat;Service: Jobwechsel in der Kommunikations...\n",
              "5   Etat;Was Sie über diese Woche wissen sollten -...\n",
              "6   Etat;Was Sie über diese Woche wissen sollten –...\n",
              "7   Etat;Medienjournalist möchte eine eigene Platt...\n",
              "8   Etat;Autorenkollektiv soll als feste Redaktion...\n",
              "9   Etat;Nachrichten-App nach drei Jahren an Finan...\n",
              "10  Etat;News werden nach Interessen der Leser aus...\n",
              "11  Etat;Kabarettist und Moderator rechnet mit Kom...\n",
              "12  Etat;'Werbung im Wert von 22 Milliarden Euro w...\n",
              "13  Etat;Nun besteht die Möglichkeit Werbung nach ...\n",
              "14  Etat;Plattform verspricht \"die besten Geschich...\n",
              "15  Etat;Von Helmut Schmidt, über Häupl und Fayman...\n",
              "16  Etat;Chinesische Online-Handelsplattform kauft...\n",
              "17  Etat;Seite will Abonnements für 3,99 Euro im M...\n",
              "18  Etat;Debatte über die Zukunft des Fernsehens b...\n",
              "19  Etat;Für die in der Kritik stehende Yahoo-Chef...\n",
              "20  Etat;Stadler gewinnt in Kategorie Medienmacher...\n",
              "21  Etat;Mitte Juni findet die GEN-Summit mit mehr...\n",
              "22  Etat;Posting \"stammt sicher nicht von uns. Das...\n",
              "23  Etat;55 Prozent des Umsatzes – Zunächst Test. ...\n",
              "24  Etat;Bald soll die Social Media Plattform wied..."
            ]
          },
          "metadata": {
            "tags": []
          },
          "execution_count": 11
        }
      ]
    },
    {
      "cell_type": "code",
      "metadata": {
        "id": "j81PXekHwTcE",
        "colab_type": "code",
        "colab": {}
      },
      "source": [
        ""
      ],
      "execution_count": 0,
      "outputs": []
    },
    {
      "cell_type": "code",
      "metadata": {
        "id": "QlQ2-cijwFu0",
        "colab_type": "code",
        "colab": {}
      },
      "source": [
        ""
      ],
      "execution_count": 0,
      "outputs": []
    }
  ]
}