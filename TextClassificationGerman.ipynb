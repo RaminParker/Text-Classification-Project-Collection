{
  "nbformat": 4,
  "nbformat_minor": 0,
  "metadata": {
    "colab": {
      "name": "TextClassificationGerman.ipynb",
      "provenance": [],
      "collapsed_sections": [],
      "include_colab_link": true
    },
    "kernelspec": {
      "name": "python3",
      "display_name": "Python 3"
    },
    "accelerator": "GPU"
  },
  "cells": [
    {
      "cell_type": "markdown",
      "metadata": {
        "id": "view-in-github",
        "colab_type": "text"
      },
      "source": [
        "<a href=\"https://colab.research.google.com/github/RaminParker/Text-Classification-with-German-dataset/blob/master/TextClassificationGerman.ipynb\" target=\"_parent\"><img src=\"https://colab.research.google.com/assets/colab-badge.svg\" alt=\"Open In Colab\"/></a>"
      ]
    },
    {
      "cell_type": "markdown",
      "metadata": {
        "id": "z561z-ZGdxHX",
        "colab_type": "text"
      },
      "source": [
        "# Sentiment Classification with Naive Bayes\n",
        "\n",
        "This notebook uses the techniques represented in the following video:\n",
        "- [video 1](https://www.youtube.com/watch?v=hp2ipC5pW4I&list=PLtmWHNX-gukKocXQOkQjuVxglSDYWsSh9&index=4)\n",
        "- [video 2](https://www.youtube.com/watch?v=dt7sArnLo1g&list=PLtmWHNX-gukKocXQOkQjuVxglSDYWsSh9&index=5)\n",
        "\n",
        "However, many steps had to be addapted to fit this particular use case"
      ]
    },
    {
      "cell_type": "markdown",
      "metadata": {
        "id": "arj6HKQQ5Df-",
        "colab_type": "text"
      },
      "source": [
        "## Links"
      ]
    },
    {
      "cell_type": "markdown",
      "metadata": {
        "id": "XWduF-5f5He_",
        "colab_type": "text"
      },
      "source": [
        "- [Using FastAI’s ULMFiT to make a state-of-the-art multi-class text classifier](https://medium.com/technonerds/using-fastais-ulmfit-to-make-a-state-of-the-art-multi-label-text-classifier-bf54e2943e83)\n",
        "- [Using the fastai Data Block API](https://medium.com/@tmckenzie.nz/using-the-fastai-data-block-api-b4818e72155b)"
      ]
    },
    {
      "cell_type": "code",
      "metadata": {
        "id": "6F8-eenppTHc",
        "colab_type": "code",
        "colab": {}
      },
      "source": [
        "from fastai import *\n",
        "from fastai.text import *\n",
        "import pandas as pd\n",
        "import numpy as np\n",
        "\n",
        "from sklearn.model_selection import train_test_split"
      ],
      "execution_count": 0,
      "outputs": []
    },
    {
      "cell_type": "code",
      "metadata": {
        "id": "cPTu79N4rTli",
        "colab_type": "code",
        "colab": {}
      },
      "source": [
        "import sklearn.feature_extraction.text as sklearn_text"
      ],
      "execution_count": 0,
      "outputs": []
    },
    {
      "cell_type": "code",
      "metadata": {
        "id": "vJclmfANwwBa",
        "colab_type": "code",
        "colab": {}
      },
      "source": [
        "%reload_ext autoreload\n",
        "%autoreload 2\n",
        "%matplotlib inline"
      ],
      "execution_count": 0,
      "outputs": []
    },
    {
      "cell_type": "code",
      "metadata": {
        "id": "X42_B_XcpWz3",
        "colab_type": "code",
        "outputId": "d486b86f-bc69-4b88-e253-f7a11a13f2fc",
        "colab": {
          "base_uri": "https://localhost:8080/",
          "height": 34
        }
      },
      "source": [
        "from google.colab import drive\n",
        "drive.mount('/content/gdrive')"
      ],
      "execution_count": 58,
      "outputs": [
        {
          "output_type": "stream",
          "text": [
            "Drive already mounted at /content/gdrive; to attempt to forcibly remount, call drive.mount(\"/content/gdrive\", force_remount=True).\n"
          ],
          "name": "stdout"
        }
      ]
    },
    {
      "cell_type": "markdown",
      "metadata": {
        "id": "BbsNPNcawzev",
        "colab_type": "text"
      },
      "source": [
        "## Import data"
      ]
    },
    {
      "cell_type": "code",
      "metadata": {
        "id": "c18kaHFKrKPh",
        "colab_type": "code",
        "colab": {}
      },
      "source": [
        "path = 'gdrive/My Drive/Arbeit/TeamBank_Work/'"
      ],
      "execution_count": 0,
      "outputs": []
    },
    {
      "cell_type": "code",
      "metadata": {
        "id": "HPJsh1mnroa1",
        "colab_type": "code",
        "colab": {}
      },
      "source": [
        "#nrows = None     # read all rows of dataset\n",
        "nrows = 4000\n",
        "\n",
        "df = pd.read_csv(path + 'GermanArticles.csv', sep='\\t', names=['text'], header=None, nrows=nrows)"
      ],
      "execution_count": 0,
      "outputs": []
    },
    {
      "cell_type": "code",
      "metadata": {
        "id": "9oZkhzWdwDfu",
        "colab_type": "code",
        "outputId": "f27421c7-2602-4e08-c6e2-fb182350fa29",
        "colab": {
          "base_uri": "https://localhost:8080/",
          "height": 203
        }
      },
      "source": [
        "df.head()"
      ],
      "execution_count": 61,
      "outputs": [
        {
          "output_type": "execute_result",
          "data": {
            "text/html": [
              "<div>\n",
              "<style scoped>\n",
              "    .dataframe tbody tr th:only-of-type {\n",
              "        vertical-align: middle;\n",
              "    }\n",
              "\n",
              "    .dataframe tbody tr th {\n",
              "        vertical-align: top;\n",
              "    }\n",
              "\n",
              "    .dataframe thead th {\n",
              "        text-align: right;\n",
              "    }\n",
              "</style>\n",
              "<table border=\"1\" class=\"dataframe\">\n",
              "  <thead>\n",
              "    <tr style=\"text-align: right;\">\n",
              "      <th></th>\n",
              "      <th>text</th>\n",
              "    </tr>\n",
              "  </thead>\n",
              "  <tbody>\n",
              "    <tr>\n",
              "      <th>0</th>\n",
              "      <td>Etat;Die ARD-Tochter Degeto hat sich verpflich...</td>\n",
              "    </tr>\n",
              "    <tr>\n",
              "      <th>1</th>\n",
              "      <td>Etat;App sei nicht so angenommen worden wie ge...</td>\n",
              "    </tr>\n",
              "    <tr>\n",
              "      <th>2</th>\n",
              "      <td>Etat;'Zum Welttag der Suizidprävention ist es ...</td>\n",
              "    </tr>\n",
              "    <tr>\n",
              "      <th>3</th>\n",
              "      <td>Etat;Mitarbeiter überreichten Eigentümervertre...</td>\n",
              "    </tr>\n",
              "    <tr>\n",
              "      <th>4</th>\n",
              "      <td>Etat;Service: Jobwechsel in der Kommunikations...</td>\n",
              "    </tr>\n",
              "  </tbody>\n",
              "</table>\n",
              "</div>"
            ],
            "text/plain": [
              "                                                text\n",
              "0  Etat;Die ARD-Tochter Degeto hat sich verpflich...\n",
              "1  Etat;App sei nicht so angenommen worden wie ge...\n",
              "2  Etat;'Zum Welttag der Suizidprävention ist es ...\n",
              "3  Etat;Mitarbeiter überreichten Eigentümervertre...\n",
              "4  Etat;Service: Jobwechsel in der Kommunikations..."
            ]
          },
          "metadata": {
            "tags": []
          },
          "execution_count": 61
        }
      ]
    },
    {
      "cell_type": "markdown",
      "metadata": {
        "id": "KoLVJ97Hw5XZ",
        "colab_type": "text"
      },
      "source": [
        "## Bring dataset into the correct form"
      ]
    },
    {
      "cell_type": "markdown",
      "metadata": {
        "id": "UlBS4UEqCVxO",
        "colab_type": "text"
      },
      "source": [
        "### Change columns"
      ]
    },
    {
      "cell_type": "code",
      "metadata": {
        "id": "j81PXekHwTcE",
        "colab_type": "code",
        "colab": {}
      },
      "source": [
        "# dropping null value columns to avoid errors \n",
        "df.dropna(inplace = True) "
      ],
      "execution_count": 0,
      "outputs": []
    },
    {
      "cell_type": "code",
      "metadata": {
        "id": "QlQ2-cijwFu0",
        "colab_type": "code",
        "colab": {}
      },
      "source": [
        "# new data frame with split value columns \n",
        "new = df[\"text\"].str.split(\";\", n = 1, expand = True)  # Expand the splitted strings into separate columns: True"
      ],
      "execution_count": 0,
      "outputs": []
    },
    {
      "cell_type": "code",
      "metadata": {
        "id": "uNYfoW2dt5d8",
        "colab_type": "code",
        "outputId": "8c6336d4-24e4-4367-df45-427c79fc4492",
        "colab": {
          "base_uri": "https://localhost:8080/",
          "height": 110
        }
      },
      "source": [
        "new.head(2)"
      ],
      "execution_count": 64,
      "outputs": [
        {
          "output_type": "execute_result",
          "data": {
            "text/html": [
              "<div>\n",
              "<style scoped>\n",
              "    .dataframe tbody tr th:only-of-type {\n",
              "        vertical-align: middle;\n",
              "    }\n",
              "\n",
              "    .dataframe tbody tr th {\n",
              "        vertical-align: top;\n",
              "    }\n",
              "\n",
              "    .dataframe thead th {\n",
              "        text-align: right;\n",
              "    }\n",
              "</style>\n",
              "<table border=\"1\" class=\"dataframe\">\n",
              "  <thead>\n",
              "    <tr style=\"text-align: right;\">\n",
              "      <th></th>\n",
              "      <th>0</th>\n",
              "      <th>1</th>\n",
              "    </tr>\n",
              "  </thead>\n",
              "  <tbody>\n",
              "    <tr>\n",
              "      <th>0</th>\n",
              "      <td>Etat</td>\n",
              "      <td>Die ARD-Tochter Degeto hat sich verpflichtet, ...</td>\n",
              "    </tr>\n",
              "    <tr>\n",
              "      <th>1</th>\n",
              "      <td>Etat</td>\n",
              "      <td>App sei nicht so angenommen worden wie geplant...</td>\n",
              "    </tr>\n",
              "  </tbody>\n",
              "</table>\n",
              "</div>"
            ],
            "text/plain": [
              "      0                                                  1\n",
              "0  Etat  Die ARD-Tochter Degeto hat sich verpflichtet, ...\n",
              "1  Etat  App sei nicht so angenommen worden wie geplant..."
            ]
          },
          "metadata": {
            "tags": []
          },
          "execution_count": 64
        }
      ]
    },
    {
      "cell_type": "code",
      "metadata": {
        "id": "8Hg6o_c3twEs",
        "colab_type": "code",
        "colab": {}
      },
      "source": [
        " # making separate first name column from new data frame \n",
        "df[\"label\"]= new[0] \n",
        "  \n",
        "# making separate last name column from new data frame \n",
        "df[\"content\"]= new[1] \n",
        "  \n",
        "# Dropping old Name columns \n",
        "df.drop(columns =[\"text\"], inplace = True) "
      ],
      "execution_count": 0,
      "outputs": []
    },
    {
      "cell_type": "code",
      "metadata": {
        "id": "rutBEZ8uvBkr",
        "colab_type": "code",
        "outputId": "754f6a79-4022-428d-bbe6-8b38ed8f1a5a",
        "colab": {
          "base_uri": "https://localhost:8080/",
          "height": 110
        }
      },
      "source": [
        "df.head(2)"
      ],
      "execution_count": 66,
      "outputs": [
        {
          "output_type": "execute_result",
          "data": {
            "text/html": [
              "<div>\n",
              "<style scoped>\n",
              "    .dataframe tbody tr th:only-of-type {\n",
              "        vertical-align: middle;\n",
              "    }\n",
              "\n",
              "    .dataframe tbody tr th {\n",
              "        vertical-align: top;\n",
              "    }\n",
              "\n",
              "    .dataframe thead th {\n",
              "        text-align: right;\n",
              "    }\n",
              "</style>\n",
              "<table border=\"1\" class=\"dataframe\">\n",
              "  <thead>\n",
              "    <tr style=\"text-align: right;\">\n",
              "      <th></th>\n",
              "      <th>label</th>\n",
              "      <th>content</th>\n",
              "    </tr>\n",
              "  </thead>\n",
              "  <tbody>\n",
              "    <tr>\n",
              "      <th>0</th>\n",
              "      <td>Etat</td>\n",
              "      <td>Die ARD-Tochter Degeto hat sich verpflichtet, ...</td>\n",
              "    </tr>\n",
              "    <tr>\n",
              "      <th>1</th>\n",
              "      <td>Etat</td>\n",
              "      <td>App sei nicht so angenommen worden wie geplant...</td>\n",
              "    </tr>\n",
              "  </tbody>\n",
              "</table>\n",
              "</div>"
            ],
            "text/plain": [
              "  label                                            content\n",
              "0  Etat  Die ARD-Tochter Degeto hat sich verpflichtet, ...\n",
              "1  Etat  App sei nicht so angenommen worden wie geplant..."
            ]
          },
          "metadata": {
            "tags": []
          },
          "execution_count": 66
        }
      ]
    },
    {
      "cell_type": "code",
      "metadata": {
        "id": "mpo2WbEvwRw8",
        "colab_type": "code",
        "colab": {}
      },
      "source": [
        "df = df.rename(columns={'content': 'text'})"
      ],
      "execution_count": 0,
      "outputs": []
    },
    {
      "cell_type": "markdown",
      "metadata": {
        "id": "0krKKkFJx6-5",
        "colab_type": "text"
      },
      "source": [
        "\n",
        "We are not going to use this dataframe, but are just loading it to get a sense of what our data looks like:"
      ]
    },
    {
      "cell_type": "code",
      "metadata": {
        "id": "r54Y3KLIx75o",
        "colab_type": "code",
        "outputId": "72d40cf7-0399-45de-be8f-e882f70cfe6e",
        "colab": {
          "base_uri": "https://localhost:8080/",
          "height": 203
        }
      },
      "source": [
        "df.head()"
      ],
      "execution_count": 68,
      "outputs": [
        {
          "output_type": "execute_result",
          "data": {
            "text/html": [
              "<div>\n",
              "<style scoped>\n",
              "    .dataframe tbody tr th:only-of-type {\n",
              "        vertical-align: middle;\n",
              "    }\n",
              "\n",
              "    .dataframe tbody tr th {\n",
              "        vertical-align: top;\n",
              "    }\n",
              "\n",
              "    .dataframe thead th {\n",
              "        text-align: right;\n",
              "    }\n",
              "</style>\n",
              "<table border=\"1\" class=\"dataframe\">\n",
              "  <thead>\n",
              "    <tr style=\"text-align: right;\">\n",
              "      <th></th>\n",
              "      <th>label</th>\n",
              "      <th>text</th>\n",
              "    </tr>\n",
              "  </thead>\n",
              "  <tbody>\n",
              "    <tr>\n",
              "      <th>0</th>\n",
              "      <td>Etat</td>\n",
              "      <td>Die ARD-Tochter Degeto hat sich verpflichtet, ...</td>\n",
              "    </tr>\n",
              "    <tr>\n",
              "      <th>1</th>\n",
              "      <td>Etat</td>\n",
              "      <td>App sei nicht so angenommen worden wie geplant...</td>\n",
              "    </tr>\n",
              "    <tr>\n",
              "      <th>2</th>\n",
              "      <td>Etat</td>\n",
              "      <td>'Zum Welttag der Suizidprävention ist es Zeit,...</td>\n",
              "    </tr>\n",
              "    <tr>\n",
              "      <th>3</th>\n",
              "      <td>Etat</td>\n",
              "      <td>Mitarbeiter überreichten Eigentümervertretern ...</td>\n",
              "    </tr>\n",
              "    <tr>\n",
              "      <th>4</th>\n",
              "      <td>Etat</td>\n",
              "      <td>Service: Jobwechsel in der Kommunikationsbranc...</td>\n",
              "    </tr>\n",
              "  </tbody>\n",
              "</table>\n",
              "</div>"
            ],
            "text/plain": [
              "  label                                               text\n",
              "0  Etat  Die ARD-Tochter Degeto hat sich verpflichtet, ...\n",
              "1  Etat  App sei nicht so angenommen worden wie geplant...\n",
              "2  Etat  'Zum Welttag der Suizidprävention ist es Zeit,...\n",
              "3  Etat  Mitarbeiter überreichten Eigentümervertretern ...\n",
              "4  Etat  Service: Jobwechsel in der Kommunikationsbranc..."
            ]
          },
          "metadata": {
            "tags": []
          },
          "execution_count": 68
        }
      ]
    },
    {
      "cell_type": "code",
      "metadata": {
        "id": "GdwSUgadvEtV",
        "colab_type": "code",
        "outputId": "9f9a94d6-d77e-4276-aa17-0bf41f9f0f69",
        "colab": {
          "base_uri": "https://localhost:8080/",
          "height": 34
        }
      },
      "source": [
        "df['label'].nunique()"
      ],
      "execution_count": 69,
      "outputs": [
        {
          "output_type": "execute_result",
          "data": {
            "text/plain": [
              "5"
            ]
          },
          "metadata": {
            "tags": []
          },
          "execution_count": 69
        }
      ]
    },
    {
      "cell_type": "code",
      "metadata": {
        "id": "IxEbQg0rvYbO",
        "colab_type": "code",
        "outputId": "02d2546a-d47f-4936-bbf4-51274332bcdd",
        "colab": {
          "base_uri": "https://localhost:8080/",
          "height": 34
        }
      },
      "source": [
        "df.label.unique()"
      ],
      "execution_count": 70,
      "outputs": [
        {
          "output_type": "execute_result",
          "data": {
            "text/plain": [
              "array(['Etat', 'Inland', 'International', 'Kultur', 'Panorama'], dtype=object)"
            ]
          },
          "metadata": {
            "tags": []
          },
          "execution_count": 70
        }
      ]
    },
    {
      "cell_type": "markdown",
      "metadata": {
        "id": "i4Gn1YsQv_uk",
        "colab_type": "text"
      },
      "source": [
        "# Add new column"
      ]
    },
    {
      "cell_type": "markdown",
      "metadata": {
        "id": "VMD-tmVywDgZ",
        "colab_type": "text"
      },
      "source": [
        "We add a new column that specifies the train and test rows. To do this, we first split the dataframe into two parts. After this step, the first part get the value \"true\" whearas the second part gets the value \"false\"."
      ]
    },
    {
      "cell_type": "code",
      "metadata": {
        "id": "cWdb3tBksNTJ",
        "colab_type": "code",
        "colab": {}
      },
      "source": [
        "train_df, test_df = train_test_split(df, test_size=0.2) # split dataframe into two parts"
      ],
      "execution_count": 0,
      "outputs": []
    },
    {
      "cell_type": "code",
      "metadata": {
        "id": "sW9R2Q6jsNOs",
        "colab_type": "code",
        "colab": {
          "base_uri": "https://localhost:8080/",
          "height": 203
        },
        "outputId": "e77cffca-09b5-430e-efd7-664cedb65267"
      },
      "source": [
        "train_df.head()"
      ],
      "execution_count": 72,
      "outputs": [
        {
          "output_type": "execute_result",
          "data": {
            "text/html": [
              "<div>\n",
              "<style scoped>\n",
              "    .dataframe tbody tr th:only-of-type {\n",
              "        vertical-align: middle;\n",
              "    }\n",
              "\n",
              "    .dataframe tbody tr th {\n",
              "        vertical-align: top;\n",
              "    }\n",
              "\n",
              "    .dataframe thead th {\n",
              "        text-align: right;\n",
              "    }\n",
              "</style>\n",
              "<table border=\"1\" class=\"dataframe\">\n",
              "  <thead>\n",
              "    <tr style=\"text-align: right;\">\n",
              "      <th></th>\n",
              "      <th>label</th>\n",
              "      <th>text</th>\n",
              "    </tr>\n",
              "  </thead>\n",
              "  <tbody>\n",
              "    <tr>\n",
              "      <th>1765</th>\n",
              "      <td>International</td>\n",
              "      <td>Bisher bekannte sich niemand zu Attentat. Kair...</td>\n",
              "    </tr>\n",
              "    <tr>\n",
              "      <th>1046</th>\n",
              "      <td>Inland</td>\n",
              "      <td>Ein antisemitisches Posting kostet die umstrit...</td>\n",
              "    </tr>\n",
              "    <tr>\n",
              "      <th>3582</th>\n",
              "      <td>Kultur</td>\n",
              "      <td>Bisherige Eigentümer erhalten im Tausch 35 Pro...</td>\n",
              "    </tr>\n",
              "    <tr>\n",
              "      <th>1952</th>\n",
              "      <td>International</td>\n",
              "      <td>\"Krieg der Republikaner\" über ihren Kandidaten...</td>\n",
              "    </tr>\n",
              "    <tr>\n",
              "      <th>247</th>\n",
              "      <td>Etat</td>\n",
              "      <td>War mehr als 40 Jahre Sportredakteur der \"Kron...</td>\n",
              "    </tr>\n",
              "  </tbody>\n",
              "</table>\n",
              "</div>"
            ],
            "text/plain": [
              "              label                                               text\n",
              "1765  International  Bisher bekannte sich niemand zu Attentat. Kair...\n",
              "1046         Inland  Ein antisemitisches Posting kostet die umstrit...\n",
              "3582         Kultur  Bisherige Eigentümer erhalten im Tausch 35 Pro...\n",
              "1952  International  \"Krieg der Republikaner\" über ihren Kandidaten...\n",
              "247            Etat  War mehr als 40 Jahre Sportredakteur der \"Kron..."
            ]
          },
          "metadata": {
            "tags": []
          },
          "execution_count": 72
        }
      ]
    },
    {
      "cell_type": "markdown",
      "metadata": {
        "id": "0nXh8Efdw2tH",
        "colab_type": "text"
      },
      "source": [
        "Check that each part contains all labels!!! "
      ]
    },
    {
      "cell_type": "code",
      "metadata": {
        "id": "TD-5Dt2UsLlI",
        "colab_type": "code",
        "colab": {
          "base_uri": "https://localhost:8080/",
          "height": 120
        },
        "outputId": "f192f188-7461-41ec-b7f8-c88ae640d809"
      },
      "source": [
        "train_df['label'].value_counts() # check if df contains all labels "
      ],
      "execution_count": 73,
      "outputs": [
        {
          "output_type": "execute_result",
          "data": {
            "text/plain": [
              "International    1218\n",
              "Inland            794\n",
              "Etat              542\n",
              "Kultur            430\n",
              "Panorama          216\n",
              "Name: label, dtype: int64"
            ]
          },
          "metadata": {
            "tags": []
          },
          "execution_count": 73
        }
      ]
    },
    {
      "cell_type": "code",
      "metadata": {
        "id": "R-1D2pdc80ny",
        "colab_type": "code",
        "colab": {
          "base_uri": "https://localhost:8080/",
          "height": 34
        },
        "outputId": "59b05a8e-e3c5-44f2-b04b-e561b33bebad"
      },
      "source": [
        "len(train_df)"
      ],
      "execution_count": 106,
      "outputs": [
        {
          "output_type": "execute_result",
          "data": {
            "text/plain": [
              "3200"
            ]
          },
          "metadata": {
            "tags": []
          },
          "execution_count": 106
        }
      ]
    },
    {
      "cell_type": "code",
      "metadata": {
        "id": "6tniOiUfxSW-",
        "colab_type": "code",
        "colab": {
          "base_uri": "https://localhost:8080/",
          "height": 34
        },
        "outputId": "2855fbce-3d82-47bf-de92-544a2bdd5bcb"
      },
      "source": [
        "len(train_df['label'].unique()) # number of unique labels"
      ],
      "execution_count": 74,
      "outputs": [
        {
          "output_type": "execute_result",
          "data": {
            "text/plain": [
              "5"
            ]
          },
          "metadata": {
            "tags": []
          },
          "execution_count": 74
        }
      ]
    },
    {
      "cell_type": "code",
      "metadata": {
        "id": "tNiwOhQ-tTxV",
        "colab_type": "code",
        "colab": {
          "base_uri": "https://localhost:8080/",
          "height": 120
        },
        "outputId": "a9329cc5-2ad5-4123-9184-a66bdbbce42d"
      },
      "source": [
        "test_df['label'].value_counts() # check if df contains all labels "
      ],
      "execution_count": 75,
      "outputs": [
        {
          "output_type": "execute_result",
          "data": {
            "text/plain": [
              "International    293\n",
              "Inland           221\n",
              "Etat             126\n",
              "Kultur           109\n",
              "Panorama          51\n",
              "Name: label, dtype: int64"
            ]
          },
          "metadata": {
            "tags": []
          },
          "execution_count": 75
        }
      ]
    },
    {
      "cell_type": "code",
      "metadata": {
        "id": "NDHWa80s87uj",
        "colab_type": "code",
        "colab": {
          "base_uri": "https://localhost:8080/",
          "height": 34
        },
        "outputId": "ca909fc4-1ae9-4ba5-90ef-fb28d17aa426"
      },
      "source": [
        "len(test_df)"
      ],
      "execution_count": 107,
      "outputs": [
        {
          "output_type": "execute_result",
          "data": {
            "text/plain": [
              "800"
            ]
          },
          "metadata": {
            "tags": []
          },
          "execution_count": 107
        }
      ]
    },
    {
      "cell_type": "code",
      "metadata": {
        "id": "KQep80zLtUDg",
        "colab_type": "code",
        "colab": {
          "base_uri": "https://localhost:8080/",
          "height": 34
        },
        "outputId": "917549c4-5f77-4e20-e08d-6bb144b6cbf0"
      },
      "source": [
        "len(test_df['label'].unique()) # number of unique labels"
      ],
      "execution_count": 76,
      "outputs": [
        {
          "output_type": "execute_result",
          "data": {
            "text/plain": [
              "5"
            ]
          },
          "metadata": {
            "tags": []
          },
          "execution_count": 76
        }
      ]
    },
    {
      "cell_type": "markdown",
      "metadata": {
        "id": "2ReSMSbF0-e-",
        "colab_type": "text"
      },
      "source": [
        "Expected: True\n",
        "\n",
        "We want all labels in each of the two dataframes!"
      ]
    },
    {
      "cell_type": "code",
      "metadata": {
        "id": "i0G1ma-x03o6",
        "colab_type": "code",
        "colab": {
          "base_uri": "https://localhost:8080/",
          "height": 34
        },
        "outputId": "c9a7bc33-49f1-49be-f149-1c8a791ba2e5"
      },
      "source": [
        "len(train_df['label'].unique())  == len(test_df['label'].unique()) "
      ],
      "execution_count": 77,
      "outputs": [
        {
          "output_type": "execute_result",
          "data": {
            "text/plain": [
              "True"
            ]
          },
          "metadata": {
            "tags": []
          },
          "execution_count": 77
        }
      ]
    },
    {
      "cell_type": "markdown",
      "metadata": {
        "id": "hriKGAoZzFBC",
        "colab_type": "text"
      },
      "source": [
        "Add new column to each dataframe specifying that this dataframe belongs either to the train or test set."
      ]
    },
    {
      "cell_type": "code",
      "metadata": {
        "id": "dv84ac36tT_s",
        "colab_type": "code",
        "colab": {
          "base_uri": "https://localhost:8080/",
          "height": 120
        },
        "outputId": "d1f25e40-e2b8-419e-bbf5-16d6992b7f52"
      },
      "source": [
        "train_df['is_valid']='True'   # add new column"
      ],
      "execution_count": 78,
      "outputs": [
        {
          "output_type": "stream",
          "text": [
            "/usr/local/lib/python3.6/dist-packages/ipykernel_launcher.py:1: SettingWithCopyWarning: \n",
            "A value is trying to be set on a copy of a slice from a DataFrame.\n",
            "Try using .loc[row_indexer,col_indexer] = value instead\n",
            "\n",
            "See the caveats in the documentation: http://pandas.pydata.org/pandas-docs/stable/user_guide/indexing.html#returning-a-view-versus-a-copy\n",
            "  \"\"\"Entry point for launching an IPython kernel.\n"
          ],
          "name": "stderr"
        }
      ]
    },
    {
      "cell_type": "code",
      "metadata": {
        "id": "ZRhGHEvCtTts",
        "colab_type": "code",
        "colab": {
          "base_uri": "https://localhost:8080/",
          "height": 120
        },
        "outputId": "ac1058ef-10f0-4888-b03a-55641b1663a3"
      },
      "source": [
        "test_df['is_valid']='False'   # add new column"
      ],
      "execution_count": 79,
      "outputs": [
        {
          "output_type": "stream",
          "text": [
            "/usr/local/lib/python3.6/dist-packages/ipykernel_launcher.py:1: SettingWithCopyWarning: \n",
            "A value is trying to be set on a copy of a slice from a DataFrame.\n",
            "Try using .loc[row_indexer,col_indexer] = value instead\n",
            "\n",
            "See the caveats in the documentation: http://pandas.pydata.org/pandas-docs/stable/user_guide/indexing.html#returning-a-view-versus-a-copy\n",
            "  \"\"\"Entry point for launching an IPython kernel.\n"
          ],
          "name": "stderr"
        }
      ]
    },
    {
      "cell_type": "code",
      "metadata": {
        "id": "-d-Oq2YftTqh",
        "colab_type": "code",
        "colab": {
          "base_uri": "https://localhost:8080/",
          "height": 203
        },
        "outputId": "bdd604bf-580a-4d2d-94b5-e7e079ab5b1c"
      },
      "source": [
        "test_df.head()"
      ],
      "execution_count": 80,
      "outputs": [
        {
          "output_type": "execute_result",
          "data": {
            "text/html": [
              "<div>\n",
              "<style scoped>\n",
              "    .dataframe tbody tr th:only-of-type {\n",
              "        vertical-align: middle;\n",
              "    }\n",
              "\n",
              "    .dataframe tbody tr th {\n",
              "        vertical-align: top;\n",
              "    }\n",
              "\n",
              "    .dataframe thead th {\n",
              "        text-align: right;\n",
              "    }\n",
              "</style>\n",
              "<table border=\"1\" class=\"dataframe\">\n",
              "  <thead>\n",
              "    <tr style=\"text-align: right;\">\n",
              "      <th></th>\n",
              "      <th>label</th>\n",
              "      <th>text</th>\n",
              "      <th>is_valid</th>\n",
              "    </tr>\n",
              "  </thead>\n",
              "  <tbody>\n",
              "    <tr>\n",
              "      <th>2022</th>\n",
              "      <td>International</td>\n",
              "      <td>Opfer der Hazara-Minderheit aufgereiht und get...</td>\n",
              "      <td>False</td>\n",
              "    </tr>\n",
              "    <tr>\n",
              "      <th>3339</th>\n",
              "      <td>Kultur</td>\n",
              "      <td>'Im Herbst 1990 kam \"Goodfellas\" in die Kinos....</td>\n",
              "      <td>False</td>\n",
              "    </tr>\n",
              "    <tr>\n",
              "      <th>1910</th>\n",
              "      <td>International</td>\n",
              "      <td>Präsidentschaftsbewerber gibt Vermögen mit zeh...</td>\n",
              "      <td>False</td>\n",
              "    </tr>\n",
              "    <tr>\n",
              "      <th>2499</th>\n",
              "      <td>International</td>\n",
              "      <td>Bericht über Vorbereitungen für Wahlkampagne 2...</td>\n",
              "      <td>False</td>\n",
              "    </tr>\n",
              "    <tr>\n",
              "      <th>2964</th>\n",
              "      <td>International</td>\n",
              "      <td>Partei könnte politischen Konflikt im Land wei...</td>\n",
              "      <td>False</td>\n",
              "    </tr>\n",
              "  </tbody>\n",
              "</table>\n",
              "</div>"
            ],
            "text/plain": [
              "              label                                               text is_valid\n",
              "2022  International  Opfer der Hazara-Minderheit aufgereiht und get...    False\n",
              "3339         Kultur  'Im Herbst 1990 kam \"Goodfellas\" in die Kinos....    False\n",
              "1910  International  Präsidentschaftsbewerber gibt Vermögen mit zeh...    False\n",
              "2499  International  Bericht über Vorbereitungen für Wahlkampagne 2...    False\n",
              "2964  International  Partei könnte politischen Konflikt im Land wei...    False"
            ]
          },
          "metadata": {
            "tags": []
          },
          "execution_count": 80
        }
      ]
    },
    {
      "cell_type": "code",
      "metadata": {
        "id": "4GFBOH50tTm5",
        "colab_type": "code",
        "colab": {}
      },
      "source": [
        "frames=[train_df, test_df]"
      ],
      "execution_count": 0,
      "outputs": []
    },
    {
      "cell_type": "code",
      "metadata": {
        "id": "T-447v041ZYa",
        "colab_type": "code",
        "colab": {}
      },
      "source": [
        "df=pd.concat(frames)"
      ],
      "execution_count": 0,
      "outputs": []
    },
    {
      "cell_type": "code",
      "metadata": {
        "id": "TSORDMsHtTiS",
        "colab_type": "code",
        "colab": {
          "base_uri": "https://localhost:8080/",
          "height": 203
        },
        "outputId": "e8cdebb7-c781-4296-a7c0-c5416bbc13b3"
      },
      "source": [
        "df.head()"
      ],
      "execution_count": 83,
      "outputs": [
        {
          "output_type": "execute_result",
          "data": {
            "text/html": [
              "<div>\n",
              "<style scoped>\n",
              "    .dataframe tbody tr th:only-of-type {\n",
              "        vertical-align: middle;\n",
              "    }\n",
              "\n",
              "    .dataframe tbody tr th {\n",
              "        vertical-align: top;\n",
              "    }\n",
              "\n",
              "    .dataframe thead th {\n",
              "        text-align: right;\n",
              "    }\n",
              "</style>\n",
              "<table border=\"1\" class=\"dataframe\">\n",
              "  <thead>\n",
              "    <tr style=\"text-align: right;\">\n",
              "      <th></th>\n",
              "      <th>label</th>\n",
              "      <th>text</th>\n",
              "      <th>is_valid</th>\n",
              "    </tr>\n",
              "  </thead>\n",
              "  <tbody>\n",
              "    <tr>\n",
              "      <th>1765</th>\n",
              "      <td>International</td>\n",
              "      <td>Bisher bekannte sich niemand zu Attentat. Kair...</td>\n",
              "      <td>True</td>\n",
              "    </tr>\n",
              "    <tr>\n",
              "      <th>1046</th>\n",
              "      <td>Inland</td>\n",
              "      <td>Ein antisemitisches Posting kostet die umstrit...</td>\n",
              "      <td>True</td>\n",
              "    </tr>\n",
              "    <tr>\n",
              "      <th>3582</th>\n",
              "      <td>Kultur</td>\n",
              "      <td>Bisherige Eigentümer erhalten im Tausch 35 Pro...</td>\n",
              "      <td>True</td>\n",
              "    </tr>\n",
              "    <tr>\n",
              "      <th>1952</th>\n",
              "      <td>International</td>\n",
              "      <td>\"Krieg der Republikaner\" über ihren Kandidaten...</td>\n",
              "      <td>True</td>\n",
              "    </tr>\n",
              "    <tr>\n",
              "      <th>247</th>\n",
              "      <td>Etat</td>\n",
              "      <td>War mehr als 40 Jahre Sportredakteur der \"Kron...</td>\n",
              "      <td>True</td>\n",
              "    </tr>\n",
              "  </tbody>\n",
              "</table>\n",
              "</div>"
            ],
            "text/plain": [
              "              label                                               text is_valid\n",
              "1765  International  Bisher bekannte sich niemand zu Attentat. Kair...     True\n",
              "1046         Inland  Ein antisemitisches Posting kostet die umstrit...     True\n",
              "3582         Kultur  Bisherige Eigentümer erhalten im Tausch 35 Pro...     True\n",
              "1952  International  \"Krieg der Republikaner\" über ihren Kandidaten...     True\n",
              "247            Etat  War mehr als 40 Jahre Sportredakteur der \"Kron...     True"
            ]
          },
          "metadata": {
            "tags": []
          },
          "execution_count": 83
        }
      ]
    },
    {
      "cell_type": "markdown",
      "metadata": {
        "id": "10hghqFkCeZE",
        "colab_type": "text"
      },
      "source": [
        "### Add column\n",
        "\n",
        "In case we need a column that speciefies the split ratio. Not sure if we realy need it, yet!"
      ]
    },
    {
      "cell_type": "code",
      "metadata": {
        "id": "PykGvrxO7o_5",
        "colab_type": "code",
        "colab": {}
      },
      "source": [
        "# df['is_valid']='False'"
      ],
      "execution_count": 0,
      "outputs": []
    },
    {
      "cell_type": "code",
      "metadata": {
        "id": "wFEmBdT278vs",
        "colab_type": "code",
        "colab": {}
      },
      "source": [
        "# len(df)"
      ],
      "execution_count": 0,
      "outputs": []
    },
    {
      "cell_type": "code",
      "metadata": {
        "id": "qViNQN8g-CmS",
        "colab_type": "code",
        "colab": {}
      },
      "source": [
        "# ratio = 0.3 # split ratio within the new column is_valid\n",
        "\n",
        "# ratio_1=round(len(df) * ratio)\n",
        "# ratio_2=len(df) - ratio_1\n",
        "\n",
        "# print('Total length: ', len(df))\n",
        "# print('First ratio: ', ratio_1 )\n",
        "# print('Second ratio: ', ratio_2 )"
      ],
      "execution_count": 0,
      "outputs": []
    },
    {
      "cell_type": "code",
      "metadata": {
        "id": "XDaSERuV-lPX",
        "colab_type": "code",
        "colab": {}
      },
      "source": [
        "# ratio_1 + ratio_2 == len(df)"
      ],
      "execution_count": 0,
      "outputs": []
    },
    {
      "cell_type": "code",
      "metadata": {
        "id": "42u3QDna_vGN",
        "colab_type": "code",
        "colab": {}
      },
      "source": [
        "# df.loc[0:ratio_1, 'is_valid'] = 'True'  # replace value in column"
      ],
      "execution_count": 0,
      "outputs": []
    },
    {
      "cell_type": "markdown",
      "metadata": {
        "id": "8da8AcHZ1gO8",
        "colab_type": "text"
      },
      "source": [
        "## Save data"
      ]
    },
    {
      "cell_type": "code",
      "metadata": {
        "id": "QAmVFqsczrXv",
        "colab_type": "code",
        "colab": {}
      },
      "source": [
        "df.to_csv(path  + 'texts.csv', sep=',', encoding='utf-8', index=False) # save data to csv"
      ],
      "execution_count": 0,
      "outputs": []
    },
    {
      "cell_type": "code",
      "metadata": {
        "id": "Xc_Oe1yoYI7H",
        "colab_type": "code",
        "colab": {}
      },
      "source": [
        "fields = ['label', 'text'] # only read these columns in the next step"
      ],
      "execution_count": 0,
      "outputs": []
    },
    {
      "cell_type": "code",
      "metadata": {
        "id": "JLehw3wV0qoI",
        "colab_type": "code",
        "outputId": "63e30614-5ef6-4486-bd82-e34b5d958642",
        "colab": {
          "base_uri": "https://localhost:8080/",
          "height": 203
        }
      },
      "source": [
        "df = pd.read_csv(path + 'texts.csv', sep=',', usecols=fields ) # quick check: read csv\n",
        "df.head()"
      ],
      "execution_count": 91,
      "outputs": [
        {
          "output_type": "execute_result",
          "data": {
            "text/html": [
              "<div>\n",
              "<style scoped>\n",
              "    .dataframe tbody tr th:only-of-type {\n",
              "        vertical-align: middle;\n",
              "    }\n",
              "\n",
              "    .dataframe tbody tr th {\n",
              "        vertical-align: top;\n",
              "    }\n",
              "\n",
              "    .dataframe thead th {\n",
              "        text-align: right;\n",
              "    }\n",
              "</style>\n",
              "<table border=\"1\" class=\"dataframe\">\n",
              "  <thead>\n",
              "    <tr style=\"text-align: right;\">\n",
              "      <th></th>\n",
              "      <th>label</th>\n",
              "      <th>text</th>\n",
              "    </tr>\n",
              "  </thead>\n",
              "  <tbody>\n",
              "    <tr>\n",
              "      <th>0</th>\n",
              "      <td>International</td>\n",
              "      <td>Bisher bekannte sich niemand zu Attentat. Kair...</td>\n",
              "    </tr>\n",
              "    <tr>\n",
              "      <th>1</th>\n",
              "      <td>Inland</td>\n",
              "      <td>Ein antisemitisches Posting kostet die umstrit...</td>\n",
              "    </tr>\n",
              "    <tr>\n",
              "      <th>2</th>\n",
              "      <td>Kultur</td>\n",
              "      <td>Bisherige Eigentümer erhalten im Tausch 35 Pro...</td>\n",
              "    </tr>\n",
              "    <tr>\n",
              "      <th>3</th>\n",
              "      <td>International</td>\n",
              "      <td>\"Krieg der Republikaner\" über ihren Kandidaten...</td>\n",
              "    </tr>\n",
              "    <tr>\n",
              "      <th>4</th>\n",
              "      <td>Etat</td>\n",
              "      <td>War mehr als 40 Jahre Sportredakteur der \"Kron...</td>\n",
              "    </tr>\n",
              "  </tbody>\n",
              "</table>\n",
              "</div>"
            ],
            "text/plain": [
              "           label                                               text\n",
              "0  International  Bisher bekannte sich niemand zu Attentat. Kair...\n",
              "1         Inland  Ein antisemitisches Posting kostet die umstrit...\n",
              "2         Kultur  Bisherige Eigentümer erhalten im Tausch 35 Pro...\n",
              "3  International  \"Krieg der Republikaner\" über ihren Kandidaten...\n",
              "4           Etat  War mehr als 40 Jahre Sportredakteur der \"Kron..."
            ]
          },
          "metadata": {
            "tags": []
          },
          "execution_count": 91
        }
      ]
    },
    {
      "cell_type": "markdown",
      "metadata": {
        "id": "WPl5QM2vZlna",
        "colab_type": "text"
      },
      "source": [
        "## Split data"
      ]
    },
    {
      "cell_type": "markdown",
      "metadata": {
        "id": "pxQ788KYWIfS",
        "colab_type": "text"
      },
      "source": [
        "Try to avoid this: “your validation data contains a label that isn’t present in your training set”.\n",
        "\n",
        "This is going to be a problem since when you validate your model, it can’t really predict efficiently something it has never seen before.\n",
        "\n",
        "- [Link to forum](https://forums.fast.ai/t/tabulardatabunch-error-your-validation-data-contains-a-label-that-isnt-present-in-the-training-set-please-fix-your-data/33410)"
      ]
    },
    {
      "cell_type": "code",
      "metadata": {
        "id": "J-8htnycIWDk",
        "colab_type": "code",
        "colab": {}
      },
      "source": [
        "classes = df['label'].unique()\n",
        "classes.sort()"
      ],
      "execution_count": 0,
      "outputs": []
    },
    {
      "cell_type": "code",
      "metadata": {
        "id": "n5r7j8iaXTkH",
        "colab_type": "code",
        "outputId": "534a71a3-b85b-4932-fa78-08f2df538bd9",
        "colab": {
          "base_uri": "https://localhost:8080/",
          "height": 34
        }
      },
      "source": [
        "classes"
      ],
      "execution_count": 93,
      "outputs": [
        {
          "output_type": "execute_result",
          "data": {
            "text/plain": [
              "array(['Etat', 'Inland', 'International', 'Kultur', 'Panorama'], dtype=object)"
            ]
          },
          "metadata": {
            "tags": []
          },
          "execution_count": 93
        }
      ]
    },
    {
      "cell_type": "markdown",
      "metadata": {
        "id": "TtdzGTQrxYXI",
        "colab_type": "text"
      },
      "source": [
        "We will be using TextList from the fastai library:"
      ]
    },
    {
      "cell_type": "code",
      "metadata": {
        "id": "WuBi_JkNxelc",
        "colab_type": "code",
        "outputId": "ef0084f0-c9f3-4a0e-c765-b52c08dd1641",
        "colab": {
          "base_uri": "https://localhost:8080/",
          "height": 17
        }
      },
      "source": [
        "article_reviews = (TextList.from_csv(path, 'texts.csv', cols='text')\n",
        "                         .split_from_df(col=2)\n",
        "                         .label_from_df(cols=0, classes=classes))"
      ],
      "execution_count": 94,
      "outputs": [
        {
          "output_type": "display_data",
          "data": {
            "text/html": [
              ""
            ],
            "text/plain": [
              "<IPython.core.display.HTML object>"
            ]
          },
          "metadata": {
            "tags": []
          }
        },
        {
          "output_type": "display_data",
          "data": {
            "text/html": [
              ""
            ],
            "text/plain": [
              "<IPython.core.display.HTML object>"
            ]
          },
          "metadata": {
            "tags": []
          }
        }
      ]
    },
    {
      "cell_type": "code",
      "metadata": {
        "id": "wuCDTYEgU00m",
        "colab_type": "code",
        "outputId": "abfeea7a-f0f8-4e5a-f268-31169dae794e",
        "colab": {
          "base_uri": "https://localhost:8080/",
          "height": 34
        }
      },
      "source": [
        "len(article_reviews.classes)"
      ],
      "execution_count": 95,
      "outputs": [
        {
          "output_type": "execute_result",
          "data": {
            "text/plain": [
              "5"
            ]
          },
          "metadata": {
            "tags": []
          },
          "execution_count": 95
        }
      ]
    },
    {
      "cell_type": "markdown",
      "metadata": {
        "id": "qNvmYUBSHSAC",
        "colab_type": "text"
      },
      "source": [
        "## Exploring what our data looks like"
      ]
    },
    {
      "cell_type": "code",
      "metadata": {
        "id": "fIZFvGHc6XaU",
        "colab_type": "code",
        "outputId": "7ba11a9b-ea39-47a8-b12a-70dcceb1fd38",
        "colab": {
          "base_uri": "https://localhost:8080/",
          "height": 71
        }
      },
      "source": [
        "article_reviews.valid.x[0], article_reviews.valid.y[0]"
      ],
      "execution_count": 96,
      "outputs": [
        {
          "output_type": "execute_result",
          "data": {
            "text/plain": [
              "(Text xxbos xxmaj bisher bekannte sich niemand zu xxmaj attentat . xxmaj kairo – xxmaj bei einem xxmaj xxunk auf einen xxmaj bus der ägyptischen xxmaj sicherheitskräfte sind mindestens drei xxmaj polizisten getötet und weitere 33 verletzt worden . xxmaj der xxmaj sprengsatz sei am xxmaj montag in der xxmaj früh i m xxmaj norden des xxmaj landes xxunk , teilte das xxmaj innenministerium mit . xxmaj zu dem xxmaj anschlag hat sich bisher niemand bekannt . xxmaj seit dem xxmaj sturz des islamistischen xxmaj präsidenten xxmaj mohammed xxmaj xxunk 2013 sowie der xxmaj verurteilung xxmaj xxunk seiner xxmaj anhänger zum xxmaj xxunk kommt es in xxmaj ägypten immer wieder zu xxmaj anschlägen . xxmaj seit xxmaj ende xxmaj juni hat sich die xxmaj situation verschärft . xxmaj bei mehreren xxmaj angriffen – unter anderem i m xxunk xxmaj norden der xxmaj sinai - xxmaj halbinsel – und xxmaj xxunk in xxmaj kairo starben viele xxmaj soldaten und xxmaj polizisten . xxmaj erst am xxmaj donnerstag waren 29 xxmaj menschen bei der xxmaj explosion nahe eines xxmaj xxunk der xxmaj sicherheitskräfte verwundet worden . xxmaj zudem war kürzlich ein xxmaj xxunk i m xxmaj xxunk der xxmaj hauptstadt entführt und angeblich xxunk worden . xxmaj zu dieser und den meisten anderen xxmaj taten bekannte sich der ägyptische xxmaj ableger der xxunk xxunk xxmaj organisation xxmaj islamischer xxmaj staat ( xxup is ) .,\n",
              " Category International)"
            ]
          },
          "metadata": {
            "tags": []
          },
          "execution_count": 96
        }
      ]
    },
    {
      "cell_type": "markdown",
      "metadata": {
        "id": "ujTThTr2crYn",
        "colab_type": "text"
      },
      "source": [
        "Here, the tokens mostly correspond to words or punctuation, as well as several special tokens, corresponding to unknown words, capitalization, etc.\n",
        "\n",
        "All those tokens starting with \"xx\" are fastai special tokens. You can see the list of all of them and their meanings ([in the fastai docs](https://docs.fast.ai/text.transform.html)):\n",
        "\n",
        "The rules are all listed below, here is the meaning of the special tokens:\n",
        "\n",
        "- UNK (xxunk) is for an unknown word (one that isn't present in the current vocabulary)\n",
        "- PAD (xxpad) is the token used for padding, if we need to regroup several texts of different lengths in a batch\n",
        "- BOS (xxbos) represents the beginning of a text in your dataset\n",
        "- FLD (xxfld) is used if you set mark_fields=True in your TokenizeProcessor to separate the different fields of texts (if your texts are loaded from several columns in a dataframe)\n",
        "- TK_MAJ (xxmaj) is used to indicate the next word begins with a capital in the original text\n",
        "- TK_UP (xxup) is used to indicate the next word is written in all caps in the original text\n",
        "- TK_REP (xxrep) is used to indicate the next character is repeated n times in the original text (usage xxrep n {char})\n",
        "- TK_WREP(xxwrep) is used to indicate the next word is repeated n times in the original text (usage xxwrep n {word})"
      ]
    },
    {
      "cell_type": "code",
      "metadata": {
        "id": "yQs7zgdRHeK_",
        "colab_type": "code",
        "outputId": "07c18dd9-b814-412e-a80d-a7f985c113ef",
        "colab": {
          "base_uri": "https://localhost:8080/",
          "height": 34
        }
      },
      "source": [
        "len(article_reviews.train.x), len(article_reviews.valid.x)"
      ],
      "execution_count": 97,
      "outputs": [
        {
          "output_type": "execute_result",
          "data": {
            "text/plain": [
              "(800, 3200)"
            ]
          },
          "metadata": {
            "tags": []
          },
          "execution_count": 97
        }
      ]
    },
    {
      "cell_type": "markdown",
      "metadata": {
        "id": "kB9uvQzCeTiL",
        "colab_type": "text"
      },
      "source": [
        "Notice that ints-to-string and string-to-ints have different lengths.\n",
        "\n",
        "Reason:\n",
        "Several words can have the same index. For example all unknown (xxunk) words (words that only appear once). Additionally, many times a word is used multiple times, but this word will always have only one integer."
      ]
    },
    {
      "cell_type": "code",
      "metadata": {
        "id": "8PeKUEv6eL_l",
        "colab_type": "code",
        "outputId": "1534b20c-9543-4ce4-9efe-6ed89e8b3b38",
        "colab": {
          "base_uri": "https://localhost:8080/",
          "height": 34
        }
      },
      "source": [
        "len(article_reviews.vocab.itos), len(article_reviews.vocab.stoi)\n"
      ],
      "execution_count": 98,
      "outputs": [
        {
          "output_type": "execute_result",
          "data": {
            "text/plain": [
              "(11080, 109814)"
            ]
          },
          "metadata": {
            "tags": []
          },
          "execution_count": 98
        }
      ]
    },
    {
      "cell_type": "code",
      "metadata": {
        "id": "MDExYhNdeYVn",
        "colab_type": "code",
        "outputId": "1a1ae769-528b-4429-d656-b46f380b08c8",
        "colab": {
          "base_uri": "https://localhost:8080/",
          "height": 34
        }
      },
      "source": [
        "pos = article_reviews.vocab.stoi['gleichstellung']  # string to int\n",
        "pos"
      ],
      "execution_count": 99,
      "outputs": [
        {
          "output_type": "execute_result",
          "data": {
            "text/plain": [
              "6448"
            ]
          },
          "metadata": {
            "tags": []
          },
          "execution_count": 99
        }
      ]
    },
    {
      "cell_type": "code",
      "metadata": {
        "id": "VJg3LI7fek_p",
        "colab_type": "code",
        "outputId": "63196a3a-ba2a-4df4-a0c2-c5e9943f9e95",
        "colab": {
          "base_uri": "https://localhost:8080/",
          "height": 34
        }
      },
      "source": [
        "article_reviews.vocab.itos[pos]  # int to string"
      ],
      "execution_count": 100,
      "outputs": [
        {
          "output_type": "execute_result",
          "data": {
            "text/plain": [
              "'gleichstellung'"
            ]
          },
          "metadata": {
            "tags": []
          },
          "execution_count": 100
        }
      ]
    },
    {
      "cell_type": "markdown",
      "metadata": {
        "id": "d3VUURFAjGo7",
        "colab_type": "text"
      },
      "source": [
        "int to str is a list:"
      ]
    },
    {
      "cell_type": "code",
      "metadata": {
        "id": "ldKi7-LMezgy",
        "colab_type": "code",
        "outputId": "1d67ba68-54fa-4bda-8fca-7b55b14bbcbd",
        "colab": {
          "base_uri": "https://localhost:8080/",
          "height": 360
        }
      },
      "source": [
        "article_reviews.vocab.itos[0:20]  # most often used stings"
      ],
      "execution_count": 101,
      "outputs": [
        {
          "output_type": "execute_result",
          "data": {
            "text/plain": [
              "['xxunk',\n",
              " 'xxpad',\n",
              " 'xxbos',\n",
              " 'xxeos',\n",
              " 'xxfld',\n",
              " 'xxmaj',\n",
              " 'xxup',\n",
              " 'xxrep',\n",
              " 'xxwrep',\n",
              " '.',\n",
              " ',',\n",
              " 'die',\n",
              " 'der',\n",
              " 'und',\n",
              " 'in',\n",
              " '-',\n",
              " 'das',\n",
              " 'den',\n",
              " 'von',\n",
              " 'zu']"
            ]
          },
          "metadata": {
            "tags": []
          },
          "execution_count": 101
        }
      ]
    },
    {
      "cell_type": "markdown",
      "metadata": {
        "id": "w7lsKs2li889",
        "colab_type": "text"
      },
      "source": [
        "string to int is a dictonary:"
      ]
    },
    {
      "cell_type": "code",
      "metadata": {
        "id": "qca4qtjdfIw5",
        "colab_type": "code",
        "colab": {}
      },
      "source": [
        "# article_reviews.vocab.stoi  "
      ],
      "execution_count": 0,
      "outputs": []
    },
    {
      "cell_type": "markdown",
      "metadata": {
        "id": "Ov4QS6kAis1t",
        "colab_type": "text"
      },
      "source": [
        "Let's test that a non-word maps to xxunk:"
      ]
    },
    {
      "cell_type": "code",
      "metadata": {
        "id": "_AyRpe4Ugh3j",
        "colab_type": "code",
        "outputId": "9d48c56f-6351-4c51-e6ac-b332d2b6dc4c",
        "colab": {
          "base_uri": "https://localhost:8080/",
          "height": 34
        }
      },
      "source": [
        "article_reviews.vocab.itos[article_reviews.vocab.stoi['Poolitik']]\n"
      ],
      "execution_count": 103,
      "outputs": [
        {
          "output_type": "execute_result",
          "data": {
            "text/plain": [
              "'xxunk'"
            ]
          },
          "metadata": {
            "tags": []
          },
          "execution_count": 103
        }
      ]
    },
    {
      "cell_type": "markdown",
      "metadata": {
        "id": "52YA6tuxj-rQ",
        "colab_type": "text"
      },
      "source": [
        "## Creating our term-document matrix\n",
        "\n",
        "As  covered in the second and third lesson, a term-document matrix represents a document as a \"bag of words\". That means it doesn't keep track of the order the words are in, just which words occur (and how often).\n",
        "\n",
        "You can use sklearn's CountVectorizer (as in previous lessons) or you can create our own (similar) version. This is for two reasons:\n",
        "\n",
        "- to understand what sklearn is doing underneath the hood\n",
        "- to create something that will work with a fastai TextList\n",
        "To create our term-document matrix, we first need to learn about counters and sparse matrices."
      ]
    },
    {
      "cell_type": "markdown",
      "metadata": {
        "id": "XTvBZpp3kshS",
        "colab_type": "text"
      },
      "source": [
        "### Counters\n",
        "Here is how they work:"
      ]
    },
    {
      "cell_type": "code",
      "metadata": {
        "id": "6xbue2ldiy_s",
        "colab_type": "code",
        "colab": {}
      },
      "source": [
        "c = Counter([4,2,8,8,4,8])\n"
      ],
      "execution_count": 0,
      "outputs": []
    },
    {
      "cell_type": "code",
      "metadata": {
        "id": "DkLi2ULsk0Nw",
        "colab_type": "code",
        "outputId": "cf670304-e0ee-407f-fb70-7fec5c94aa16",
        "colab": {
          "base_uri": "https://localhost:8080/",
          "height": 34
        }
      },
      "source": [
        "c"
      ],
      "execution_count": 0,
      "outputs": [
        {
          "output_type": "execute_result",
          "data": {
            "text/plain": [
              "Counter({2: 1, 4: 2, 8: 3})"
            ]
          },
          "metadata": {
            "tags": []
          },
          "execution_count": 767
        }
      ]
    },
    {
      "cell_type": "code",
      "metadata": {
        "id": "X6q_Exzvk3Es",
        "colab_type": "code",
        "outputId": "143ff5b5-fdb4-49d7-b396-6df51cb6fcda",
        "colab": {
          "base_uri": "https://localhost:8080/",
          "height": 34
        }
      },
      "source": [
        "c.values()\n"
      ],
      "execution_count": 0,
      "outputs": [
        {
          "output_type": "execute_result",
          "data": {
            "text/plain": [
              "dict_values([2, 1, 3])"
            ]
          },
          "metadata": {
            "tags": []
          },
          "execution_count": 768
        }
      ]
    },
    {
      "cell_type": "code",
      "metadata": {
        "id": "5K2HCIQxk8gJ",
        "colab_type": "code",
        "outputId": "664f4516-8c91-4d68-e541-48b88da48f8c",
        "colab": {
          "base_uri": "https://localhost:8080/",
          "height": 34
        }
      },
      "source": [
        "c.keys()\n"
      ],
      "execution_count": 0,
      "outputs": [
        {
          "output_type": "execute_result",
          "data": {
            "text/plain": [
              "dict_keys([4, 2, 8])"
            ]
          },
          "metadata": {
            "tags": []
          },
          "execution_count": 769
        }
      ]
    },
    {
      "cell_type": "markdown",
      "metadata": {
        "id": "aVHKRC-OlL58",
        "colab_type": "text"
      },
      "source": [
        "### Sparse Matricies\n",
        "\n",
        "Even though we've reduced the number of words, we still have a lot! Most tokens don't appear in most reviews. We want to take advantage of this by storing our data as a sparse matrix.\n",
        "\n",
        "A matrix with lots of zeros is called sparse (the opposite of sparse is dense). For sparse matrices, you can save a lot of memory by only storing the non-zero values.\n",
        "\n",
        "There are the most common sparse storage formats:\n",
        "\n",
        "- coordinate-wise (scipy calls COO)\n",
        "- compressed sparse row (CSR)\n",
        "- compressed sparse column (CSC)\n",
        "\n",
        "- [Here are examples](http://www.mathcs.emory.edu/~cheung/Courses/561/Syllabus/3-C/sparse.html)\n",
        "- [Good explanation](https://youtu.be/hp2ipC5pW4I?t=1575)\n",
        "\n",
        "\n",
        "A class of matrices (e.g, diagonal) is generally called sparse if the number of non-zero elements is proportional to the number of rows (or columns) instead of being proportional to the product rows x columns.\n",
        "\n",
        "**Scipy Implementation**\n",
        "\n",
        "From the Scipy Sparse Matrix Documentation\n",
        "\n",
        "- To construct a matrix efficiently, use either dok_matrix or lil_matrix. The lil_matrix class supports basic slicing and fancy indexing with a similar syntax to NumPy arrays. As illustrated below, the COO format may also be used to efficiently construct matrices\n",
        "- To perform manipulations such as multiplication or inversion, first convert the matrix to either CSC or CSR format.\n",
        "- All conversions among the CSR, CSC, and COO formats are efficient, linear-time operations."
      ]
    },
    {
      "cell_type": "markdown",
      "metadata": {
        "id": "YmRE63qtooml",
        "colab_type": "text"
      },
      "source": [
        "# Our version of CountVectorizer"
      ]
    },
    {
      "cell_type": "code",
      "metadata": {
        "id": "todRcgSFk_mt",
        "colab_type": "code",
        "outputId": "971e76f1-23d8-4a9f-c827-4f9c757de7be",
        "colab": {
          "base_uri": "https://localhost:8080/",
          "height": 1000
        }
      },
      "source": [
        "Counter((article_reviews.valid.x)[0].data)\n"
      ],
      "execution_count": 0,
      "outputs": [
        {
          "output_type": "execute_result",
          "data": {
            "text/plain": [
              "Counter({0: 17,\n",
              "         2: 1,\n",
              "         5: 57,\n",
              "         6: 2,\n",
              "         9: 7,\n",
              "         10: 9,\n",
              "         11: 9,\n",
              "         12: 6,\n",
              "         13: 2,\n",
              "         14: 2,\n",
              "         15: 4,\n",
              "         16: 1,\n",
              "         18: 4,\n",
              "         19: 2,\n",
              "         20: 1,\n",
              "         21: 2,\n",
              "         22: 2,\n",
              "         27: 1,\n",
              "         28: 1,\n",
              "         29: 2,\n",
              "         32: 1,\n",
              "         35: 2,\n",
              "         39: 1,\n",
              "         40: 1,\n",
              "         43: 2,\n",
              "         44: 1,\n",
              "         47: 1,\n",
              "         48: 1,\n",
              "         49: 1,\n",
              "         50: 1,\n",
              "         53: 1,\n",
              "         56: 1,\n",
              "         67: 1,\n",
              "         69: 1,\n",
              "         73: 1,\n",
              "         75: 1,\n",
              "         77: 2,\n",
              "         83: 1,\n",
              "         94: 2,\n",
              "         96: 3,\n",
              "         114: 1,\n",
              "         120: 2,\n",
              "         125: 1,\n",
              "         143: 2,\n",
              "         151: 1,\n",
              "         154: 1,\n",
              "         181: 1,\n",
              "         194: 1,\n",
              "         195: 1,\n",
              "         234: 1,\n",
              "         267: 1,\n",
              "         291: 1,\n",
              "         333: 1,\n",
              "         405: 1,\n",
              "         440: 1,\n",
              "         580: 1,\n",
              "         586: 1,\n",
              "         617: 1,\n",
              "         622: 1,\n",
              "         644: 2,\n",
              "         652: 1,\n",
              "         672: 1,\n",
              "         735: 1,\n",
              "         795: 2,\n",
              "         806: 2,\n",
              "         846: 1,\n",
              "         866: 1,\n",
              "         936: 1,\n",
              "         1007: 1,\n",
              "         1107: 1,\n",
              "         1393: 1,\n",
              "         1443: 1,\n",
              "         1463: 4,\n",
              "         1499: 1,\n",
              "         1627: 1,\n",
              "         2124: 1,\n",
              "         2147: 1,\n",
              "         2412: 1,\n",
              "         2872: 1,\n",
              "         2911: 1,\n",
              "         3185: 1,\n",
              "         3287: 1,\n",
              "         3579: 1,\n",
              "         3653: 1,\n",
              "         3695: 2,\n",
              "         4139: 1,\n",
              "         4523: 1,\n",
              "         5181: 1,\n",
              "         5654: 1,\n",
              "         6227: 2,\n",
              "         6376: 2,\n",
              "         6441: 1,\n",
              "         10512: 1,\n",
              "         11081: 1,\n",
              "         12935: 1,\n",
              "         17503: 1,\n",
              "         21293: 1})"
            ]
          },
          "metadata": {
            "tags": []
          },
          "execution_count": 771
        }
      ]
    },
    {
      "cell_type": "code",
      "metadata": {
        "id": "2A1bg9M1rA23",
        "colab_type": "code",
        "outputId": "680cce4b-2c7a-430f-ee52-afd59342c3fe",
        "colab": {
          "base_uri": "https://localhost:8080/",
          "height": 34
        }
      },
      "source": [
        "# Look at first article: we get a list of integers which are representing the article\n",
        "(article_reviews.valid.x)[0].data"
      ],
      "execution_count": 0,
      "outputs": [
        {
          "output_type": "execute_result",
          "data": {
            "text/plain": [
              "array([   2,    5,   11,    6, ...,   22,    5, 4139,    9])"
            ]
          },
          "metadata": {
            "tags": []
          },
          "execution_count": 773
        }
      ]
    },
    {
      "cell_type": "code",
      "metadata": {
        "id": "D6BEslmCswyQ",
        "colab_type": "code",
        "outputId": "3d4ecea4-7586-45c7-f336-68d292a50270",
        "colab": {
          "base_uri": "https://localhost:8080/",
          "height": 1000
        }
      },
      "source": [
        "# Apply counter on the article\n",
        "Counter((article_reviews.valid.x)[0].data)"
      ],
      "execution_count": 0,
      "outputs": [
        {
          "output_type": "execute_result",
          "data": {
            "text/plain": [
              "Counter({0: 17,\n",
              "         2: 1,\n",
              "         5: 57,\n",
              "         6: 2,\n",
              "         9: 7,\n",
              "         10: 9,\n",
              "         11: 9,\n",
              "         12: 6,\n",
              "         13: 2,\n",
              "         14: 2,\n",
              "         15: 4,\n",
              "         16: 1,\n",
              "         18: 4,\n",
              "         19: 2,\n",
              "         20: 1,\n",
              "         21: 2,\n",
              "         22: 2,\n",
              "         27: 1,\n",
              "         28: 1,\n",
              "         29: 2,\n",
              "         32: 1,\n",
              "         35: 2,\n",
              "         39: 1,\n",
              "         40: 1,\n",
              "         43: 2,\n",
              "         44: 1,\n",
              "         47: 1,\n",
              "         48: 1,\n",
              "         49: 1,\n",
              "         50: 1,\n",
              "         53: 1,\n",
              "         56: 1,\n",
              "         67: 1,\n",
              "         69: 1,\n",
              "         73: 1,\n",
              "         75: 1,\n",
              "         77: 2,\n",
              "         83: 1,\n",
              "         94: 2,\n",
              "         96: 3,\n",
              "         114: 1,\n",
              "         120: 2,\n",
              "         125: 1,\n",
              "         143: 2,\n",
              "         151: 1,\n",
              "         154: 1,\n",
              "         181: 1,\n",
              "         194: 1,\n",
              "         195: 1,\n",
              "         234: 1,\n",
              "         267: 1,\n",
              "         291: 1,\n",
              "         333: 1,\n",
              "         405: 1,\n",
              "         440: 1,\n",
              "         580: 1,\n",
              "         586: 1,\n",
              "         617: 1,\n",
              "         622: 1,\n",
              "         644: 2,\n",
              "         652: 1,\n",
              "         672: 1,\n",
              "         735: 1,\n",
              "         795: 2,\n",
              "         806: 2,\n",
              "         846: 1,\n",
              "         866: 1,\n",
              "         936: 1,\n",
              "         1007: 1,\n",
              "         1107: 1,\n",
              "         1393: 1,\n",
              "         1443: 1,\n",
              "         1463: 4,\n",
              "         1499: 1,\n",
              "         1627: 1,\n",
              "         2124: 1,\n",
              "         2147: 1,\n",
              "         2412: 1,\n",
              "         2872: 1,\n",
              "         2911: 1,\n",
              "         3185: 1,\n",
              "         3287: 1,\n",
              "         3579: 1,\n",
              "         3653: 1,\n",
              "         3695: 2,\n",
              "         4139: 1,\n",
              "         4523: 1,\n",
              "         5181: 1,\n",
              "         5654: 1,\n",
              "         6227: 2,\n",
              "         6376: 2,\n",
              "         6441: 1,\n",
              "         10512: 1,\n",
              "         11081: 1,\n",
              "         12935: 1,\n",
              "         17503: 1,\n",
              "         21293: 1})"
            ]
          },
          "metadata": {
            "tags": []
          },
          "execution_count": 783
        }
      ]
    },
    {
      "cell_type": "code",
      "metadata": {
        "id": "YHri4z6crtPJ",
        "colab_type": "code",
        "outputId": "7bcbc317-832a-4458-c735-c686aecad1f1",
        "colab": {
          "base_uri": "https://localhost:8080/",
          "height": 34
        }
      },
      "source": [
        "# check what value the number is represeting:\n",
        "article_reviews.vocab.itos[11]"
      ],
      "execution_count": 0,
      "outputs": [
        {
          "output_type": "execute_result",
          "data": {
            "text/plain": [
              "'die'"
            ]
          },
          "metadata": {
            "tags": []
          },
          "execution_count": 781
        }
      ]
    },
    {
      "cell_type": "code",
      "metadata": {
        "id": "E35g5qHkq099",
        "colab_type": "code",
        "outputId": "76b58657-8181-453d-8b3f-90179c365728",
        "colab": {
          "base_uri": "https://localhost:8080/",
          "height": 54
        }
      },
      "source": [
        "# Look at first article:\n",
        "(article_reviews.valid.x)[0]"
      ],
      "execution_count": 0,
      "outputs": [
        {
          "output_type": "execute_result",
          "data": {
            "text/plain": [
              "Text xxbos xxmaj die xxup ard - xxmaj tochter xxmaj xxunk hat sich verpflichtet , ab xxmaj august einer xxmaj xxunk zu folgen , die für die xxmaj gleichstellung von xxmaj xxunk sorgen soll . xxmaj in mindestens 20 xxmaj prozent der xxmaj filme , die die xxup ard - xxmaj tochter xxmaj xxunk produziert oder xxunk , sollen ab xxmaj mitte xxmaj august xxmaj frauen xxmaj regie führen . xxmaj xxunk - xxmaj chefin xxmaj christine xxmaj strobl folgt mit dieser xxmaj xxunk der xxmaj forderung von xxmaj pro xxmaj quote xxmaj regie . xxmaj die xxmaj vereinigung von xxmaj xxunk hatte i m vergangenen xxmaj jahr eine xxmaj xxunk gefordert , um den weiblichen xxmaj xxunk mehr xxmaj gehör und ökonomische xxmaj gleichstellung zu verschaffen . xxmaj pro xxmaj quote xxmaj regie kritisiert , dass , während rund 50 xxmaj prozent der xxmaj regie - xxmaj studierenden xxunk seien , der xxmaj anteil der xxmaj xxunk bei xxmaj xxunk nur bei 13 bis 15 xxmaj prozent liege . xxmaj in xxmaj österreich sieht die xxmaj situation ähnlich aus , auch hier wird von unterschiedlichen xxmaj seiten xxmaj handlungsbedarf xxunk . xxmaj aber wie soll dieser aussehen ? xxmaj ist die xxmaj einführung der xxmaj xxunk auch für die österreichische xxmaj xxunk und xxmaj xxunk sinnvoll ? xxmaj diskutieren xxmaj sie i m xxmaj forum ."
            ]
          },
          "metadata": {
            "tags": []
          },
          "execution_count": 774
        }
      ]
    },
    {
      "cell_type": "markdown",
      "metadata": {
        "id": "s4laS-Yotmcu",
        "colab_type": "text"
      },
      "source": [
        "Construct the term-doc-martix:\n",
        "\n",
        "Detailed [explanation:](https://youtu.be/hp2ipC5pW4I?t=2688)"
      ]
    },
    {
      "cell_type": "code",
      "metadata": {
        "id": "3zVk_1E1omd8",
        "colab_type": "code",
        "colab": {}
      },
      "source": [
        "def get_term_doc_matrix(label_list, vocab_len):\n",
        "    j_indices = []\n",
        "    indptr = []\n",
        "    values = []\n",
        "    indptr.append(0)\n",
        "\n",
        "    for i, doc in enumerate(label_list):\n",
        "        feature_counter = Counter(doc.data)\n",
        "        j_indices.extend(feature_counter.keys())\n",
        "        values.extend(feature_counter.values())\n",
        "        indptr.append(len(j_indices))\n",
        "        \n",
        "#     return (values, j_indices, indptr)\n",
        "\n",
        "    return scipy.sparse.csr_matrix((values, j_indices, indptr),\n",
        "                                   shape=(len(indptr) - 1, vocab_len),\n",
        "                                   dtype=int)"
      ],
      "execution_count": 0,
      "outputs": []
    },
    {
      "cell_type": "code",
      "metadata": {
        "id": "6WR_osOeuI2i",
        "colab_type": "code",
        "outputId": "2b76defe-68de-48bc-de61-72850ed9d17c",
        "colab": {
          "base_uri": "https://localhost:8080/",
          "height": 51
        }
      },
      "source": [
        "%%time\n",
        "val_term_doc = get_term_doc_matrix(article_reviews.valid.x, len(article_reviews.vocab.itos))"
      ],
      "execution_count": 0,
      "outputs": [
        {
          "output_type": "stream",
          "text": [
            "CPU times: user 370 ms, sys: 13 ms, total: 383 ms\n",
            "Wall time: 365 ms\n"
          ],
          "name": "stdout"
        }
      ]
    },
    {
      "cell_type": "code",
      "metadata": {
        "id": "ry0R4K63uNK0",
        "colab_type": "code",
        "outputId": "4500b26d-7cf8-4f68-98b9-3947ce49c3e1",
        "colab": {
          "base_uri": "https://localhost:8080/",
          "height": 51
        }
      },
      "source": [
        "%%time\n",
        "trn_term_doc = get_term_doc_matrix(article_reviews.train.x, len(article_reviews.vocab.itos))"
      ],
      "execution_count": 0,
      "outputs": [
        {
          "output_type": "stream",
          "text": [
            "CPU times: user 809 ms, sys: 41.3 ms, total: 850 ms\n",
            "Wall time: 805 ms\n"
          ],
          "name": "stdout"
        }
      ]
    },
    {
      "cell_type": "code",
      "metadata": {
        "id": "C1SQknaKuQI-",
        "colab_type": "code",
        "outputId": "39d6f639-7637-4b03-b2c0-87fbca93029f",
        "colab": {
          "base_uri": "https://localhost:8080/",
          "height": 34
        }
      },
      "source": [
        "trn_term_doc.shape"
      ],
      "execution_count": 0,
      "outputs": [
        {
          "output_type": "execute_result",
          "data": {
            "text/plain": [
              "(2799, 27032)"
            ]
          },
          "metadata": {
            "tags": []
          },
          "execution_count": 787
        }
      ]
    },
    {
      "cell_type": "code",
      "metadata": {
        "id": "5QmnsYUjuTDT",
        "colab_type": "code",
        "outputId": "fc26bffc-0266-48d1-d32a-8fc856b11a47",
        "colab": {
          "base_uri": "https://localhost:8080/",
          "height": 51
        }
      },
      "source": [
        "# show m x n matrix\n",
        "trn_term_doc[:10,:10]"
      ],
      "execution_count": 0,
      "outputs": [
        {
          "output_type": "execute_result",
          "data": {
            "text/plain": [
              "<10x10 sparse matrix of type '<class 'numpy.int64'>'\n",
              "\twith 50 stored elements in Compressed Sparse Row format>"
            ]
          },
          "metadata": {
            "tags": []
          },
          "execution_count": 792
        }
      ]
    },
    {
      "cell_type": "code",
      "metadata": {
        "id": "yxwRer8iuV0e",
        "colab_type": "code",
        "outputId": "92575888-7ac5-43a6-cddb-ee80d8a81929",
        "colab": {
          "base_uri": "https://localhost:8080/",
          "height": 34
        }
      },
      "source": [
        "val_term_doc.shape"
      ],
      "execution_count": 0,
      "outputs": [
        {
          "output_type": "execute_result",
          "data": {
            "text/plain": [
              "(1201, 27032)"
            ]
          },
          "metadata": {
            "tags": []
          },
          "execution_count": 789
        }
      ]
    },
    {
      "cell_type": "code",
      "metadata": {
        "id": "RBF1Fyq6ugyD",
        "colab_type": "code",
        "colab": {}
      },
      "source": [
        ""
      ],
      "execution_count": 0,
      "outputs": []
    }
  ]
}