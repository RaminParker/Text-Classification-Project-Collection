{
  "nbformat": 4,
  "nbformat_minor": 0,
  "metadata": {
    "colab": {
      "name": "text classification movie reviews.ipynb",
      "provenance": [],
      "authorship_tag": "ABX9TyM1nWkVd7dT9ruvgEtSnKz+",
      "include_colab_link": true
    },
    "kernelspec": {
      "name": "python3",
      "display_name": "Python 3"
    }
  },
  "cells": [
    {
      "cell_type": "markdown",
      "metadata": {
        "id": "view-in-github",
        "colab_type": "text"
      },
      "source": [
        "<a href=\"https://colab.research.google.com/github/RaminParker/Text-Classification-with-German-dataset/blob/master/text_classification_movie_reviews.ipynb\" target=\"_parent\"><img src=\"https://colab.research.google.com/assets/colab-badge.svg\" alt=\"Open In Colab\"/></a>"
      ]
    },
    {
      "cell_type": "code",
      "metadata": {
        "id": "B5qftmIJ5Gfq",
        "colab_type": "code",
        "colab": {}
      },
      "source": [
        "from fastai import *\n",
        "from fastai.text import *\n",
        "import pandas as pd\n",
        "import numpy as np\n",
        "\n",
        "from sklearn.model_selection import train_test_split\n",
        "from sklearn.feature_extraction.text import CountVectorizer"
      ],
      "execution_count": 0,
      "outputs": []
    },
    {
      "cell_type": "code",
      "metadata": {
        "id": "dL8FF5Df5LQv",
        "colab_type": "code",
        "outputId": "2a1b274f-ab87-4f53-b291-18c67e6d7945",
        "colab": {
          "base_uri": "https://localhost:8080/",
          "height": 35
        }
      },
      "source": [
        "path = untar_data(URLs.IMDB)\n",
        "path"
      ],
      "execution_count": 89,
      "outputs": [
        {
          "output_type": "execute_result",
          "data": {
            "text/plain": [
              "PosixPath('/root/.fastai/data/imdb')"
            ]
          },
          "metadata": {
            "tags": []
          },
          "execution_count": 89
        }
      ]
    },
    {
      "cell_type": "code",
      "metadata": {
        "id": "IC6Y5ghS-F7r",
        "colab_type": "code",
        "outputId": "2d8310cd-5eef-423a-afab-402cf3c553a6",
        "colab": {
          "base_uri": "https://localhost:8080/",
          "height": 35
        }
      },
      "source": [
        "path = untar_data(URLs.IMDB_SAMPLE)\n",
        "path"
      ],
      "execution_count": 90,
      "outputs": [
        {
          "output_type": "execute_result",
          "data": {
            "text/plain": [
              "PosixPath('/root/.fastai/data/imdb_sample')"
            ]
          },
          "metadata": {
            "tags": []
          },
          "execution_count": 90
        }
      ]
    },
    {
      "cell_type": "code",
      "metadata": {
        "id": "Nt3hsSLt6Aq_",
        "colab_type": "code",
        "outputId": "0e58bcea-46fc-4fbb-e70f-74a230bd759a",
        "colab": {
          "base_uri": "https://localhost:8080/",
          "height": 198
        }
      },
      "source": [
        "df = pd.read_csv(path/'texts.csv')\n",
        "df.head()"
      ],
      "execution_count": 91,
      "outputs": [
        {
          "output_type": "execute_result",
          "data": {
            "text/html": [
              "<div>\n",
              "<style scoped>\n",
              "    .dataframe tbody tr th:only-of-type {\n",
              "        vertical-align: middle;\n",
              "    }\n",
              "\n",
              "    .dataframe tbody tr th {\n",
              "        vertical-align: top;\n",
              "    }\n",
              "\n",
              "    .dataframe thead th {\n",
              "        text-align: right;\n",
              "    }\n",
              "</style>\n",
              "<table border=\"1\" class=\"dataframe\">\n",
              "  <thead>\n",
              "    <tr style=\"text-align: right;\">\n",
              "      <th></th>\n",
              "      <th>label</th>\n",
              "      <th>text</th>\n",
              "      <th>is_valid</th>\n",
              "    </tr>\n",
              "  </thead>\n",
              "  <tbody>\n",
              "    <tr>\n",
              "      <th>0</th>\n",
              "      <td>negative</td>\n",
              "      <td>Un-bleeping-believable! Meg Ryan doesn't even ...</td>\n",
              "      <td>False</td>\n",
              "    </tr>\n",
              "    <tr>\n",
              "      <th>1</th>\n",
              "      <td>positive</td>\n",
              "      <td>This is a extremely well-made film. The acting...</td>\n",
              "      <td>False</td>\n",
              "    </tr>\n",
              "    <tr>\n",
              "      <th>2</th>\n",
              "      <td>negative</td>\n",
              "      <td>Every once in a long while a movie will come a...</td>\n",
              "      <td>False</td>\n",
              "    </tr>\n",
              "    <tr>\n",
              "      <th>3</th>\n",
              "      <td>positive</td>\n",
              "      <td>Name just says it all. I watched this movie wi...</td>\n",
              "      <td>False</td>\n",
              "    </tr>\n",
              "    <tr>\n",
              "      <th>4</th>\n",
              "      <td>negative</td>\n",
              "      <td>This movie succeeds at being one of the most u...</td>\n",
              "      <td>False</td>\n",
              "    </tr>\n",
              "  </tbody>\n",
              "</table>\n",
              "</div>"
            ],
            "text/plain": [
              "      label                                               text  is_valid\n",
              "0  negative  Un-bleeping-believable! Meg Ryan doesn't even ...     False\n",
              "1  positive  This is a extremely well-made film. The acting...     False\n",
              "2  negative  Every once in a long while a movie will come a...     False\n",
              "3  positive  Name just says it all. I watched this movie wi...     False\n",
              "4  negative  This movie succeeds at being one of the most u...     False"
            ]
          },
          "metadata": {
            "tags": []
          },
          "execution_count": 91
        }
      ]
    },
    {
      "cell_type": "markdown",
      "metadata": {
        "id": "SViXR0odzZdy",
        "colab_type": "text"
      },
      "source": [
        "# Preproceesing German language"
      ]
    },
    {
      "cell_type": "markdown",
      "metadata": {
        "id": "EhP5gkTfzdVX",
        "colab_type": "text"
      },
      "source": [
        "[Common pitfalls with the preprocessing of German text for NLP 🇩🇪](https://medium.com/idealo-tech-blog/common-pitfalls-with-the-preprocessing-of-german-text-for-nlp-3cfb8dc19ebe)\n",
        "\n",
        "[Handling German Text with torchtext](https://www.innoq.com/en/blog/handling-german-text-with-torchtext/)\n",
        "\n",
        "[German NLP Github](https://github.com/adbar/German-NLP#Tokenization)\n",
        "\n",
        "See also topic clustering by me --> Emails"
      ]
    },
    {
      "cell_type": "markdown",
      "metadata": {
        "id": "Rcqr4YI7UxY6",
        "colab_type": "text"
      },
      "source": [
        "# Get data into correct shape"
      ]
    },
    {
      "cell_type": "code",
      "metadata": {
        "id": "1DwxJD45_cVQ",
        "colab_type": "code",
        "colab": {}
      },
      "source": [
        "x=df[['text']]\n",
        "y=df[['label']]"
      ],
      "execution_count": 0,
      "outputs": []
    },
    {
      "cell_type": "code",
      "metadata": {
        "id": "qhiNtOy2MSA7",
        "colab_type": "code",
        "colab": {}
      },
      "source": [
        "# x.head(2)"
      ],
      "execution_count": 0,
      "outputs": []
    },
    {
      "cell_type": "code",
      "metadata": {
        "id": "KVdHehbtMUr5",
        "colab_type": "code",
        "colab": {}
      },
      "source": [
        "# y.head(2)"
      ],
      "execution_count": 0,
      "outputs": []
    },
    {
      "cell_type": "code",
      "metadata": {
        "id": "23NBuAcF_HO6",
        "colab_type": "code",
        "colab": {}
      },
      "source": [
        "# split data\n",
        "trn, val, trn_y,val_y = train_test_split(x, y, test_size = 0.2, random_state = 0) "
      ],
      "execution_count": 0,
      "outputs": []
    },
    {
      "cell_type": "code",
      "metadata": {
        "id": "6PQQ-bEWAFHT",
        "colab_type": "code",
        "colab": {}
      },
      "source": [
        "trn.reset_index(drop=True, inplace=True)\n",
        "val.reset_index(drop=True, inplace=True)\n",
        "trn_y.reset_index(drop=True, inplace=True)\n",
        "val_y.reset_index(drop=True, inplace=True)"
      ],
      "execution_count": 0,
      "outputs": []
    },
    {
      "cell_type": "code",
      "metadata": {
        "id": "CBVy8Bs7AFj7",
        "colab_type": "code",
        "outputId": "c7794b5c-4051-449e-ea31-1e9b1441bbd5",
        "colab": {
          "base_uri": "https://localhost:8080/",
          "height": 108
        }
      },
      "source": [
        "trn.head(2) "
      ],
      "execution_count": 97,
      "outputs": [
        {
          "output_type": "execute_result",
          "data": {
            "text/html": [
              "<div>\n",
              "<style scoped>\n",
              "    .dataframe tbody tr th:only-of-type {\n",
              "        vertical-align: middle;\n",
              "    }\n",
              "\n",
              "    .dataframe tbody tr th {\n",
              "        vertical-align: top;\n",
              "    }\n",
              "\n",
              "    .dataframe thead th {\n",
              "        text-align: right;\n",
              "    }\n",
              "</style>\n",
              "<table border=\"1\" class=\"dataframe\">\n",
              "  <thead>\n",
              "    <tr style=\"text-align: right;\">\n",
              "      <th></th>\n",
              "      <th>text</th>\n",
              "    </tr>\n",
              "  </thead>\n",
              "  <tbody>\n",
              "    <tr>\n",
              "      <th>0</th>\n",
              "      <td>I ordered this extremely rare and highly overr...</td>\n",
              "    </tr>\n",
              "    <tr>\n",
              "      <th>1</th>\n",
              "      <td>If you liked the Grinch movie... go watch that...</td>\n",
              "    </tr>\n",
              "  </tbody>\n",
              "</table>\n",
              "</div>"
            ],
            "text/plain": [
              "                                                text\n",
              "0  I ordered this extremely rare and highly overr...\n",
              "1  If you liked the Grinch movie... go watch that..."
            ]
          },
          "metadata": {
            "tags": []
          },
          "execution_count": 97
        }
      ]
    },
    {
      "cell_type": "code",
      "metadata": {
        "id": "vSgY0hOMK749",
        "colab_type": "code",
        "outputId": "2647fa92-30bd-4856-fd04-513de5800529",
        "colab": {
          "base_uri": "https://localhost:8080/",
          "height": 55
        }
      },
      "source": [
        "trn['text'][0]"
      ],
      "execution_count": 98,
      "outputs": [
        {
          "output_type": "execute_result",
          "data": {
            "text/plain": [
              "\"I ordered this extremely rare and highly overrated movie on ebay with very high expectations. I think I paid about 50$ for this movie. As an eternal fan of horror, from cheesy 80s American slashers to European zombie films, I told myself this was going to be great! I can't tell you how wrong I was. First of all, I thought it was gonna be pretty much gorier than it actually is. After all I've had heard about this film, I was almost scared to watch it. The murders are boring. The acting... forget it, there's no acting! The story, even if we don't care, is incredibly bad. It seems they tried to get your attention with some weird sexual scenes and naked girls, but unfortunately in this case it doesn't help the movie. Why? There's no atmosphere, and this is the worst thing about this flick. It's just bad film-making from point A to B. Though it's extremely funny and amusing to watch with your friends and a lot of beers, don't make any effort to get your hands on it. There are so many movies in this world, don't waste your time watching Necro Files!\""
            ]
          },
          "metadata": {
            "tags": []
          },
          "execution_count": 98
        }
      ]
    },
    {
      "cell_type": "code",
      "metadata": {
        "id": "Jee-FxzFLTIQ",
        "colab_type": "code",
        "outputId": "7852bd23-ce40-4a23-eb21-128020d7fbbd",
        "colab": {
          "base_uri": "https://localhost:8080/",
          "height": 35
        }
      },
      "source": [
        "trn_y['label'][0]"
      ],
      "execution_count": 99,
      "outputs": [
        {
          "output_type": "execute_result",
          "data": {
            "text/plain": [
              "'negative'"
            ]
          },
          "metadata": {
            "tags": []
          },
          "execution_count": 99
        }
      ]
    },
    {
      "cell_type": "markdown",
      "metadata": {
        "id": "OZnZXGVFVLuh",
        "colab_type": "text"
      },
      "source": [
        "# Get data into correct shape II (alternative to I)"
      ]
    },
    {
      "cell_type": "markdown",
      "metadata": {
        "id": "-BhDU3JzVXK-",
        "colab_type": "text"
      },
      "source": [
        "https://gist.github.com/manisnesan/cf010a8f078c18a128c2e357ec535753#file-copy-of-lesson3-imdb-ipynb"
      ]
    },
    {
      "cell_type": "code",
      "metadata": {
        "id": "Ga1E0_Zmr8fj",
        "colab_type": "code",
        "colab": {}
      },
      "source": [
        ""
      ],
      "execution_count": 0,
      "outputs": []
    },
    {
      "cell_type": "code",
      "metadata": {
        "id": "mVJVeV0mr8QE",
        "colab_type": "code",
        "colab": {}
      },
      "source": [
        ""
      ],
      "execution_count": 0,
      "outputs": []
    },
    {
      "cell_type": "markdown",
      "metadata": {
        "id": "hfVb57RKeq0N",
        "colab_type": "text"
      },
      "source": [
        "# Create matrix"
      ]
    },
    {
      "cell_type": "markdown",
      "metadata": {
        "id": "mS_vH7bcewFO",
        "colab_type": "text"
      },
      "source": [
        "CountVectorizer converts a collection of text documents to a matrix of token counts (part of sklearn.feature_extraction.text). \n",
        "\n",
        "Link: [CountVectorizer](https://scikit-learn.org/stable/modules/generated/sklearn.feature_extraction.text.CountVectorizer.html)\n",
        "\n",
        "Link: [very simple term-doc-matrix](https://youtu.be/37sFIak42Sc?t=4011)\n",
        "\n",
        "Therefore we have to turn our data into a bag-of-words representation."
      ]
    },
    {
      "cell_type": "code",
      "metadata": {
        "id": "OtaqzXy9evKI",
        "colab_type": "code",
        "colab": {}
      },
      "source": [
        "veczr = CountVectorizer(tokenizer=None, stop_words=None, max_features=None, vocabulary=None) "
      ],
      "execution_count": 0,
      "outputs": []
    },
    {
      "cell_type": "markdown",
      "metadata": {
        "id": "7fFKYOVJ6sr_",
        "colab_type": "text"
      },
      "source": [
        "\n",
        "fit_transform(trn) finds the vocabulary in the training set. It also transforms the training set into a term-document matrix. Since we have to apply the same transformation to your validation set, the second line uses just the method transform(val). trn_term_doc and val_term_doc are sparse matrices. trn_term_doc[i] represents training document i and it contains a count of words for each document for each word in the vocabulary."
      ]
    },
    {
      "cell_type": "code",
      "metadata": {
        "id": "zPhhrnXi4N03",
        "colab_type": "code",
        "colab": {}
      },
      "source": [
        "# create term-doc-matrix based on training set\n",
        "trn_term_doc = veczr.fit_transform(trn['text']) "
      ],
      "execution_count": 0,
      "outputs": []
    },
    {
      "cell_type": "code",
      "metadata": {
        "id": "9MCZyxdB68Oz",
        "colab_type": "code",
        "colab": {}
      },
      "source": [
        "# use the previously fitted model ( previously fitted vocabulary). Use same vocabulary to create bag of words for validation set\n",
        "val_term_doc = veczr.transform(val['text']) "
      ],
      "execution_count": 0,
      "outputs": []
    },
    {
      "cell_type": "code",
      "metadata": {
        "id": "tXgcjImC7Ki-",
        "colab_type": "code",
        "outputId": "c7fdeadb-e93f-43a7-df45-cb935d52a2db",
        "colab": {
          "base_uri": "https://localhost:8080/",
          "height": 54
        }
      },
      "source": [
        "trn_term_doc  # a x b matrix: \"a\" rows (number of docs) and \"b\" columns (number of words)"
      ],
      "execution_count": 103,
      "outputs": [
        {
          "output_type": "execute_result",
          "data": {
            "text/plain": [
              "<800x16597 sparse matrix of type '<class 'numpy.int64'>'\n",
              "\twith 116168 stored elements in Compressed Sparse Row format>"
            ]
          },
          "metadata": {
            "tags": []
          },
          "execution_count": 103
        }
      ]
    },
    {
      "cell_type": "code",
      "metadata": {
        "id": "7v8tnn6E8Zdp",
        "colab_type": "code",
        "outputId": "8519bf90-db8c-4405-d4cc-74c4f75798ec",
        "colab": {
          "base_uri": "https://localhost:8080/",
          "height": 54
        }
      },
      "source": [
        "trn_term_doc[0] # first document. You can see how many words are actually used and how many columns we have for this. Most are zero."
      ],
      "execution_count": 104,
      "outputs": [
        {
          "output_type": "execute_result",
          "data": {
            "text/plain": [
              "<1x16597 sparse matrix of type '<class 'numpy.int64'>'\n",
              "\twith 125 stored elements in Compressed Sparse Row format>"
            ]
          },
          "metadata": {
            "tags": []
          },
          "execution_count": 104
        }
      ]
    },
    {
      "cell_type": "code",
      "metadata": {
        "id": "JPswnLwy9qbu",
        "colab_type": "code",
        "outputId": "0f84adaf-8a1c-4fcb-da33-785c9edbddcb",
        "colab": {
          "base_uri": "https://localhost:8080/",
          "height": 35
        }
      },
      "source": [
        "vocab = veczr.get_feature_names(); vocab[5000:5005]"
      ],
      "execution_count": 105,
      "outputs": [
        {
          "output_type": "execute_result",
          "data": {
            "text/plain": [
              "['enlightenment', 'enlists', 'enlivened', 'ennio', 'enormous']"
            ]
          },
          "metadata": {
            "tags": []
          },
          "execution_count": 105
        }
      ]
    },
    {
      "cell_type": "code",
      "metadata": {
        "id": "KKz21NTL-ITW",
        "colab_type": "code",
        "outputId": "310d2b2a-4572-4dc9-8398-3070a6a9bb73",
        "colab": {
          "base_uri": "https://localhost:8080/",
          "height": 1000
        }
      },
      "source": [
        "w0 = set([o.lower() for o in trn['text'][0].split(' ')]); w0 # get all lower case words and split on space"
      ],
      "execution_count": 106,
      "outputs": [
        {
          "output_type": "execute_result",
          "data": {
            "text/plain": [
              "{'50$',\n",
              " '80s',\n",
              " 'a',\n",
              " 'about',\n",
              " 'acting!',\n",
              " 'acting...',\n",
              " 'actually',\n",
              " 'after',\n",
              " 'all',\n",
              " 'all,',\n",
              " 'almost',\n",
              " 'american',\n",
              " 'amusing',\n",
              " 'an',\n",
              " 'and',\n",
              " 'any',\n",
              " 'are',\n",
              " 'as',\n",
              " 'atmosphere,',\n",
              " 'attention',\n",
              " 'b.',\n",
              " 'bad',\n",
              " 'bad.',\n",
              " 'be',\n",
              " 'beers,',\n",
              " 'boring.',\n",
              " 'but',\n",
              " \"can't\",\n",
              " 'care,',\n",
              " 'case',\n",
              " 'cheesy',\n",
              " \"doesn't\",\n",
              " \"don't\",\n",
              " 'ebay',\n",
              " 'effort',\n",
              " 'eternal',\n",
              " 'european',\n",
              " 'even',\n",
              " 'expectations.',\n",
              " 'extremely',\n",
              " 'fan',\n",
              " 'files!',\n",
              " 'film,',\n",
              " 'film-making',\n",
              " 'films,',\n",
              " 'first',\n",
              " 'flick.',\n",
              " 'for',\n",
              " 'forget',\n",
              " 'friends',\n",
              " 'from',\n",
              " 'funny',\n",
              " 'get',\n",
              " 'girls,',\n",
              " 'going',\n",
              " 'gonna',\n",
              " 'gorier',\n",
              " 'great!',\n",
              " 'had',\n",
              " 'hands',\n",
              " 'heard',\n",
              " 'help',\n",
              " 'high',\n",
              " 'highly',\n",
              " 'horror,',\n",
              " 'how',\n",
              " 'i',\n",
              " \"i've\",\n",
              " 'if',\n",
              " 'in',\n",
              " 'incredibly',\n",
              " 'is',\n",
              " 'is.',\n",
              " 'it',\n",
              " \"it's\",\n",
              " 'it,',\n",
              " 'it.',\n",
              " 'just',\n",
              " 'lot',\n",
              " 'make',\n",
              " 'many',\n",
              " 'movie',\n",
              " 'movie.',\n",
              " 'movies',\n",
              " 'much',\n",
              " 'murders',\n",
              " 'myself',\n",
              " 'naked',\n",
              " 'necro',\n",
              " 'no',\n",
              " 'of',\n",
              " 'on',\n",
              " 'ordered',\n",
              " 'overrated',\n",
              " 'paid',\n",
              " 'point',\n",
              " 'pretty',\n",
              " 'rare',\n",
              " 'scared',\n",
              " 'scenes',\n",
              " 'seems',\n",
              " 'sexual',\n",
              " 'slashers',\n",
              " 'so',\n",
              " 'some',\n",
              " 'story,',\n",
              " 'tell',\n",
              " 'than',\n",
              " 'the',\n",
              " 'there',\n",
              " \"there's\",\n",
              " 'they',\n",
              " 'thing',\n",
              " 'think',\n",
              " 'this',\n",
              " 'though',\n",
              " 'thought',\n",
              " 'time',\n",
              " 'to',\n",
              " 'told',\n",
              " 'tried',\n",
              " 'unfortunately',\n",
              " 'very',\n",
              " 'was',\n",
              " 'was.',\n",
              " 'waste',\n",
              " 'watch',\n",
              " 'watching',\n",
              " 'we',\n",
              " 'weird',\n",
              " 'why?',\n",
              " 'with',\n",
              " 'world,',\n",
              " 'worst',\n",
              " 'wrong',\n",
              " 'you',\n",
              " 'your',\n",
              " 'zombie'}"
            ]
          },
          "metadata": {
            "tags": []
          },
          "execution_count": 106
        }
      ]
    },
    {
      "cell_type": "code",
      "metadata": {
        "id": "1kthQz-H-qrB",
        "colab_type": "code",
        "outputId": "72d42855-84d5-4296-aea0-8bbb6b2197f3",
        "colab": {
          "base_uri": "https://localhost:8080/",
          "height": 35
        }
      },
      "source": [
        "len(w0)"
      ],
      "execution_count": 107,
      "outputs": [
        {
          "output_type": "execute_result",
          "data": {
            "text/plain": [
              "138"
            ]
          },
          "metadata": {
            "tags": []
          },
          "execution_count": 107
        }
      ]
    },
    {
      "cell_type": "code",
      "metadata": {
        "id": "h8anp4zT-gdE",
        "colab_type": "code",
        "colab": {}
      },
      "source": [
        "w2i=veczr.vocabulary_['unfortunately'] # word to integer"
      ],
      "execution_count": 0,
      "outputs": []
    },
    {
      "cell_type": "code",
      "metadata": {
        "id": "IBPgwGWz_8EH",
        "colab_type": "code",
        "outputId": "c7ecf893-d926-49c2-d7da-ab1f6eb534c9",
        "colab": {
          "base_uri": "https://localhost:8080/",
          "height": 35
        }
      },
      "source": [
        "trn_term_doc[0,w2i] # number of times this word appears"
      ],
      "execution_count": 109,
      "outputs": [
        {
          "output_type": "execute_result",
          "data": {
            "text/plain": [
              "1"
            ]
          },
          "metadata": {
            "tags": []
          },
          "execution_count": 109
        }
      ]
    },
    {
      "cell_type": "markdown",
      "metadata": {
        "id": "uwovj_88AsM6",
        "colab_type": "text"
      },
      "source": [
        "# Naive Bayes\n",
        "We define the log-count ratio $r$ for each feature (word) $f$:\n",
        "\n",
        "$r = \\log \\frac{\\text{ratio of feature $f$ in positive documents}}{\\text{ratio of feature $f$ in negative documents}}$\n",
        "\n",
        "where ratio of feature $f$ in positive documents is the number of times a positive document has a feature divided by the number of positive documents.\n",
        "\n",
        "[Details click here](https://youtu.be/37sFIak42Sc?t=4648)\n",
        "\n",
        "[Excel Tabelle](https://github.com/fastai/fastai/blob/master/courses/ml1/excel/naivebayes.xlsx)"
      ]
    },
    {
      "cell_type": "code",
      "metadata": {
        "id": "mMIxosVlNGMM",
        "colab_type": "code",
        "colab": {
          "base_uri": "https://localhost:8080/",
          "height": 407
        },
        "outputId": "9e829151-4b5a-449f-9735-e32ea7ff89e9"
      },
      "source": [
        "x"
      ],
      "execution_count": 110,
      "outputs": [
        {
          "output_type": "execute_result",
          "data": {
            "text/html": [
              "<div>\n",
              "<style scoped>\n",
              "    .dataframe tbody tr th:only-of-type {\n",
              "        vertical-align: middle;\n",
              "    }\n",
              "\n",
              "    .dataframe tbody tr th {\n",
              "        vertical-align: top;\n",
              "    }\n",
              "\n",
              "    .dataframe thead th {\n",
              "        text-align: right;\n",
              "    }\n",
              "</style>\n",
              "<table border=\"1\" class=\"dataframe\">\n",
              "  <thead>\n",
              "    <tr style=\"text-align: right;\">\n",
              "      <th></th>\n",
              "      <th>text</th>\n",
              "    </tr>\n",
              "  </thead>\n",
              "  <tbody>\n",
              "    <tr>\n",
              "      <th>0</th>\n",
              "      <td>Un-bleeping-believable! Meg Ryan doesn't even ...</td>\n",
              "    </tr>\n",
              "    <tr>\n",
              "      <th>1</th>\n",
              "      <td>This is a extremely well-made film. The acting...</td>\n",
              "    </tr>\n",
              "    <tr>\n",
              "      <th>2</th>\n",
              "      <td>Every once in a long while a movie will come a...</td>\n",
              "    </tr>\n",
              "    <tr>\n",
              "      <th>3</th>\n",
              "      <td>Name just says it all. I watched this movie wi...</td>\n",
              "    </tr>\n",
              "    <tr>\n",
              "      <th>4</th>\n",
              "      <td>This movie succeeds at being one of the most u...</td>\n",
              "    </tr>\n",
              "    <tr>\n",
              "      <th>...</th>\n",
              "      <td>...</td>\n",
              "    </tr>\n",
              "    <tr>\n",
              "      <th>995</th>\n",
              "      <td>There are many different versions of this one ...</td>\n",
              "    </tr>\n",
              "    <tr>\n",
              "      <th>996</th>\n",
              "      <td>Once upon a time Hollywood produced live-actio...</td>\n",
              "    </tr>\n",
              "    <tr>\n",
              "      <th>997</th>\n",
              "      <td>Wenders was great with Million $ Hotel.I don't...</td>\n",
              "    </tr>\n",
              "    <tr>\n",
              "      <th>998</th>\n",
              "      <td>Although a film with Bruce Willis is always wo...</td>\n",
              "    </tr>\n",
              "    <tr>\n",
              "      <th>999</th>\n",
              "      <td>A compelling, honest, daring, and unforgettabl...</td>\n",
              "    </tr>\n",
              "  </tbody>\n",
              "</table>\n",
              "<p>1000 rows × 1 columns</p>\n",
              "</div>"
            ],
            "text/plain": [
              "                                                  text\n",
              "0    Un-bleeping-believable! Meg Ryan doesn't even ...\n",
              "1    This is a extremely well-made film. The acting...\n",
              "2    Every once in a long while a movie will come a...\n",
              "3    Name just says it all. I watched this movie wi...\n",
              "4    This movie succeeds at being one of the most u...\n",
              "..                                                 ...\n",
              "995  There are many different versions of this one ...\n",
              "996  Once upon a time Hollywood produced live-actio...\n",
              "997  Wenders was great with Million $ Hotel.I don't...\n",
              "998  Although a film with Bruce Willis is always wo...\n",
              "999  A compelling, honest, daring, and unforgettabl...\n",
              "\n",
              "[1000 rows x 1 columns]"
            ]
          },
          "metadata": {
            "tags": []
          },
          "execution_count": 110
        }
      ]
    },
    {
      "cell_type": "code",
      "metadata": {
        "id": "y8REOrkEAIVi",
        "colab_type": "code",
        "colab": {}
      },
      "source": [
        "x=trn_term_doc\n",
        "y=trn_y['label'][0]\n",
        "\n",
        "p = x[y=='positive'].sum(0)+1 # get all rows where class label is 'positive'\n",
        "q = x[y=='negative'].sum(0)+1 # get all rows where class label is 'negative'\n",
        "r = np.log((p/p.sum()) / (q/q.sum())) # log of the ratios\n",
        "b = np.log(len(p)/len(q)) # log of the class ratios ???"
      ],
      "execution_count": 0,
      "outputs": []
    },
    {
      "cell_type": "markdown",
      "metadata": {
        "id": "nRo5Hw6TYikl",
        "colab_type": "text"
      },
      "source": [
        "Here is the formula for Naive Bayes"
      ]
    },
    {
      "cell_type": "code",
      "metadata": {
        "id": "ZVCJ4hEgZkDz",
        "colab_type": "code",
        "colab": {
          "base_uri": "https://localhost:8080/",
          "height": 35
        },
        "outputId": "264e6117-6e11-435d-80f3-fa9672771a9d"
      },
      "source": [
        "val_y['label'][0]"
      ],
      "execution_count": 121,
      "outputs": [
        {
          "output_type": "execute_result",
          "data": {
            "text/plain": [
              "'positive'"
            ]
          },
          "metadata": {
            "tags": []
          },
          "execution_count": 121
        }
      ]
    },
    {
      "cell_type": "code",
      "metadata": {
        "id": "EupI1VsISjRH",
        "colab_type": "code",
        "colab": {
          "base_uri": "https://localhost:8080/",
          "height": 244
        },
        "outputId": "7cea9c30-8e2c-47da-cb0d-ba644451345b"
      },
      "source": [
        "pre_preds = val_term_doc @ r.T + b\n",
        "preds = pre_preds.T>0 # compare if it is bigger or smaller then 0 (not 1 because we are in log-space)\n",
        "(preds==val_y['label'][0]).mean() # ???"
      ],
      "execution_count": 126,
      "outputs": [
        {
          "output_type": "stream",
          "text": [
            "/usr/local/lib/python3.6/dist-packages/ipykernel_launcher.py:3: FutureWarning: elementwise comparison failed; returning scalar instead, but in the future will perform elementwise comparison\n",
            "  This is separate from the ipykernel package so we can avoid doing imports until\n"
          ],
          "name": "stderr"
        },
        {
          "output_type": "error",
          "ename": "AttributeError",
          "evalue": "ignored",
          "traceback": [
            "\u001b[0;31m---------------------------------------------------------------------------\u001b[0m",
            "\u001b[0;31mAttributeError\u001b[0m                            Traceback (most recent call last)",
            "\u001b[0;32m<ipython-input-126-5998b9adeb9a>\u001b[0m in \u001b[0;36m<module>\u001b[0;34m()\u001b[0m\n\u001b[1;32m      1\u001b[0m \u001b[0mpre_preds\u001b[0m \u001b[0;34m=\u001b[0m \u001b[0mval_term_doc\u001b[0m \u001b[0;34m@\u001b[0m \u001b[0mr\u001b[0m\u001b[0;34m.\u001b[0m\u001b[0mT\u001b[0m \u001b[0;34m+\u001b[0m \u001b[0mb\u001b[0m\u001b[0;34m\u001b[0m\u001b[0;34m\u001b[0m\u001b[0m\n\u001b[1;32m      2\u001b[0m \u001b[0mpreds\u001b[0m \u001b[0;34m=\u001b[0m \u001b[0mpre_preds\u001b[0m\u001b[0;34m.\u001b[0m\u001b[0mT\u001b[0m\u001b[0;34m>\u001b[0m\u001b[0;36m0\u001b[0m \u001b[0;31m# compare if it is bigger or smaller then 0 (not 1 because we are in log-space)\u001b[0m\u001b[0;34m\u001b[0m\u001b[0;34m\u001b[0m\u001b[0m\n\u001b[0;32m----> 3\u001b[0;31m \u001b[0;34m(\u001b[0m\u001b[0mpreds\u001b[0m\u001b[0;34m==\u001b[0m\u001b[0mval_y\u001b[0m\u001b[0;34m[\u001b[0m\u001b[0;34m'label'\u001b[0m\u001b[0;34m]\u001b[0m\u001b[0;34m[\u001b[0m\u001b[0;36m0\u001b[0m\u001b[0;34m]\u001b[0m\u001b[0;34m)\u001b[0m\u001b[0;34m.\u001b[0m\u001b[0mmean\u001b[0m\u001b[0;34m(\u001b[0m\u001b[0;34m)\u001b[0m \u001b[0;31m# ???\u001b[0m\u001b[0;34m\u001b[0m\u001b[0;34m\u001b[0m\u001b[0m\n\u001b[0m",
            "\u001b[0;31mAttributeError\u001b[0m: 'bool' object has no attribute 'mean'"
          ]
        }
      ]
    },
    {
      "cell_type": "code",
      "metadata": {
        "id": "FkiuuSoKbNcC",
        "colab_type": "code",
        "colab": {}
      },
      "source": [
        ""
      ],
      "execution_count": 0,
      "outputs": []
    }
  ]
}